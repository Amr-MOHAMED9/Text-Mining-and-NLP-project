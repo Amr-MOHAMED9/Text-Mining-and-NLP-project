{
 "cells": [
  {
   "cell_type": "code",
   "execution_count": 1,
   "id": "1b841bde",
   "metadata": {},
   "outputs": [
    {
     "name": "stderr",
     "output_type": "stream",
     "text": [
      "Warning message:\n",
      "\"package 'readr' was built under R version 3.6.3\""
     ]
    }
   ],
   "source": [
    "library(readr)"
   ]
  },
  {
   "cell_type": "code",
   "execution_count": 2,
   "id": "8a227a64",
   "metadata": {},
   "outputs": [
    {
     "name": "stderr",
     "output_type": "stream",
     "text": [
      "Installing package into 'H:/Documents/R/win-library/3.6'\n",
      "(as 'lib' is unspecified)\n"
     ]
    },
    {
     "name": "stdout",
     "output_type": "stream",
     "text": [
      "package 'matie' successfully unpacked and MD5 sums checked\n",
      "\n",
      "The downloaded binary packages are in\n",
      "\tC:\\Users\\Administrator\\AppData\\Local\\Temp\\RtmpC0yPE8\\downloaded_packages\n"
     ]
    },
    {
     "name": "stderr",
     "output_type": "stream",
     "text": [
      "Warning message:\n",
      "\"package 'matie' was built under R version 3.6.3\"Registered S3 methods overwritten by 'proxy':\n",
      "  method               from    \n",
      "  print.registry_field registry\n",
      "  print.registry_entry registry\n"
     ]
    }
   ],
   "source": [
    "install.packages('matie')\n",
    "library(matie)"
   ]
  },
  {
   "cell_type": "code",
   "execution_count": 26,
   "id": "c6b8cc6b",
   "metadata": {
    "scrolled": false
   },
   "outputs": [
    {
     "name": "stderr",
     "output_type": "stream",
     "text": [
      "Warning message:\n",
      "\"Missing column names filled in: 'X1' [1]\"\n",
      "\u001b[36m--\u001b[39m \u001b[1m\u001b[1mColumn specification\u001b[1m\u001b[22m \u001b[36m------------------------------------------------------------------------------------------------\u001b[39m\n",
      "cols(\n",
      "  X1 = \u001b[32mcol_double()\u001b[39m,\n",
      "  `0` = \u001b[32mcol_double()\u001b[39m,\n",
      "  `1` = \u001b[32mcol_double()\u001b[39m,\n",
      "  `2` = \u001b[32mcol_double()\u001b[39m,\n",
      "  `3` = \u001b[32mcol_double()\u001b[39m,\n",
      "  `4` = \u001b[32mcol_double()\u001b[39m,\n",
      "  `5` = \u001b[32mcol_double()\u001b[39m,\n",
      "  `6` = \u001b[32mcol_double()\u001b[39m,\n",
      "  `7` = \u001b[32mcol_double()\u001b[39m,\n",
      "  `8` = \u001b[32mcol_double()\u001b[39m,\n",
      "  `9` = \u001b[32mcol_double()\u001b[39m\n",
      ")\n",
      "\n"
     ]
    }
   ],
   "source": [
    "cos = read_csv('cosine_similarities.csv')\n",
    "cos <- cos[-c(1)]"
   ]
  },
  {
   "cell_type": "code",
   "execution_count": 27,
   "id": "abe1fc04",
   "metadata": {
    "scrolled": false
   },
   "outputs": [
    {
     "data": {
      "text/html": [
       "<table>\n",
       "<thead><tr><th scope=col>0</th><th scope=col>1</th><th scope=col>2</th><th scope=col>3</th><th scope=col>4</th><th scope=col>5</th><th scope=col>6</th><th scope=col>7</th><th scope=col>8</th><th scope=col>9</th></tr></thead>\n",
       "<tbody>\n",
       "\t<tr><td>0.000000000</td><td>0.03592161 </td><td>0.021659122</td><td>0.032213209</td><td>0.052357207</td><td>0.07983275 </td><td>0.06122255 </td><td>0.10384410 </td><td>0.11561095 </td><td>0.007495676</td></tr>\n",
       "\t<tr><td>0.035921609</td><td>0.00000000 </td><td>0.010522803</td><td>0.041354722</td><td>0.038380342</td><td>0.02962266 </td><td>0.10179859 </td><td>0.02335435 </td><td>0.04012118 </td><td>0.037735037</td></tr>\n",
       "\t<tr><td>0.021659122</td><td>0.01052280 </td><td>0.000000000</td><td>0.010933456</td><td>0.009753797</td><td>0.01003974 </td><td>0.01801602 </td><td>0.01054234 </td><td>0.01263475 </td><td>0.003916581</td></tr>\n",
       "\t<tr><td>0.032213209</td><td>0.04135472 </td><td>0.010933456</td><td>0.000000000</td><td>0.107415988</td><td>0.07285734 </td><td>0.03441819 </td><td>0.01661522 </td><td>0.01571284 </td><td>0.009286461</td></tr>\n",
       "\t<tr><td>0.052357207</td><td>0.03838034 </td><td>0.009753797</td><td>0.107415988</td><td>0.000000000</td><td>0.05732912 </td><td>0.05504735 </td><td>0.01695996 </td><td>0.02254057 </td><td>0.008931886</td></tr>\n",
       "\t<tr><td>0.079832746</td><td>0.02962266 </td><td>0.010039735</td><td>0.072857338</td><td>0.057329117</td><td>0.00000000 </td><td>0.05937702 </td><td>0.04325769 </td><td>0.06121237 </td><td>0.020801309</td></tr>\n",
       "\t<tr><td>0.061222547</td><td>0.10179859 </td><td>0.018016015</td><td>0.034418191</td><td>0.055047348</td><td>0.05937702 </td><td>0.00000000 </td><td>0.04351857 </td><td>0.06484720 </td><td>0.019260352</td></tr>\n",
       "\t<tr><td>0.103844103</td><td>0.02335435 </td><td>0.010542337</td><td>0.016615216</td><td>0.016959955</td><td>0.04325769 </td><td>0.04351857 </td><td>0.00000000 </td><td>0.14660439 </td><td>0.008168530</td></tr>\n",
       "\t<tr><td>0.115610951</td><td>0.04012118 </td><td>0.012634749</td><td>0.015712844</td><td>0.022540572</td><td>0.06121237 </td><td>0.06484720 </td><td>0.14660439 </td><td>0.00000000 </td><td>0.013204965</td></tr>\n",
       "\t<tr><td>0.007495676</td><td>0.03773504 </td><td>0.003916581</td><td>0.009286461</td><td>0.008931886</td><td>0.02080131 </td><td>0.01926035 </td><td>0.00816853 </td><td>0.01320496 </td><td>0.000000000</td></tr>\n",
       "</tbody>\n",
       "</table>\n"
      ],
      "text/latex": [
       "\\begin{tabular}{r|llllllllll}\n",
       " 0 & 1 & 2 & 3 & 4 & 5 & 6 & 7 & 8 & 9\\\\\n",
       "\\hline\n",
       "\t 0.000000000 & 0.03592161  & 0.021659122 & 0.032213209 & 0.052357207 & 0.07983275  & 0.06122255  & 0.10384410  & 0.11561095  & 0.007495676\\\\\n",
       "\t 0.035921609 & 0.00000000  & 0.010522803 & 0.041354722 & 0.038380342 & 0.02962266  & 0.10179859  & 0.02335435  & 0.04012118  & 0.037735037\\\\\n",
       "\t 0.021659122 & 0.01052280  & 0.000000000 & 0.010933456 & 0.009753797 & 0.01003974  & 0.01801602  & 0.01054234  & 0.01263475  & 0.003916581\\\\\n",
       "\t 0.032213209 & 0.04135472  & 0.010933456 & 0.000000000 & 0.107415988 & 0.07285734  & 0.03441819  & 0.01661522  & 0.01571284  & 0.009286461\\\\\n",
       "\t 0.052357207 & 0.03838034  & 0.009753797 & 0.107415988 & 0.000000000 & 0.05732912  & 0.05504735  & 0.01695996  & 0.02254057  & 0.008931886\\\\\n",
       "\t 0.079832746 & 0.02962266  & 0.010039735 & 0.072857338 & 0.057329117 & 0.00000000  & 0.05937702  & 0.04325769  & 0.06121237  & 0.020801309\\\\\n",
       "\t 0.061222547 & 0.10179859  & 0.018016015 & 0.034418191 & 0.055047348 & 0.05937702  & 0.00000000  & 0.04351857  & 0.06484720  & 0.019260352\\\\\n",
       "\t 0.103844103 & 0.02335435  & 0.010542337 & 0.016615216 & 0.016959955 & 0.04325769  & 0.04351857  & 0.00000000  & 0.14660439  & 0.008168530\\\\\n",
       "\t 0.115610951 & 0.04012118  & 0.012634749 & 0.015712844 & 0.022540572 & 0.06121237  & 0.06484720  & 0.14660439  & 0.00000000  & 0.013204965\\\\\n",
       "\t 0.007495676 & 0.03773504  & 0.003916581 & 0.009286461 & 0.008931886 & 0.02080131  & 0.01926035  & 0.00816853  & 0.01320496  & 0.000000000\\\\\n",
       "\\end{tabular}\n"
      ],
      "text/markdown": [
       "\n",
       "| 0 | 1 | 2 | 3 | 4 | 5 | 6 | 7 | 8 | 9 |\n",
       "|---|---|---|---|---|---|---|---|---|---|\n",
       "| 0.000000000 | 0.03592161  | 0.021659122 | 0.032213209 | 0.052357207 | 0.07983275  | 0.06122255  | 0.10384410  | 0.11561095  | 0.007495676 |\n",
       "| 0.035921609 | 0.00000000  | 0.010522803 | 0.041354722 | 0.038380342 | 0.02962266  | 0.10179859  | 0.02335435  | 0.04012118  | 0.037735037 |\n",
       "| 0.021659122 | 0.01052280  | 0.000000000 | 0.010933456 | 0.009753797 | 0.01003974  | 0.01801602  | 0.01054234  | 0.01263475  | 0.003916581 |\n",
       "| 0.032213209 | 0.04135472  | 0.010933456 | 0.000000000 | 0.107415988 | 0.07285734  | 0.03441819  | 0.01661522  | 0.01571284  | 0.009286461 |\n",
       "| 0.052357207 | 0.03838034  | 0.009753797 | 0.107415988 | 0.000000000 | 0.05732912  | 0.05504735  | 0.01695996  | 0.02254057  | 0.008931886 |\n",
       "| 0.079832746 | 0.02962266  | 0.010039735 | 0.072857338 | 0.057329117 | 0.00000000  | 0.05937702  | 0.04325769  | 0.06121237  | 0.020801309 |\n",
       "| 0.061222547 | 0.10179859  | 0.018016015 | 0.034418191 | 0.055047348 | 0.05937702  | 0.00000000  | 0.04351857  | 0.06484720  | 0.019260352 |\n",
       "| 0.103844103 | 0.02335435  | 0.010542337 | 0.016615216 | 0.016959955 | 0.04325769  | 0.04351857  | 0.00000000  | 0.14660439  | 0.008168530 |\n",
       "| 0.115610951 | 0.04012118  | 0.012634749 | 0.015712844 | 0.022540572 | 0.06121237  | 0.06484720  | 0.14660439  | 0.00000000  | 0.013204965 |\n",
       "| 0.007495676 | 0.03773504  | 0.003916581 | 0.009286461 | 0.008931886 | 0.02080131  | 0.01926035  | 0.00816853  | 0.01320496  | 0.000000000 |\n",
       "\n"
      ],
      "text/plain": [
       "   0           1          2           3           4           5         \n",
       "1  0.000000000 0.03592161 0.021659122 0.032213209 0.052357207 0.07983275\n",
       "2  0.035921609 0.00000000 0.010522803 0.041354722 0.038380342 0.02962266\n",
       "3  0.021659122 0.01052280 0.000000000 0.010933456 0.009753797 0.01003974\n",
       "4  0.032213209 0.04135472 0.010933456 0.000000000 0.107415988 0.07285734\n",
       "5  0.052357207 0.03838034 0.009753797 0.107415988 0.000000000 0.05732912\n",
       "6  0.079832746 0.02962266 0.010039735 0.072857338 0.057329117 0.00000000\n",
       "7  0.061222547 0.10179859 0.018016015 0.034418191 0.055047348 0.05937702\n",
       "8  0.103844103 0.02335435 0.010542337 0.016615216 0.016959955 0.04325769\n",
       "9  0.115610951 0.04012118 0.012634749 0.015712844 0.022540572 0.06121237\n",
       "10 0.007495676 0.03773504 0.003916581 0.009286461 0.008931886 0.02080131\n",
       "   6          7          8          9          \n",
       "1  0.06122255 0.10384410 0.11561095 0.007495676\n",
       "2  0.10179859 0.02335435 0.04012118 0.037735037\n",
       "3  0.01801602 0.01054234 0.01263475 0.003916581\n",
       "4  0.03441819 0.01661522 0.01571284 0.009286461\n",
       "5  0.05504735 0.01695996 0.02254057 0.008931886\n",
       "6  0.05937702 0.04325769 0.06121237 0.020801309\n",
       "7  0.00000000 0.04351857 0.06484720 0.019260352\n",
       "8  0.04351857 0.00000000 0.14660439 0.008168530\n",
       "9  0.06484720 0.14660439 0.00000000 0.013204965\n",
       "10 0.01926035 0.00816853 0.01320496 0.000000000"
      ]
     },
     "metadata": {},
     "output_type": "display_data"
    }
   ],
   "source": [
    "cpt=1\n",
    "s=0\n",
    "for (i in 1:10){\n",
    "    for (k in 1:10){\n",
    "        if (k ==i){\n",
    "            cos[i,k] = 0\n",
    "        }\n",
    "        \n",
    "        \n",
    "    }\n",
    "}\n",
    "cos"
   ]
  },
  {
   "cell_type": "code",
   "execution_count": 29,
   "id": "effbed19",
   "metadata": {},
   "outputs": [],
   "source": [
    "cos <- round(cos,2)"
   ]
  },
  {
   "cell_type": "code",
   "execution_count": 30,
   "id": "709d530c",
   "metadata": {},
   "outputs": [
    {
     "data": {
      "text/html": [
       "<table>\n",
       "<thead><tr><th scope=col>tel-03440321v1</th><th scope=col>tel-03440243v1</th><th scope=col>tel-03440181v1</th><th scope=col>tel-03440058v1</th><th scope=col>tel-03439538v1</th><th scope=col>tel-03439366v1</th><th scope=col>tel-03439358v1</th><th scope=col>tel-03439354v1</th><th scope=col>tel-03439346v1</th><th scope=col>tel-03439261v1</th></tr></thead>\n",
       "<tbody>\n",
       "\t<tr><td>0.00</td><td>0.04</td><td>0.02</td><td>0.03</td><td>0.05</td><td>0.08</td><td>0.06</td><td>0.10</td><td>0.12</td><td>0.01</td></tr>\n",
       "\t<tr><td>0.04</td><td>0.00</td><td>0.01</td><td>0.04</td><td>0.04</td><td>0.03</td><td>0.10</td><td>0.02</td><td>0.04</td><td>0.04</td></tr>\n",
       "\t<tr><td>0.02</td><td>0.01</td><td>0.00</td><td>0.01</td><td>0.01</td><td>0.01</td><td>0.02</td><td>0.01</td><td>0.01</td><td>0.00</td></tr>\n",
       "\t<tr><td>0.03</td><td>0.04</td><td>0.01</td><td>0.00</td><td>0.11</td><td>0.07</td><td>0.03</td><td>0.02</td><td>0.02</td><td>0.01</td></tr>\n",
       "\t<tr><td>0.05</td><td>0.04</td><td>0.01</td><td>0.11</td><td>0.00</td><td>0.06</td><td>0.06</td><td>0.02</td><td>0.02</td><td>0.01</td></tr>\n",
       "\t<tr><td>0.08</td><td>0.03</td><td>0.01</td><td>0.07</td><td>0.06</td><td>0.00</td><td>0.06</td><td>0.04</td><td>0.06</td><td>0.02</td></tr>\n",
       "\t<tr><td>0.06</td><td>0.10</td><td>0.02</td><td>0.03</td><td>0.06</td><td>0.06</td><td>0.00</td><td>0.04</td><td>0.06</td><td>0.02</td></tr>\n",
       "\t<tr><td>0.10</td><td>0.02</td><td>0.01</td><td>0.02</td><td>0.02</td><td>0.04</td><td>0.04</td><td>0.00</td><td>0.15</td><td>0.01</td></tr>\n",
       "\t<tr><td>0.12</td><td>0.04</td><td>0.01</td><td>0.02</td><td>0.02</td><td>0.06</td><td>0.06</td><td>0.15</td><td>0.00</td><td>0.01</td></tr>\n",
       "\t<tr><td>0.01</td><td>0.04</td><td>0.00</td><td>0.01</td><td>0.01</td><td>0.02</td><td>0.02</td><td>0.01</td><td>0.01</td><td>0.00</td></tr>\n",
       "</tbody>\n",
       "</table>\n"
      ],
      "text/latex": [
       "\\begin{tabular}{r|llllllllll}\n",
       " tel-03440321v1 & tel-03440243v1 & tel-03440181v1 & tel-03440058v1 & tel-03439538v1 & tel-03439366v1 & tel-03439358v1 & tel-03439354v1 & tel-03439346v1 & tel-03439261v1\\\\\n",
       "\\hline\n",
       "\t 0.00 & 0.04 & 0.02 & 0.03 & 0.05 & 0.08 & 0.06 & 0.10 & 0.12 & 0.01\\\\\n",
       "\t 0.04 & 0.00 & 0.01 & 0.04 & 0.04 & 0.03 & 0.10 & 0.02 & 0.04 & 0.04\\\\\n",
       "\t 0.02 & 0.01 & 0.00 & 0.01 & 0.01 & 0.01 & 0.02 & 0.01 & 0.01 & 0.00\\\\\n",
       "\t 0.03 & 0.04 & 0.01 & 0.00 & 0.11 & 0.07 & 0.03 & 0.02 & 0.02 & 0.01\\\\\n",
       "\t 0.05 & 0.04 & 0.01 & 0.11 & 0.00 & 0.06 & 0.06 & 0.02 & 0.02 & 0.01\\\\\n",
       "\t 0.08 & 0.03 & 0.01 & 0.07 & 0.06 & 0.00 & 0.06 & 0.04 & 0.06 & 0.02\\\\\n",
       "\t 0.06 & 0.10 & 0.02 & 0.03 & 0.06 & 0.06 & 0.00 & 0.04 & 0.06 & 0.02\\\\\n",
       "\t 0.10 & 0.02 & 0.01 & 0.02 & 0.02 & 0.04 & 0.04 & 0.00 & 0.15 & 0.01\\\\\n",
       "\t 0.12 & 0.04 & 0.01 & 0.02 & 0.02 & 0.06 & 0.06 & 0.15 & 0.00 & 0.01\\\\\n",
       "\t 0.01 & 0.04 & 0.00 & 0.01 & 0.01 & 0.02 & 0.02 & 0.01 & 0.01 & 0.00\\\\\n",
       "\\end{tabular}\n"
      ],
      "text/markdown": [
       "\n",
       "| tel-03440321v1 | tel-03440243v1 | tel-03440181v1 | tel-03440058v1 | tel-03439538v1 | tel-03439366v1 | tel-03439358v1 | tel-03439354v1 | tel-03439346v1 | tel-03439261v1 |\n",
       "|---|---|---|---|---|---|---|---|---|---|\n",
       "| 0.00 | 0.04 | 0.02 | 0.03 | 0.05 | 0.08 | 0.06 | 0.10 | 0.12 | 0.01 |\n",
       "| 0.04 | 0.00 | 0.01 | 0.04 | 0.04 | 0.03 | 0.10 | 0.02 | 0.04 | 0.04 |\n",
       "| 0.02 | 0.01 | 0.00 | 0.01 | 0.01 | 0.01 | 0.02 | 0.01 | 0.01 | 0.00 |\n",
       "| 0.03 | 0.04 | 0.01 | 0.00 | 0.11 | 0.07 | 0.03 | 0.02 | 0.02 | 0.01 |\n",
       "| 0.05 | 0.04 | 0.01 | 0.11 | 0.00 | 0.06 | 0.06 | 0.02 | 0.02 | 0.01 |\n",
       "| 0.08 | 0.03 | 0.01 | 0.07 | 0.06 | 0.00 | 0.06 | 0.04 | 0.06 | 0.02 |\n",
       "| 0.06 | 0.10 | 0.02 | 0.03 | 0.06 | 0.06 | 0.00 | 0.04 | 0.06 | 0.02 |\n",
       "| 0.10 | 0.02 | 0.01 | 0.02 | 0.02 | 0.04 | 0.04 | 0.00 | 0.15 | 0.01 |\n",
       "| 0.12 | 0.04 | 0.01 | 0.02 | 0.02 | 0.06 | 0.06 | 0.15 | 0.00 | 0.01 |\n",
       "| 0.01 | 0.04 | 0.00 | 0.01 | 0.01 | 0.02 | 0.02 | 0.01 | 0.01 | 0.00 |\n",
       "\n"
      ],
      "text/plain": [
       "   tel-03440321v1 tel-03440243v1 tel-03440181v1 tel-03440058v1 tel-03439538v1\n",
       "1  0.00           0.04           0.02           0.03           0.05          \n",
       "2  0.04           0.00           0.01           0.04           0.04          \n",
       "3  0.02           0.01           0.00           0.01           0.01          \n",
       "4  0.03           0.04           0.01           0.00           0.11          \n",
       "5  0.05           0.04           0.01           0.11           0.00          \n",
       "6  0.08           0.03           0.01           0.07           0.06          \n",
       "7  0.06           0.10           0.02           0.03           0.06          \n",
       "8  0.10           0.02           0.01           0.02           0.02          \n",
       "9  0.12           0.04           0.01           0.02           0.02          \n",
       "10 0.01           0.04           0.00           0.01           0.01          \n",
       "   tel-03439366v1 tel-03439358v1 tel-03439354v1 tel-03439346v1 tel-03439261v1\n",
       "1  0.08           0.06           0.10           0.12           0.01          \n",
       "2  0.03           0.10           0.02           0.04           0.04          \n",
       "3  0.01           0.02           0.01           0.01           0.00          \n",
       "4  0.07           0.03           0.02           0.02           0.01          \n",
       "5  0.06           0.06           0.02           0.02           0.01          \n",
       "6  0.00           0.06           0.04           0.06           0.02          \n",
       "7  0.06           0.00           0.04           0.06           0.02          \n",
       "8  0.04           0.04           0.00           0.15           0.01          \n",
       "9  0.06           0.06           0.15           0.00           0.01          \n",
       "10 0.02           0.02           0.01           0.01           0.00          "
      ]
     },
     "metadata": {},
     "output_type": "display_data"
    }
   ],
   "source": [
    "names(cos) <- c('tel-03440321v1',\n",
    "             'tel-03440243v1',\n",
    "             'tel-03440181v1',\n",
    "             'tel-03440058v1',\n",
    "             'tel-03439538v1',\n",
    "             'tel-03439366v1',\n",
    "             'tel-03439358v1',\n",
    "             'tel-03439354v1',\n",
    "             'tel-03439346v1',\n",
    "             'tel-03439261v1')\n",
    "cos"
   ]
  },
  {
   "cell_type": "code",
   "execution_count": 31,
   "id": "8cc8fded",
   "metadata": {},
   "outputs": [],
   "source": [
    "library(tibble)\n",
    "cos <-add_column(cos, d = c('tel-03440321v1',\n",
    "             'tel-03440243v1',\n",
    "             'tel-03440181v1',\n",
    "             'tel-03440058v1',\n",
    "             'tel-03439538v1',\n",
    "             'tel-03439366v1',\n",
    "             'tel-03439358v1',\n",
    "             'tel-03439354v1',\n",
    "             'tel-03439346v1',\n",
    "             'tel-03439261v1'), .before = 1)\n"
   ]
  },
  {
   "cell_type": "code",
   "execution_count": 32,
   "id": "2ffd8be8",
   "metadata": {},
   "outputs": [
    {
     "data": {
      "text/html": [
       "<table>\n",
       "<thead><tr><th scope=col>d</th><th scope=col>tel-03440321v1</th><th scope=col>tel-03440243v1</th><th scope=col>tel-03440181v1</th><th scope=col>tel-03440058v1</th><th scope=col>tel-03439538v1</th><th scope=col>tel-03439366v1</th><th scope=col>tel-03439358v1</th><th scope=col>tel-03439354v1</th><th scope=col>tel-03439346v1</th><th scope=col>tel-03439261v1</th></tr></thead>\n",
       "<tbody>\n",
       "\t<tr><td>tel-03440321v1</td><td>0.00          </td><td>0.04          </td><td>0.02          </td><td>0.03          </td><td>0.05          </td><td>0.08          </td><td>0.06          </td><td>0.10          </td><td>0.12          </td><td>0.01          </td></tr>\n",
       "\t<tr><td>tel-03440243v1</td><td>0.04          </td><td>0.00          </td><td>0.01          </td><td>0.04          </td><td>0.04          </td><td>0.03          </td><td>0.10          </td><td>0.02          </td><td>0.04          </td><td>0.04          </td></tr>\n",
       "\t<tr><td>tel-03440181v1</td><td>0.02          </td><td>0.01          </td><td>0.00          </td><td>0.01          </td><td>0.01          </td><td>0.01          </td><td>0.02          </td><td>0.01          </td><td>0.01          </td><td>0.00          </td></tr>\n",
       "\t<tr><td>tel-03440058v1</td><td>0.03          </td><td>0.04          </td><td>0.01          </td><td>0.00          </td><td>0.11          </td><td>0.07          </td><td>0.03          </td><td>0.02          </td><td>0.02          </td><td>0.01          </td></tr>\n",
       "\t<tr><td>tel-03439538v1</td><td>0.05          </td><td>0.04          </td><td>0.01          </td><td>0.11          </td><td>0.00          </td><td>0.06          </td><td>0.06          </td><td>0.02          </td><td>0.02          </td><td>0.01          </td></tr>\n",
       "\t<tr><td>tel-03439366v1</td><td>0.08          </td><td>0.03          </td><td>0.01          </td><td>0.07          </td><td>0.06          </td><td>0.00          </td><td>0.06          </td><td>0.04          </td><td>0.06          </td><td>0.02          </td></tr>\n",
       "\t<tr><td>tel-03439358v1</td><td>0.06          </td><td>0.10          </td><td>0.02          </td><td>0.03          </td><td>0.06          </td><td>0.06          </td><td>0.00          </td><td>0.04          </td><td>0.06          </td><td>0.02          </td></tr>\n",
       "\t<tr><td>tel-03439354v1</td><td>0.10          </td><td>0.02          </td><td>0.01          </td><td>0.02          </td><td>0.02          </td><td>0.04          </td><td>0.04          </td><td>0.00          </td><td>0.15          </td><td>0.01          </td></tr>\n",
       "\t<tr><td>tel-03439346v1</td><td>0.12          </td><td>0.04          </td><td>0.01          </td><td>0.02          </td><td>0.02          </td><td>0.06          </td><td>0.06          </td><td>0.15          </td><td>0.00          </td><td>0.01          </td></tr>\n",
       "\t<tr><td>tel-03439261v1</td><td>0.01          </td><td>0.04          </td><td>0.00          </td><td>0.01          </td><td>0.01          </td><td>0.02          </td><td>0.02          </td><td>0.01          </td><td>0.01          </td><td>0.00          </td></tr>\n",
       "</tbody>\n",
       "</table>\n"
      ],
      "text/latex": [
       "\\begin{tabular}{r|lllllllllll}\n",
       " d & tel-03440321v1 & tel-03440243v1 & tel-03440181v1 & tel-03440058v1 & tel-03439538v1 & tel-03439366v1 & tel-03439358v1 & tel-03439354v1 & tel-03439346v1 & tel-03439261v1\\\\\n",
       "\\hline\n",
       "\t tel-03440321v1 & 0.00           & 0.04           & 0.02           & 0.03           & 0.05           & 0.08           & 0.06           & 0.10           & 0.12           & 0.01          \\\\\n",
       "\t tel-03440243v1 & 0.04           & 0.00           & 0.01           & 0.04           & 0.04           & 0.03           & 0.10           & 0.02           & 0.04           & 0.04          \\\\\n",
       "\t tel-03440181v1 & 0.02           & 0.01           & 0.00           & 0.01           & 0.01           & 0.01           & 0.02           & 0.01           & 0.01           & 0.00          \\\\\n",
       "\t tel-03440058v1 & 0.03           & 0.04           & 0.01           & 0.00           & 0.11           & 0.07           & 0.03           & 0.02           & 0.02           & 0.01          \\\\\n",
       "\t tel-03439538v1 & 0.05           & 0.04           & 0.01           & 0.11           & 0.00           & 0.06           & 0.06           & 0.02           & 0.02           & 0.01          \\\\\n",
       "\t tel-03439366v1 & 0.08           & 0.03           & 0.01           & 0.07           & 0.06           & 0.00           & 0.06           & 0.04           & 0.06           & 0.02          \\\\\n",
       "\t tel-03439358v1 & 0.06           & 0.10           & 0.02           & 0.03           & 0.06           & 0.06           & 0.00           & 0.04           & 0.06           & 0.02          \\\\\n",
       "\t tel-03439354v1 & 0.10           & 0.02           & 0.01           & 0.02           & 0.02           & 0.04           & 0.04           & 0.00           & 0.15           & 0.01          \\\\\n",
       "\t tel-03439346v1 & 0.12           & 0.04           & 0.01           & 0.02           & 0.02           & 0.06           & 0.06           & 0.15           & 0.00           & 0.01          \\\\\n",
       "\t tel-03439261v1 & 0.01           & 0.04           & 0.00           & 0.01           & 0.01           & 0.02           & 0.02           & 0.01           & 0.01           & 0.00          \\\\\n",
       "\\end{tabular}\n"
      ],
      "text/markdown": [
       "\n",
       "| d | tel-03440321v1 | tel-03440243v1 | tel-03440181v1 | tel-03440058v1 | tel-03439538v1 | tel-03439366v1 | tel-03439358v1 | tel-03439354v1 | tel-03439346v1 | tel-03439261v1 |\n",
       "|---|---|---|---|---|---|---|---|---|---|---|\n",
       "| tel-03440321v1 | 0.00           | 0.04           | 0.02           | 0.03           | 0.05           | 0.08           | 0.06           | 0.10           | 0.12           | 0.01           |\n",
       "| tel-03440243v1 | 0.04           | 0.00           | 0.01           | 0.04           | 0.04           | 0.03           | 0.10           | 0.02           | 0.04           | 0.04           |\n",
       "| tel-03440181v1 | 0.02           | 0.01           | 0.00           | 0.01           | 0.01           | 0.01           | 0.02           | 0.01           | 0.01           | 0.00           |\n",
       "| tel-03440058v1 | 0.03           | 0.04           | 0.01           | 0.00           | 0.11           | 0.07           | 0.03           | 0.02           | 0.02           | 0.01           |\n",
       "| tel-03439538v1 | 0.05           | 0.04           | 0.01           | 0.11           | 0.00           | 0.06           | 0.06           | 0.02           | 0.02           | 0.01           |\n",
       "| tel-03439366v1 | 0.08           | 0.03           | 0.01           | 0.07           | 0.06           | 0.00           | 0.06           | 0.04           | 0.06           | 0.02           |\n",
       "| tel-03439358v1 | 0.06           | 0.10           | 0.02           | 0.03           | 0.06           | 0.06           | 0.00           | 0.04           | 0.06           | 0.02           |\n",
       "| tel-03439354v1 | 0.10           | 0.02           | 0.01           | 0.02           | 0.02           | 0.04           | 0.04           | 0.00           | 0.15           | 0.01           |\n",
       "| tel-03439346v1 | 0.12           | 0.04           | 0.01           | 0.02           | 0.02           | 0.06           | 0.06           | 0.15           | 0.00           | 0.01           |\n",
       "| tel-03439261v1 | 0.01           | 0.04           | 0.00           | 0.01           | 0.01           | 0.02           | 0.02           | 0.01           | 0.01           | 0.00           |\n",
       "\n"
      ],
      "text/plain": [
       "   d              tel-03440321v1 tel-03440243v1 tel-03440181v1 tel-03440058v1\n",
       "1  tel-03440321v1 0.00           0.04           0.02           0.03          \n",
       "2  tel-03440243v1 0.04           0.00           0.01           0.04          \n",
       "3  tel-03440181v1 0.02           0.01           0.00           0.01          \n",
       "4  tel-03440058v1 0.03           0.04           0.01           0.00          \n",
       "5  tel-03439538v1 0.05           0.04           0.01           0.11          \n",
       "6  tel-03439366v1 0.08           0.03           0.01           0.07          \n",
       "7  tel-03439358v1 0.06           0.10           0.02           0.03          \n",
       "8  tel-03439354v1 0.10           0.02           0.01           0.02          \n",
       "9  tel-03439346v1 0.12           0.04           0.01           0.02          \n",
       "10 tel-03439261v1 0.01           0.04           0.00           0.01          \n",
       "   tel-03439538v1 tel-03439366v1 tel-03439358v1 tel-03439354v1 tel-03439346v1\n",
       "1  0.05           0.08           0.06           0.10           0.12          \n",
       "2  0.04           0.03           0.10           0.02           0.04          \n",
       "3  0.01           0.01           0.02           0.01           0.01          \n",
       "4  0.11           0.07           0.03           0.02           0.02          \n",
       "5  0.00           0.06           0.06           0.02           0.02          \n",
       "6  0.06           0.00           0.06           0.04           0.06          \n",
       "7  0.06           0.06           0.00           0.04           0.06          \n",
       "8  0.02           0.04           0.04           0.00           0.15          \n",
       "9  0.02           0.06           0.06           0.15           0.00          \n",
       "10 0.01           0.02           0.02           0.01           0.01          \n",
       "   tel-03439261v1\n",
       "1  0.01          \n",
       "2  0.04          \n",
       "3  0.00          \n",
       "4  0.01          \n",
       "5  0.01          \n",
       "6  0.02          \n",
       "7  0.02          \n",
       "8  0.01          \n",
       "9  0.01          \n",
       "10 0.00          "
      ]
     },
     "metadata": {},
     "output_type": "display_data"
    }
   ],
   "source": [
    "cos"
   ]
  },
  {
   "cell_type": "code",
   "execution_count": 6,
   "id": "899de43f",
   "metadata": {
    "scrolled": true
   },
   "outputs": [
    {
     "name": "stderr",
     "output_type": "stream",
     "text": [
      "Installing package into 'H:/Documents/R/win-library/3.6'\n",
      "(as 'lib' is unspecified)\n"
     ]
    },
    {
     "name": "stdout",
     "output_type": "stream",
     "text": [
      "\n",
      "  There is a binary version available but the source version is later:\n",
      "       binary source needs_compilation\n",
      "qgraph  1.6.9    1.9              TRUE\n",
      "\n",
      "  Binaries will be installed\n",
      "package 'qgraph' successfully unpacked and MD5 sums checked\n",
      "\n",
      "The downloaded binary packages are in\n",
      "\tC:\\Users\\Administrator\\AppData\\Local\\Temp\\RtmpC0yPE8\\downloaded_packages\n"
     ]
    },
    {
     "name": "stderr",
     "output_type": "stream",
     "text": [
      "Warning message:\n",
      "\"package 'qgraph' was built under R version 3.6.3\""
     ]
    }
   ],
   "source": [
    "install.packages('qgraph')\n",
    "library(qgraph)"
   ]
  },
  {
   "cell_type": "code",
   "execution_count": 11,
   "id": "e4e2d4b3",
   "metadata": {},
   "outputs": [
    {
     "ename": "ERROR",
     "evalue": "Error in plot(q1) + legend(\"bottomright\", legend = c(\"0 -> tel-03440321\", : argument non numérique pour un opérateur binaire\n",
     "output_type": "error",
     "traceback": [
      "Error in plot(q1) + legend(\"bottomright\", legend = c(\"0 -> tel-03440321\", : argument non numérique pour un opérateur binaire\nTraceback:\n"
     ]
    },
    {
     "data": {
      "image/png": "[encoded data removed]",
      "text/plain": [
       "plot without title"
      ]
     },
     "metadata": {},
     "output_type": "display_data"
    }
   ],
   "source": [
    "q1 <- qgraph(cos,esize=20)\n",
    "plot(q1)+ legend(\"bottomright\", legend = c('0 -> tel-03440321', '1 -> tel-03440243','2 -> tel-03440181',\n",
    "                                        '3 -> tel-03440058','4 -> tel-03439538',\n",
    "                                        '5 -> tel-03439366','6 -> tel-03439358','7 -> tel-03439354'\n",
    "                                       ,'8 -> tel-03439346','9 -> tel-03439261'),cex=0.6\n",
    "                )"
   ]
  },
  {
   "cell_type": "code",
   "execution_count": null,
   "id": "21b087c6",
   "metadata": {},
   "outputs": [],
   "source": []
  }
 ],
 "metadata": {
  "kernelspec": {
   "display_name": "R",
   "language": "R",
   "name": "ir"
  },
  "language_info": {
   "codemirror_mode": "r",
   "file_extension": ".r",
   "mimetype": "text/x-r-source",
   "name": "R",
   "pygments_lexer": "r",
   "version": "3.6.1"
  }
 },
 "nbformat": 4,
 "nbformat_minor": 5
}
