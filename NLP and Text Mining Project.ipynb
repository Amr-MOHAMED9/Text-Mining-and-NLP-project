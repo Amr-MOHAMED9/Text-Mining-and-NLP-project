{
 "cells": [
  {
   "cell_type": "code",
   "execution_count": 119,
   "metadata": {},
   "outputs": [],
   "source": [
    "import os\n",
    "import pandas as pd\n",
    "import numpy as np\n",
    "from scipy.stats import randint\n",
    "import seaborn as sns\n",
    "import matplotlib.pyplot as plt\n",
    "import seaborn as sns\n",
    "from io import StringIO\n",
    "from sklearn.feature_extraction.text import TfidfVectorizer\n",
    "from sklearn.feature_selection import chi2\n",
    "from IPython.display import display\n",
    "from sklearn.model_selection import train_test_split\n",
    "from sklearn.feature_extraction.text import TfidfTransformer\n",
    "from sklearn.naive_bayes import MultinomialNB\n",
    "from sklearn.linear_model import LogisticRegression\n",
    "from sklearn.ensemble import RandomForestClassifier\n",
    "from sklearn.svm import LinearSVC\n",
    "from sklearn.model_selection import cross_val_score\n",
    "from sklearn.metrics import confusion_matrix\n",
    "from sklearn import metrics\n",
    "from sklearn.feature_extraction.text import CountVectorizer\n",
    "pd.set_option(\"max_rows\", 600)\n",
    "from pathlib import Path  \n",
    "import glob\n",
    "\n",
    "from spacy.lang.fr.stop_words import STOP_WORDS as fr_stop\n",
    "from spacy.lang.en.stop_words import STOP_WORDS as en_stop\n",
    "from spacy.lang.pt.stop_words import STOP_WORDS as pt_stop\n",
    "from spacy.lang.ro.stop_words import STOP_WORDS as ro_stop\n",
    "\n",
    "from scipy.spatial import distance_matrix\n",
    "from sklearn.metrics.pairwise import linear_kernel\n",
    "import altair as alt\n",
    "import numpy as np\n",
    "from langdetect import detect\n",
    "import requests"
   ]
  },
  {
   "cell_type": "code",
   "execution_count": 38,
   "metadata": {},
   "outputs": [],
   "source": [
    "\n",
    "\n",
    "url = 'https://tel.archives-ouvertes.fr/tel-03440181/document'\n",
    "r = requests.get(url, stream=True)\n",
    "\n",
    "with open('C:\\\\Users\\\\Administrator\\\\metadata.pdf', 'wb') as fd:\n",
    "    for chunk in r.iter_content(1):\n",
    "        fd.write(chunk)"
   ]
  },
  {
   "cell_type": "code",
   "execution_count": 121,
   "metadata": {},
   "outputs": [],
   "source": [
    "from bs4 import BeautifulSoup \n"
   ]
  },
  {
   "cell_type": "code",
   "execution_count": 40,
   "metadata": {},
   "outputs": [],
   "source": [
    "link=\"https://tel.archives-ouvertes.fr/search/index/?q=%2A&sort=submittedDate_tdate+desc&rows=50\"\n",
    "cpt=0\n",
    "pages=[]\n",
    "for i in range (1):\n",
    "   pages.append(link)\n",
    "total_pages=[]\n",
    "for i in pages:\n",
    "    cpt+=1\n",
    "    print(cpt)\n",
    "    r = requests.get(i) \n",
    "    soup = BeautifulSoup(r.text, 'html.parser')\n",
    "    links=[]#the list of links\n",
    "    for i in soup.find_all('a',{'class':'ref-halid'}):\n",
    "        links.append(i.get_text()) \n",
    "\n",
    "\n",
    "    total_pages+=links"
   ]
  },
  {
   "cell_type": "code",
   "execution_count": 41,
   "metadata": {
    "scrolled": true
   },
   "outputs": [],
   "source": [
    "for i in total_pages:\n",
    "    url = 'https://tel.archives-ouvertes.fr/'+i+'/document'\n",
    "    r = requests.get(url, stream=True)\n",
    "\n",
    "    with open('C:\\\\Users\\\\Administrator\\\\'+str(i)+'.pdf', 'wb') as fd:\n",
    "        for chunk in r.iter_content(1):\n",
    "            fd.write(chunk)"
   ]
  },
  {
   "cell_type": "code",
   "execution_count": 42,
   "metadata": {},
   "outputs": [],
   "source": [
    "import urllib.request"
   ]
  },
  {
   "cell_type": "code",
   "execution_count": 43,
   "metadata": {
    "scrolled": true
   },
   "outputs": [],
   "source": [
    "count=0\n",
    "for i in total_pages:\n",
    "\n",
    "    url = 'https://tel.archives-ouvertes.fr/'+i+'/document'\n",
    "    urllib.request.urlretrieve(url, \"{}.pdf\".format(i))\n",
    "    print(count)\n",
    "    count +=1"
   ]
  },
  {
   "cell_type": "markdown",
   "metadata": {},
   "source": [
    "# PDF to TXT conversion"
   ]
  },
  {
   "cell_type": "code",
   "execution_count": 44,
   "metadata": {},
   "outputs": [],
   "source": [
    "filesNames = ['tel-03440321v1',\n",
    " 'tel-03440243v1',\n",
    " 'tel-03440181v1',\n",
    " 'tel-03440058v1',\n",
    " 'tel-03439538v1',\n",
    " 'tel-03439366v1',\n",
    " 'tel-03439358v1',\n",
    " 'tel-03439354v1',\n",
    " 'tel-03439346v1',\n",
    " 'tel-03439261v1',\n",
    " 'tel-03438938v1',\n",
    " 'tel-03438925v1',\n",
    " 'tel-03438923v1',\n",
    " 'tel-03438921v1',\n",
    " 'tel-03438863v1',\n",
    " 'tel-03438829v1',\n",
    " 'tel-03438828v1',\n",
    " 'tel-03438811v1',\n",
    " 'tel-03438755v1',\n",
    " 'tel-03438105v1',\n",
    " 'tel-03438104v1',\n",
    " 'tel-03438103v1',\n",
    " 'tel-03438102v1',\n",
    " 'tel-03438101v1',\n",
    " 'tel-03438100v1',\n",
    " 'tel-03437616v1',\n",
    " 'tel-03437573v1',\n",
    " 'tel-03437572v1',\n",
    " 'tel-01689242v1',\n",
    " 'tel-03412908v1',\n",
    " 'tel-03437282v1',\n",
    " 'tel-03437096v1',\n",
    " 'tel-03437063v1',\n",
    " 'tel-03096870v2',\n",
    " 'tel-03436551v1',\n",
    " 'tel-03436548v1',\n",
    " 'tel-03436545v1',\n",
    " 'tel-03436542v2',\n",
    " 'tel-03436530v1',\n",
    " 'tel-03436527v1',\n",
    " 'tel-03436501v1',\n",
    " 'tel-03436409v1',\n",
    " 'tel-03436405v1',\n",
    " 'tel-03436394v1',\n",
    " 'tel-03436372v1',\n",
    " 'tel-03436368v1',\n",
    " 'tel-03436364v1',\n",
    " 'tel-03436335v1',\n",
    " 'tel-03436173v1',\n",
    " 'tel-03436157v1']"
   ]
  },
  {
   "cell_type": "code",
   "execution_count": 122,
   "metadata": {},
   "outputs": [],
   "source": [
    "url1='https://tel.archives-ouvertes.fr/'\n",
    "cpt=0\n",
    "final=[]\n",
    "for i in filesNames:\n",
    "    url = url1+i\n",
    "    r = requests.get(url) \n",
    "    soup = BeautifulSoup(r.text, 'html.parser')\n",
    "    title=''\n",
    "    if (soup.find('meta',attrs={'name':\"DC.title\"})):\n",
    "        title=(soup.find('meta',attrs={'name':\"DC.title\"}).get('content'))\n",
    "    elif (soup.find('meta',attrs={'name':\"citation_title\"})):\n",
    "        title=(soup.find('meta',attrs={'name':\"citation_title\"}).get('content'))\n",
    "    else:\n",
    "        title=''\n",
    "    final.append(title)"
   ]
  },
  {
   "cell_type": "code",
   "execution_count": 124,
   "metadata": {},
   "outputs": [
    {
     "data": {
      "text/plain": [
       "['Education, Well-Being and Aspirations ; a Capability based Analysis of the Secondary Schooling System in France',\n",
       " \"L'impact des systèmes d'information hospitaliers sur la sécurisation du parcours de prise en charge du patient\",\n",
       " \"Algorithmes multi-critères pour la prédiction de structures d'ARN\",\n",
       " 'La microfinance et appui au microentrepreneuriat : cas du Burundi',\n",
       " \"Importance de la re-domestication pour la conservation de l'agrobiodiversité : le cas du châtaignier\"]"
      ]
     },
     "execution_count": 124,
     "metadata": {},
     "output_type": "execute_result"
    }
   ],
   "source": [
    "titles=final\n",
    "titles[:5]"
   ]
  },
  {
   "cell_type": "code",
   "execution_count": 45,
   "metadata": {},
   "outputs": [],
   "source": [
    "import pdftotext\n",
    "# Load your PDF"
   ]
  },
  {
   "cell_type": "code",
   "execution_count": 46,
   "metadata": {},
   "outputs": [],
   "source": [
    "for i in filesNames:\n",
    "    with open('TelPDF//tel-03412908v1'+\".pdf\", \"rb\") as f:\n",
    "        pdf = pdftotext.PDF(f)\n",
    "\n",
    "    # Save all text to a txt file.\n",
    "    with open('tel-03412908v2222'+'.txt', 'w',encoding = 'utf-8') as f:\n",
    "        f.write(\"\\n\\n\".join(pdf))"
   ]
  },
  {
   "cell_type": "code",
   "execution_count": 47,
   "metadata": {},
   "outputs": [],
   "source": [
    "with open(i+\".pdf\", \"rb\") as f:\n",
    "    pdf = pdftotext.PDF(f)\n",
    "\n",
    "# Save all text to a txt file.\n",
    "with open(i+'.txt', 'w',encoding = 'utf-8') as f:\n",
    "    f.write(\"\\n\\n\".join(pdf))"
   ]
  },
  {
   "cell_type": "code",
   "execution_count": 49,
   "metadata": {
    "scrolled": true
   },
   "outputs": [],
   "source": [
    "dataset = []\n",
    "file = open(\"TelTXT//tel-03412908v1.txt\", 'r')\n",
    "text = file.read().strip()\n",
    "file.close()\n",
    "\n",
    "for j in range(len(file)):\n",
    "    dataset.append((str(i) + str(file_name[j]), file_title[j]))"
   ]
  },
  {
   "cell_type": "code",
   "execution_count": 50,
   "metadata": {},
   "outputs": [],
   "source": [
    "with open(\"TelTXT//tel-03412908v1.txt\", \"r\",encoding=\"utf-8\") as f:\n",
    "    #read file as text and store in variable `text`\n",
    "    text = f.read()"
   ]
  },
  {
   "cell_type": "markdown",
   "metadata": {},
   "source": [
    "# Language detection using stop words in NLTK"
   ]
  },
  {
   "cell_type": "code",
   "execution_count": 51,
   "metadata": {},
   "outputs": [],
   "source": [
    "try:\n",
    "    from nltk import wordpunct_tokenize\n",
    "    from nltk.corpus import stopwords\n",
    "except ImportError:\n",
    "    print ('[!] You need to install nltk (http://nltk.org/index.html)')\n"
   ]
  },
  {
   "cell_type": "code",
   "execution_count": 52,
   "metadata": {},
   "outputs": [],
   "source": [
    "\n",
    "\n",
    "\n",
    "#----------------------------------------------------------------------\n",
    "def _calculate_languages_ratios(text):\n",
    "    \"\"\"\n",
    "    Calculate probability of given text to be written in several languages and\n",
    "    return a dictionary that looks like {'french': 2, 'spanish': 4, 'english': 0}\n",
    "    \n",
    "    @param text: Text whose language want to be detected\n",
    "    @type text: str\n",
    "    \n",
    "    @return: Dictionary with languages and unique stopwords seen in analyzed text\n",
    "    @rtype: dict\n",
    "    \"\"\"\n",
    "\n",
    "    languages_ratios = {}\n",
    "\n",
    "    '''\n",
    "    nltk.wordpunct_tokenize() splits all punctuations into separate tokens\n",
    "    \n",
    "    >>> wordpunct_tokenize(\"That's thirty minutes away. I'll be there in ten.\")\n",
    "    ['That', \"'\", 's', 'thirty', 'minutes', 'away', '.', 'I', \"'\", 'll', 'be', 'there', 'in', 'ten', '.']\n",
    "    '''\n",
    "\n",
    "    tokens = wordpunct_tokenize(text)\n",
    "    words = [word.lower() for word in tokens]\n",
    "\n",
    "    # Compute per language included in nltk number of unique stopwords appearing in analyzed text\n",
    "    for language in stopwords.fileids():\n",
    "        stopwords_set = set(stopwords.words(language))\n",
    "        words_set = set(words)\n",
    "        common_elements = words_set.intersection(stopwords_set)\n",
    "\n",
    "        languages_ratios[language] = len(common_elements) # language \"score\"\n",
    "\n",
    "    return languages_ratios\n",
    "\n",
    "\n",
    "#----------------------------------------------------------------------\n",
    "def detect_language(text):\n",
    "    \"\"\"\n",
    "    Calculate probability of given text to be written in several languages and\n",
    "    return the highest scored.\n",
    "    \n",
    "    It uses a stopwords based approach, counting how many unique stopwords\n",
    "    are seen in analyzed text.\n",
    "    \n",
    "    @param text: Text whose language want to be detected\n",
    "    @type text: str\n",
    "    \n",
    "    @return: Most scored language guessed\n",
    "    @rtype: str\n",
    "    \"\"\"\n",
    "\n",
    "    ratios = _calculate_languages_ratios(text)\n",
    "\n",
    "    most_rated_language = max(ratios, key=ratios.get)\n",
    "\n",
    "    return most_rated_language"
   ]
  },
  {
   "cell_type": "code",
   "execution_count": 55,
   "metadata": {},
   "outputs": [
    {
     "data": {
      "text/plain": [
       "<function __main__.detect_language(text)>"
      ]
     },
     "execution_count": 55,
     "metadata": {},
     "output_type": "execute_result"
    }
   ],
   "source": [
    "detect_language"
   ]
  },
  {
   "cell_type": "code",
   "execution_count": 98,
   "metadata": {},
   "outputs": [],
   "source": [
    "languages = []\n",
    "for i in filesNames:\n",
    "    with open(\"TelTXT//\"+i+'.txt', \"r\",encoding=\"utf-8\") as f:\n",
    "        #read file as text and store in variable `text`\n",
    "        text = f.read()\n",
    "    languages.append(detect_language(text))"
   ]
  },
  {
   "cell_type": "code",
   "execution_count": 130,
   "metadata": {
    "scrolled": true
   },
   "outputs": [
    {
     "data": {
      "text/html": [
       "<div>\n",
       "<style scoped>\n",
       "    .dataframe tbody tr th:only-of-type {\n",
       "        vertical-align: middle;\n",
       "    }\n",
       "\n",
       "    .dataframe tbody tr th {\n",
       "        vertical-align: top;\n",
       "    }\n",
       "\n",
       "    .dataframe thead th {\n",
       "        text-align: right;\n",
       "    }\n",
       "</style>\n",
       "<table border=\"1\" class=\"dataframe\">\n",
       "  <thead>\n",
       "    <tr style=\"text-align: right;\">\n",
       "      <th></th>\n",
       "      <th>File Name</th>\n",
       "      <th>Title</th>\n",
       "      <th>Language</th>\n",
       "    </tr>\n",
       "  </thead>\n",
       "  <tbody>\n",
       "    <tr>\n",
       "      <th>0</th>\n",
       "      <td>tel-03440321v1</td>\n",
       "      <td>Education, Well-Being and Aspirations ; a Capa...</td>\n",
       "      <td>english</td>\n",
       "    </tr>\n",
       "    <tr>\n",
       "      <th>1</th>\n",
       "      <td>tel-03440243v1</td>\n",
       "      <td>L'impact des systèmes d'information hospitalie...</td>\n",
       "      <td>french</td>\n",
       "    </tr>\n",
       "    <tr>\n",
       "      <th>2</th>\n",
       "      <td>tel-03440181v1</td>\n",
       "      <td>Algorithmes multi-critères pour la prédiction ...</td>\n",
       "      <td>french</td>\n",
       "    </tr>\n",
       "    <tr>\n",
       "      <th>3</th>\n",
       "      <td>tel-03440058v1</td>\n",
       "      <td>La microfinance et appui au microentrepreneuri...</td>\n",
       "      <td>french</td>\n",
       "    </tr>\n",
       "    <tr>\n",
       "      <th>4</th>\n",
       "      <td>tel-03439538v1</td>\n",
       "      <td>Importance de la re-domestication pour la cons...</td>\n",
       "      <td>english</td>\n",
       "    </tr>\n",
       "  </tbody>\n",
       "</table>\n",
       "</div>"
      ],
      "text/plain": [
       "        File Name                                              Title Language\n",
       "0  tel-03440321v1  Education, Well-Being and Aspirations ; a Capa...  english\n",
       "1  tel-03440243v1  L'impact des systèmes d'information hospitalie...   french\n",
       "2  tel-03440181v1  Algorithmes multi-critères pour la prédiction ...   french\n",
       "3  tel-03440058v1  La microfinance et appui au microentrepreneuri...   french\n",
       "4  tel-03439538v1  Importance de la re-domestication pour la cons...  english"
      ]
     },
     "execution_count": 130,
     "metadata": {},
     "output_type": "execute_result"
    }
   ],
   "source": [
    "langs=pd.DataFrame(filesNames,columns=['File Name'])\n",
    "langs['Title']= titles\n",
    "langs['Language']=languages\n",
    "langs.head()"
   ]
  },
  {
   "cell_type": "code",
   "execution_count": 275,
   "metadata": {},
   "outputs": [
    {
     "name": "stderr",
     "output_type": "stream",
     "text": [
      "C:\\ProgramData\\Anaconda3\\lib\\site-packages\\ipykernel_launcher.py:12: SettingWithCopyWarning: \n",
      "A value is trying to be set on a copy of a slice from a DataFrame.\n",
      "Try using .loc[row_indexer,col_indexer] = value instead\n",
      "\n",
      "See the caveats in the documentation: https://pandas.pydata.org/pandas-docs/stable/user_guide/indexing.html#returning-a-view-versus-a-copy\n",
      "  if sys.path[0] == '':\n"
     ]
    },
    {
     "data": {
      "text/html": [
       "<div>\n",
       "<style scoped>\n",
       "    .dataframe tbody tr th:only-of-type {\n",
       "        vertical-align: middle;\n",
       "    }\n",
       "\n",
       "    .dataframe tbody tr th {\n",
       "        vertical-align: top;\n",
       "    }\n",
       "\n",
       "    .dataframe thead th {\n",
       "        text-align: right;\n",
       "    }\n",
       "</style>\n",
       "<table border=\"1\" class=\"dataframe\">\n",
       "  <thead>\n",
       "    <tr style=\"text-align: right;\">\n",
       "      <th></th>\n",
       "      <th>Node</th>\n",
       "      <th>File Name</th>\n",
       "      <th>Title</th>\n",
       "    </tr>\n",
       "  </thead>\n",
       "  <tbody>\n",
       "    <tr>\n",
       "      <th>0</th>\n",
       "      <td>0</td>\n",
       "      <td>tel-03440321v1</td>\n",
       "      <td>Education, Well-Being and Aspirations ; a Capa...</td>\n",
       "    </tr>\n",
       "    <tr>\n",
       "      <th>1</th>\n",
       "      <td>1</td>\n",
       "      <td>tel-03440243v1</td>\n",
       "      <td>L'impact des systèmes d'information hospitalie...</td>\n",
       "    </tr>\n",
       "    <tr>\n",
       "      <th>2</th>\n",
       "      <td>2</td>\n",
       "      <td>tel-03440181v1</td>\n",
       "      <td>Algorithmes multi-critères pour la prédiction ...</td>\n",
       "    </tr>\n",
       "    <tr>\n",
       "      <th>3</th>\n",
       "      <td>3</td>\n",
       "      <td>tel-03440058v1</td>\n",
       "      <td>La microfinance et appui au microentrepreneuri...</td>\n",
       "    </tr>\n",
       "    <tr>\n",
       "      <th>4</th>\n",
       "      <td>4</td>\n",
       "      <td>tel-03439538v1</td>\n",
       "      <td>Importance de la re-domestication pour la cons...</td>\n",
       "    </tr>\n",
       "    <tr>\n",
       "      <th>5</th>\n",
       "      <td>5</td>\n",
       "      <td>tel-03439366v1</td>\n",
       "      <td>Homomorphic Cryptography and Privacy</td>\n",
       "    </tr>\n",
       "    <tr>\n",
       "      <th>6</th>\n",
       "      <td>6</td>\n",
       "      <td>tel-03439358v1</td>\n",
       "      <td>Observer-based boundary control of distributed...</td>\n",
       "    </tr>\n",
       "    <tr>\n",
       "      <th>7</th>\n",
       "      <td>7</td>\n",
       "      <td>tel-03439354v1</td>\n",
       "      <td>In search of frictions</td>\n",
       "    </tr>\n",
       "    <tr>\n",
       "      <th>8</th>\n",
       "      <td>8</td>\n",
       "      <td>tel-03439346v1</td>\n",
       "      <td>Le droit face à l'art corporel : du corps comm...</td>\n",
       "    </tr>\n",
       "    <tr>\n",
       "      <th>9</th>\n",
       "      <td>9</td>\n",
       "      <td>tel-03439261v1</td>\n",
       "      <td>Récupérateur d’énergie pour les systèmes TPMS ...</td>\n",
       "    </tr>\n",
       "  </tbody>\n",
       "</table>\n",
       "</div>"
      ],
      "text/plain": [
       "   Node       File Name                                              Title\n",
       "0     0  tel-03440321v1  Education, Well-Being and Aspirations ; a Capa...\n",
       "1     1  tel-03440243v1  L'impact des systèmes d'information hospitalie...\n",
       "2     2  tel-03440181v1  Algorithmes multi-critères pour la prédiction ...\n",
       "3     3  tel-03440058v1  La microfinance et appui au microentrepreneuri...\n",
       "4     4  tel-03439538v1  Importance de la re-domestication pour la cons...\n",
       "5     5  tel-03439366v1               Homomorphic Cryptography and Privacy\n",
       "6     6  tel-03439358v1  Observer-based boundary control of distributed...\n",
       "7     7  tel-03439354v1                             In search of frictions\n",
       "8     8  tel-03439346v1  Le droit face à l'art corporel : du corps comm...\n",
       "9     9  tel-03439261v1  Récupérateur d’énergie pour les systèmes TPMS ..."
      ]
     },
     "execution_count": 275,
     "metadata": {},
     "output_type": "execute_result"
    }
   ],
   "source": [
    "filesNames = ['tel-03440321v1',\n",
    "             'tel-03440243v1',\n",
    "             'tel-03440181v1',\n",
    "             'tel-03440058v1',\n",
    "             'tel-03439538v1',\n",
    "             'tel-03439366v1',\n",
    "             'tel-03439358v1',\n",
    "             'tel-03439354v1',\n",
    "             'tel-03439346v1',\n",
    "             'tel-03439261v1']\n",
    "x=langs[langs['File Name'].isin(filesNames)]\n",
    "x['Node']= [0,1,2,3,4,5,6,7,8,9]\n",
    "x[['Node','File Name','Title']]"
   ]
  },
  {
   "cell_type": "code",
   "execution_count": 274,
   "metadata": {},
   "outputs": [
    {
     "data": {
      "text/plain": [
       "[0, 1, 2, 3, 4, 5, 6, 7, 8, 9]"
      ]
     },
     "execution_count": 274,
     "metadata": {},
     "output_type": "execute_result"
    }
   ],
   "source": [
    "[0,1,2,3,4,5,6,7,8,9]"
   ]
  },
  {
   "cell_type": "markdown",
   "metadata": {},
   "source": [
    "## Another approach for language detection"
   ]
  },
  {
   "cell_type": "code",
   "execution_count": 56,
   "metadata": {},
   "outputs": [],
   "source": [
    "languages = []\n",
    "for i in filesNames:\n",
    "    with open(\"TelTXT//\"+i+'.txt', \"r\",encoding=\"utf-8\") as f:\n",
    "        #read file as text and store in variable `text`\n",
    "        text = f.read()\n",
    "    languages.append(detect(text))"
   ]
  },
  {
   "cell_type": "code",
   "execution_count": 57,
   "metadata": {
    "scrolled": false
   },
   "outputs": [
    {
     "data": {
      "text/plain": [
       "['en', 'fr', 'fr', 'fr', 'fr']"
      ]
     },
     "execution_count": 57,
     "metadata": {},
     "output_type": "execute_result"
    }
   ],
   "source": [
    "languages[:5]"
   ]
  },
  {
   "cell_type": "code",
   "execution_count": 58,
   "metadata": {},
   "outputs": [],
   "source": [
    "directory_path = \"TelTXT//\"\n",
    "text_files = glob.glob(f\"{directory_path}/*.txt\")"
   ]
  },
  {
   "cell_type": "code",
   "execution_count": 59,
   "metadata": {
    "scrolled": false
   },
   "outputs": [
    {
     "data": {
      "text/plain": [
       "['TelTXT\\\\tel-01689242v1.txt',\n",
       " 'TelTXT\\\\tel-03096870v2.txt',\n",
       " 'TelTXT\\\\tel-03412908v1.txt',\n",
       " 'TelTXT\\\\tel-03436157v1.txt',\n",
       " 'TelTXT\\\\tel-03436173v1.txt']"
      ]
     },
     "execution_count": 59,
     "metadata": {},
     "output_type": "execute_result"
    }
   ],
   "source": [
    "text_files[:5]"
   ]
  },
  {
   "cell_type": "code",
   "execution_count": 60,
   "metadata": {},
   "outputs": [],
   "source": [
    "text_titles = [Path(text).stem for text in text_files]"
   ]
  },
  {
   "cell_type": "code",
   "execution_count": 61,
   "metadata": {
    "scrolled": true
   },
   "outputs": [
    {
     "data": {
      "text/plain": [
       "['tel-01689242v1',\n",
       " 'tel-03096870v2',\n",
       " 'tel-03412908v1',\n",
       " 'tel-03436157v1',\n",
       " 'tel-03436173v1']"
      ]
     },
     "execution_count": 61,
     "metadata": {},
     "output_type": "execute_result"
    }
   ],
   "source": [
    "text_titles[:5]"
   ]
  },
  {
   "cell_type": "code",
   "execution_count": 101,
   "metadata": {},
   "outputs": [],
   "source": [
    "final_stopwords_list = list(fr_stop) + list(en_stop)+list(pt_stop)+list(ro_stop)"
   ]
  },
  {
   "cell_type": "code",
   "execution_count": 102,
   "metadata": {},
   "outputs": [],
   "source": [
    "tfidf_vectorizer = TfidfVectorizer(input='filename',stop_words=final_stopwords_list)"
   ]
  },
  {
   "cell_type": "markdown",
   "metadata": {},
   "source": [
    "# TFIDF for one file"
   ]
  },
  {
   "cell_type": "code",
   "execution_count": 64,
   "metadata": {},
   "outputs": [
    {
     "name": "stderr",
     "output_type": "stream",
     "text": [
      "C:\\ProgramData\\Anaconda3\\lib\\site-packages\\sklearn\\feature_extraction\\text.py:401: UserWarning: Your stop_words may be inconsistent with your preprocessing. Tokenizing the stop words generated tokens ['ll', 'neuf', 'qu', 'quelqu', 've'] not in stop_words.\n",
      "  % sorted(inconsistent)\n"
     ]
    }
   ],
   "source": [
    "tfidf_vector = tfidf_vectorizer.fit_transform([\"TelTXT\\\\tel-03440321v1.txt\"])\n"
   ]
  },
  {
   "cell_type": "code",
   "execution_count": 65,
   "metadata": {},
   "outputs": [
    {
     "data": {
      "text/plain": [
       "<1x6548 sparse matrix of type '<class 'numpy.float64'>'\n",
       "\twith 6548 stored elements in Compressed Sparse Row format>"
      ]
     },
     "execution_count": 65,
     "metadata": {},
     "output_type": "execute_result"
    }
   ],
   "source": [
    "tfidf_vector"
   ]
  },
  {
   "cell_type": "code",
   "execution_count": 66,
   "metadata": {},
   "outputs": [
    {
     "name": "stderr",
     "output_type": "stream",
     "text": [
      "C:\\ProgramData\\Anaconda3\\lib\\site-packages\\sklearn\\utils\\deprecation.py:87: FutureWarning: Function get_feature_names is deprecated; get_feature_names is deprecated in 1.0 and will be removed in 1.2. Please use get_feature_names_out instead.\n",
      "  warnings.warn(msg, category=FutureWarning)\n"
     ]
    }
   ],
   "source": [
    "tfidf_df = pd.DataFrame(tfidf_vector.toarray(), index=[\"tel-03440321v1.txt\"], columns=tfidf_vectorizer.get_feature_names())\n"
   ]
  },
  {
   "cell_type": "code",
   "execution_count": 67,
   "metadata": {},
   "outputs": [],
   "source": [
    "tfidf_df.loc['00_Document Frequency'] = (tfidf_df > 0).sum()\n"
   ]
  },
  {
   "cell_type": "code",
   "execution_count": 68,
   "metadata": {},
   "outputs": [],
   "source": [
    "tfidf_df = tfidf_df.drop('00_Document Frequency', errors='ignore')\n"
   ]
  },
  {
   "cell_type": "code",
   "execution_count": 69,
   "metadata": {
    "scrolled": true
   },
   "outputs": [
    {
     "data": {
      "text/html": [
       "<div>\n",
       "<style scoped>\n",
       "    .dataframe tbody tr th:only-of-type {\n",
       "        vertical-align: middle;\n",
       "    }\n",
       "\n",
       "    .dataframe tbody tr th {\n",
       "        vertical-align: top;\n",
       "    }\n",
       "\n",
       "    .dataframe thead th {\n",
       "        text-align: right;\n",
       "    }\n",
       "</style>\n",
       "<table border=\"1\" class=\"dataframe\">\n",
       "  <thead>\n",
       "    <tr style=\"text-align: right;\">\n",
       "      <th></th>\n",
       "      <th>level_0</th>\n",
       "      <th>level_1</th>\n",
       "      <th>0</th>\n",
       "    </tr>\n",
       "  </thead>\n",
       "  <tbody>\n",
       "    <tr>\n",
       "      <th>0</th>\n",
       "      <td>tel-03440321v1.txt</td>\n",
       "      <td>000</td>\n",
       "      <td>0.001622</td>\n",
       "    </tr>\n",
       "    <tr>\n",
       "      <th>1</th>\n",
       "      <td>tel-03440321v1.txt</td>\n",
       "      <td>0001</td>\n",
       "      <td>0.012166</td>\n",
       "    </tr>\n",
       "    <tr>\n",
       "      <th>2</th>\n",
       "      <td>tel-03440321v1.txt</td>\n",
       "      <td>002</td>\n",
       "      <td>0.000811</td>\n",
       "    </tr>\n",
       "    <tr>\n",
       "      <th>3</th>\n",
       "      <td>tel-03440321v1.txt</td>\n",
       "      <td>006</td>\n",
       "      <td>0.000811</td>\n",
       "    </tr>\n",
       "    <tr>\n",
       "      <th>4</th>\n",
       "      <td>tel-03440321v1.txt</td>\n",
       "      <td>01</td>\n",
       "      <td>0.000811</td>\n",
       "    </tr>\n",
       "  </tbody>\n",
       "</table>\n",
       "</div>"
      ],
      "text/plain": [
       "              level_0 level_1         0\n",
       "0  tel-03440321v1.txt     000  0.001622\n",
       "1  tel-03440321v1.txt    0001  0.012166\n",
       "2  tel-03440321v1.txt     002  0.000811\n",
       "3  tel-03440321v1.txt     006  0.000811\n",
       "4  tel-03440321v1.txt      01  0.000811"
      ]
     },
     "execution_count": 69,
     "metadata": {},
     "output_type": "execute_result"
    }
   ],
   "source": [
    "tfidf_df.stack().reset_index().head()\n"
   ]
  },
  {
   "cell_type": "code",
   "execution_count": 70,
   "metadata": {},
   "outputs": [],
   "source": [
    "tfidf_df = tfidf_df.stack().reset_index()\n"
   ]
  },
  {
   "cell_type": "code",
   "execution_count": 71,
   "metadata": {},
   "outputs": [],
   "source": [
    "tfidf_df = tfidf_df.rename(columns={0:'tfidf', 'level_0': 'document','level_1': 'term', 'level_2': 'term'})\n"
   ]
  },
  {
   "cell_type": "code",
   "execution_count": 72,
   "metadata": {
    "scrolled": false
   },
   "outputs": [
    {
     "data": {
      "text/plain": [
       "<pandas.core.groupby.generic.DataFrameGroupBy object at 0x000001FCB05AC6D8>"
      ]
     },
     "execution_count": 72,
     "metadata": {},
     "output_type": "execute_result"
    }
   ],
   "source": [
    "tfidf_df.sort_values(by=['document','tfidf'], ascending=[True,False]).groupby(['document'])\n"
   ]
  },
  {
   "cell_type": "code",
   "execution_count": 73,
   "metadata": {
    "scrolled": true
   },
   "outputs": [
    {
     "data": {
      "text/html": [
       "<div>\n",
       "<style scoped>\n",
       "    .dataframe tbody tr th:only-of-type {\n",
       "        vertical-align: middle;\n",
       "    }\n",
       "\n",
       "    .dataframe tbody tr th {\n",
       "        vertical-align: top;\n",
       "    }\n",
       "\n",
       "    .dataframe thead th {\n",
       "        text-align: right;\n",
       "    }\n",
       "</style>\n",
       "<table border=\"1\" class=\"dataframe\">\n",
       "  <thead>\n",
       "    <tr style=\"text-align: right;\">\n",
       "      <th></th>\n",
       "      <th>document</th>\n",
       "      <th>term</th>\n",
       "      <th>tfidf</th>\n",
       "    </tr>\n",
       "  </thead>\n",
       "  <tbody>\n",
       "    <tr>\n",
       "      <th>2284</th>\n",
       "      <td>tel-03440321v1.txt</td>\n",
       "      <td>education</td>\n",
       "      <td>0.336584</td>\n",
       "    </tr>\n",
       "    <tr>\n",
       "      <th>932</th>\n",
       "      <td>tel-03440321v1.txt</td>\n",
       "      <td>aspirations</td>\n",
       "      <td>0.326040</td>\n",
       "    </tr>\n",
       "    <tr>\n",
       "      <th>1265</th>\n",
       "      <td>tel-03440321v1.txt</td>\n",
       "      <td>capability</td>\n",
       "      <td>0.208439</td>\n",
       "    </tr>\n",
       "    <tr>\n",
       "      <th>5391</th>\n",
       "      <td>tel-03440321v1.txt</td>\n",
       "      <td>school</td>\n",
       "      <td>0.207628</td>\n",
       "    </tr>\n",
       "    <tr>\n",
       "      <th>874</th>\n",
       "      <td>tel-03440321v1.txt</td>\n",
       "      <td>approach</td>\n",
       "      <td>0.206816</td>\n",
       "    </tr>\n",
       "  </tbody>\n",
       "</table>\n",
       "</div>"
      ],
      "text/plain": [
       "                document         term     tfidf\n",
       "2284  tel-03440321v1.txt    education  0.336584\n",
       "932   tel-03440321v1.txt  aspirations  0.326040\n",
       "1265  tel-03440321v1.txt   capability  0.208439\n",
       "5391  tel-03440321v1.txt       school  0.207628\n",
       "874   tel-03440321v1.txt     approach  0.206816"
      ]
     },
     "execution_count": 73,
     "metadata": {},
     "output_type": "execute_result"
    }
   ],
   "source": [
    "top_tfidf= tfidf_df.sort_values(by=['document','tfidf'], ascending=[True,False]).groupby(['document'])\n",
    "top_tfidf.head(5)"
   ]
  },
  {
   "cell_type": "code",
   "execution_count": 74,
   "metadata": {},
   "outputs": [],
   "source": [
    "top_tfidf = tfidf_df.sort_values(by=['document','tfidf'], ascending=[True,False]).groupby(['document'])\n"
   ]
  },
  {
   "cell_type": "code",
   "execution_count": 75,
   "metadata": {},
   "outputs": [
    {
     "data": {
      "text/plain": [
       "(6548, 3)"
      ]
     },
     "execution_count": 75,
     "metadata": {},
     "output_type": "execute_result"
    }
   ],
   "source": [
    "tfidf_df.shape"
   ]
  },
  {
   "cell_type": "markdown",
   "metadata": {},
   "source": [
    "# TFIDF on the 50 files"
   ]
  },
  {
   "cell_type": "code",
   "execution_count": 196,
   "metadata": {},
   "outputs": [],
   "source": [
    "text_titles = [Path(text).stem for text in text_files]"
   ]
  },
  {
   "cell_type": "code",
   "execution_count": 197,
   "metadata": {},
   "outputs": [],
   "source": [
    "# tfidf_vectorizer = TfidfVectorizer(input='filename',stop_words=final_stopwords_list)"
   ]
  },
  {
   "cell_type": "code",
   "execution_count": 198,
   "metadata": {},
   "outputs": [],
   "source": [
    "tfidf_vector = tfidf_vectorizer.fit_transform(text_files)"
   ]
  },
  {
   "cell_type": "code",
   "execution_count": 199,
   "metadata": {},
   "outputs": [
    {
     "data": {
      "text/plain": [
       "<50x169046 sparse matrix of type '<class 'numpy.float64'>'\n",
       "\twith 395141 stored elements in Compressed Sparse Row format>"
      ]
     },
     "execution_count": 199,
     "metadata": {},
     "output_type": "execute_result"
    }
   ],
   "source": [
    "tfidf_vector"
   ]
  },
  {
   "cell_type": "code",
   "execution_count": 200,
   "metadata": {},
   "outputs": [
    {
     "name": "stderr",
     "output_type": "stream",
     "text": [
      "C:\\ProgramData\\Anaconda3\\lib\\site-packages\\sklearn\\utils\\deprecation.py:87: FutureWarning: Function get_feature_names is deprecated; get_feature_names is deprecated in 1.0 and will be removed in 1.2. Please use get_feature_names_out instead.\n",
      "  warnings.warn(msg, category=FutureWarning)\n"
     ]
    }
   ],
   "source": [
    "tfidf_df = pd.DataFrame(tfidf_vector.toarray(), index=text_titles, columns=tfidf_vectorizer.get_feature_names())\n"
   ]
  },
  {
   "cell_type": "code",
   "execution_count": 201,
   "metadata": {},
   "outputs": [],
   "source": [
    "tfidf_df.loc['00_Document Frequency'] = (tfidf_df > 0).sum()\n"
   ]
  },
  {
   "cell_type": "code",
   "execution_count": 202,
   "metadata": {},
   "outputs": [],
   "source": [
    "tfidf_df = tfidf_df.drop('00_Document Frequency', errors='ignore')\n"
   ]
  },
  {
   "cell_type": "code",
   "execution_count": 203,
   "metadata": {
    "scrolled": true
   },
   "outputs": [
    {
     "data": {
      "text/html": [
       "<div>\n",
       "<style scoped>\n",
       "    .dataframe tbody tr th:only-of-type {\n",
       "        vertical-align: middle;\n",
       "    }\n",
       "\n",
       "    .dataframe tbody tr th {\n",
       "        vertical-align: top;\n",
       "    }\n",
       "\n",
       "    .dataframe thead th {\n",
       "        text-align: right;\n",
       "    }\n",
       "</style>\n",
       "<table border=\"1\" class=\"dataframe\">\n",
       "  <thead>\n",
       "    <tr style=\"text-align: right;\">\n",
       "      <th></th>\n",
       "      <th>level_0</th>\n",
       "      <th>level_1</th>\n",
       "      <th>0</th>\n",
       "    </tr>\n",
       "  </thead>\n",
       "  <tbody>\n",
       "    <tr>\n",
       "      <th>0</th>\n",
       "      <td>tel-01689242v1</td>\n",
       "      <td>00</td>\n",
       "      <td>0.003608</td>\n",
       "    </tr>\n",
       "    <tr>\n",
       "      <th>1</th>\n",
       "      <td>tel-01689242v1</td>\n",
       "      <td>000</td>\n",
       "      <td>0.051128</td>\n",
       "    </tr>\n",
       "    <tr>\n",
       "      <th>2</th>\n",
       "      <td>tel-01689242v1</td>\n",
       "      <td>0000</td>\n",
       "      <td>0.000000</td>\n",
       "    </tr>\n",
       "    <tr>\n",
       "      <th>3</th>\n",
       "      <td>tel-01689242v1</td>\n",
       "      <td>00000</td>\n",
       "      <td>0.000000</td>\n",
       "    </tr>\n",
       "    <tr>\n",
       "      <th>4</th>\n",
       "      <td>tel-01689242v1</td>\n",
       "      <td>0000000000000097</td>\n",
       "      <td>0.000000</td>\n",
       "    </tr>\n",
       "  </tbody>\n",
       "</table>\n",
       "</div>"
      ],
      "text/plain": [
       "          level_0           level_1         0\n",
       "0  tel-01689242v1                00  0.003608\n",
       "1  tel-01689242v1               000  0.051128\n",
       "2  tel-01689242v1              0000  0.000000\n",
       "3  tel-01689242v1             00000  0.000000\n",
       "4  tel-01689242v1  0000000000000097  0.000000"
      ]
     },
     "execution_count": 203,
     "metadata": {},
     "output_type": "execute_result"
    }
   ],
   "source": [
    "tfidf_df.stack().reset_index().head()\n"
   ]
  },
  {
   "cell_type": "code",
   "execution_count": 204,
   "metadata": {},
   "outputs": [],
   "source": [
    "tfidf_df = tfidf_df.stack().reset_index()\n"
   ]
  },
  {
   "cell_type": "code",
   "execution_count": 205,
   "metadata": {},
   "outputs": [],
   "source": [
    "tfidf_df = tfidf_df.rename(columns={0:'tfidf', 'level_0': 'document','level_1': 'term', 'level_2': 'term'})\n"
   ]
  },
  {
   "cell_type": "code",
   "execution_count": 206,
   "metadata": {
    "scrolled": false
   },
   "outputs": [
    {
     "data": {
      "text/plain": [
       "<pandas.core.groupby.generic.DataFrameGroupBy object at 0x000001FCB5436400>"
      ]
     },
     "execution_count": 206,
     "metadata": {},
     "output_type": "execute_result"
    }
   ],
   "source": [
    "tfidf_df.sort_values(by=['document','tfidf'], ascending=[True,False]).groupby(['document'])\n"
   ]
  },
  {
   "cell_type": "code",
   "execution_count": 207,
   "metadata": {
    "scrolled": false
   },
   "outputs": [],
   "source": [
    "top_tfidf= tfidf_df.sort_values(by=['document','tfidf'], ascending=[True,False]).groupby(['document']).head(5)"
   ]
  },
  {
   "cell_type": "code",
   "execution_count": 208,
   "metadata": {
    "scrolled": false
   },
   "outputs": [
    {
     "data": {
      "text/html": [
       "<div>\n",
       "<style scoped>\n",
       "    .dataframe tbody tr th:only-of-type {\n",
       "        vertical-align: middle;\n",
       "    }\n",
       "\n",
       "    .dataframe tbody tr th {\n",
       "        vertical-align: top;\n",
       "    }\n",
       "\n",
       "    .dataframe thead th {\n",
       "        text-align: right;\n",
       "    }\n",
       "</style>\n",
       "<table border=\"1\" class=\"dataframe\">\n",
       "  <thead>\n",
       "    <tr style=\"text-align: right;\">\n",
       "      <th></th>\n",
       "      <th>document</th>\n",
       "      <th>term</th>\n",
       "      <th>tfidf</th>\n",
       "    </tr>\n",
       "  </thead>\n",
       "  <tbody>\n",
       "    <tr>\n",
       "      <th>132339</th>\n",
       "      <td>tel-01689242v1</td>\n",
       "      <td>rsn</td>\n",
       "      <td>0.445979</td>\n",
       "    </tr>\n",
       "    <tr>\n",
       "      <th>28427</th>\n",
       "      <td>tel-01689242v1</td>\n",
       "      <td>bibliothèques</td>\n",
       "      <td>0.290510</td>\n",
       "    </tr>\n",
       "    <tr>\n",
       "      <th>28429</th>\n",
       "      <td>tel-01689242v1</td>\n",
       "      <td>bibliothécaires</td>\n",
       "      <td>0.283844</td>\n",
       "    </tr>\n",
       "    <tr>\n",
       "      <th>15683</th>\n",
       "      <td>tel-01689242v1</td>\n",
       "      <td>adoption</td>\n",
       "      <td>0.272395</td>\n",
       "    </tr>\n",
       "    <tr>\n",
       "      <th>28426</th>\n",
       "      <td>tel-01689242v1</td>\n",
       "      <td>bibliothèque</td>\n",
       "      <td>0.248268</td>\n",
       "    </tr>\n",
       "    <tr>\n",
       "      <th>336036</th>\n",
       "      <td>tel-03096870v2</td>\n",
       "      <td>λn</td>\n",
       "      <td>0.321609</td>\n",
       "    </tr>\n",
       "    <tr>\n",
       "      <th>248606</th>\n",
       "      <td>tel-03096870v2</td>\n",
       "      <td>hℓ</td>\n",
       "      <td>0.264359</td>\n",
       "    </tr>\n",
       "    <tr>\n",
       "      <th>271438</th>\n",
       "      <td>tel-03096870v2</td>\n",
       "      <td>mills</td>\n",
       "      <td>0.210809</td>\n",
       "    </tr>\n",
       "    <tr>\n",
       "      <th>321618</th>\n",
       "      <td>tel-03096870v2</td>\n",
       "      <td>tr</td>\n",
       "      <td>0.191280</td>\n",
       "    </tr>\n",
       "    <tr>\n",
       "      <th>200620</th>\n",
       "      <td>tel-03096870v2</td>\n",
       "      <td>c2</td>\n",
       "      <td>0.189047</td>\n",
       "    </tr>\n",
       "    <tr>\n",
       "      <th>339237</th>\n",
       "      <td>tel-03412908v1</td>\n",
       "      <td>03412908</td>\n",
       "      <td>0.478700</td>\n",
       "    </tr>\n",
       "    <tr>\n",
       "      <th>371726</th>\n",
       "      <td>tel-03412908v1</td>\n",
       "      <td>causse</td>\n",
       "      <td>0.319134</td>\n",
       "    </tr>\n",
       "    <tr>\n",
       "      <th>429347</th>\n",
       "      <td>tel-03412908v1</td>\n",
       "      <td>karstiques</td>\n",
       "      <td>0.319134</td>\n",
       "    </tr>\n",
       "    <tr>\n",
       "      <th>360218</th>\n",
       "      <td>tel-03412908v1</td>\n",
       "      <td>aquifères</td>\n",
       "      <td>0.288606</td>\n",
       "    </tr>\n",
       "    <tr>\n",
       "      <th>382275</th>\n",
       "      <td>tel-03412908v1</td>\n",
       "      <td>corrèze</td>\n",
       "      <td>0.288606</td>\n",
       "    </tr>\n",
       "  </tbody>\n",
       "</table>\n",
       "</div>"
      ],
      "text/plain": [
       "              document             term     tfidf\n",
       "132339  tel-01689242v1              rsn  0.445979\n",
       "28427   tel-01689242v1    bibliothèques  0.290510\n",
       "28429   tel-01689242v1  bibliothécaires  0.283844\n",
       "15683   tel-01689242v1         adoption  0.272395\n",
       "28426   tel-01689242v1     bibliothèque  0.248268\n",
       "336036  tel-03096870v2               λn  0.321609\n",
       "248606  tel-03096870v2               hℓ  0.264359\n",
       "271438  tel-03096870v2            mills  0.210809\n",
       "321618  tel-03096870v2               tr  0.191280\n",
       "200620  tel-03096870v2               c2  0.189047\n",
       "339237  tel-03412908v1         03412908  0.478700\n",
       "371726  tel-03412908v1           causse  0.319134\n",
       "429347  tel-03412908v1       karstiques  0.319134\n",
       "360218  tel-03412908v1        aquifères  0.288606\n",
       "382275  tel-03412908v1          corrèze  0.288606"
      ]
     },
     "execution_count": 208,
     "metadata": {},
     "output_type": "execute_result"
    }
   ],
   "source": [
    "(top_tfidf).head(15)\n"
   ]
  },
  {
   "cell_type": "code",
   "execution_count": 209,
   "metadata": {
    "scrolled": false
   },
   "outputs": [
    {
     "data": {
      "text/html": [
       "<div>\n",
       "<style scoped>\n",
       "    .dataframe tbody tr th:only-of-type {\n",
       "        vertical-align: middle;\n",
       "    }\n",
       "\n",
       "    .dataframe tbody tr th {\n",
       "        vertical-align: top;\n",
       "    }\n",
       "\n",
       "    .dataframe thead th {\n",
       "        text-align: right;\n",
       "    }\n",
       "</style>\n",
       "<table border=\"1\" class=\"dataframe\">\n",
       "  <thead>\n",
       "    <tr style=\"text-align: right;\">\n",
       "      <th></th>\n",
       "      <th>document</th>\n",
       "      <th>Title</th>\n",
       "      <th>term</th>\n",
       "      <th>tfidf</th>\n",
       "    </tr>\n",
       "  </thead>\n",
       "  <tbody>\n",
       "    <tr>\n",
       "      <th>0</th>\n",
       "      <td>tel-01689242v1</td>\n",
       "      <td>Determinants of the professional adoption of d...</td>\n",
       "      <td>rsn</td>\n",
       "      <td>0.445979</td>\n",
       "    </tr>\n",
       "    <tr>\n",
       "      <th>1</th>\n",
       "      <td>tel-01689242v1</td>\n",
       "      <td>Determinants of the professional adoption of d...</td>\n",
       "      <td>bibliothèques</td>\n",
       "      <td>0.290510</td>\n",
       "    </tr>\n",
       "    <tr>\n",
       "      <th>2</th>\n",
       "      <td>tel-01689242v1</td>\n",
       "      <td>Determinants of the professional adoption of d...</td>\n",
       "      <td>bibliothécaires</td>\n",
       "      <td>0.283844</td>\n",
       "    </tr>\n",
       "    <tr>\n",
       "      <th>3</th>\n",
       "      <td>tel-01689242v1</td>\n",
       "      <td>Determinants of the professional adoption of d...</td>\n",
       "      <td>adoption</td>\n",
       "      <td>0.272395</td>\n",
       "    </tr>\n",
       "    <tr>\n",
       "      <th>4</th>\n",
       "      <td>tel-01689242v1</td>\n",
       "      <td>Determinants of the professional adoption of d...</td>\n",
       "      <td>bibliothèque</td>\n",
       "      <td>0.248268</td>\n",
       "    </tr>\n",
       "    <tr>\n",
       "      <th>5</th>\n",
       "      <td>tel-03096870v2</td>\n",
       "      <td>Asymptotic representation theory and applicati...</td>\n",
       "      <td>λn</td>\n",
       "      <td>0.321609</td>\n",
       "    </tr>\n",
       "    <tr>\n",
       "      <th>6</th>\n",
       "      <td>tel-03096870v2</td>\n",
       "      <td>Asymptotic representation theory and applicati...</td>\n",
       "      <td>hℓ</td>\n",
       "      <td>0.264359</td>\n",
       "    </tr>\n",
       "    <tr>\n",
       "      <th>7</th>\n",
       "      <td>tel-03096870v2</td>\n",
       "      <td>Asymptotic representation theory and applicati...</td>\n",
       "      <td>mills</td>\n",
       "      <td>0.210809</td>\n",
       "    </tr>\n",
       "    <tr>\n",
       "      <th>8</th>\n",
       "      <td>tel-03096870v2</td>\n",
       "      <td>Asymptotic representation theory and applicati...</td>\n",
       "      <td>tr</td>\n",
       "      <td>0.191280</td>\n",
       "    </tr>\n",
       "    <tr>\n",
       "      <th>9</th>\n",
       "      <td>tel-03096870v2</td>\n",
       "      <td>Asymptotic representation theory and applicati...</td>\n",
       "      <td>c2</td>\n",
       "      <td>0.189047</td>\n",
       "    </tr>\n",
       "    <tr>\n",
       "      <th>10</th>\n",
       "      <td>tel-03412908v1</td>\n",
       "      <td>Structure, fonctionnement et évolution de deux...</td>\n",
       "      <td>03412908</td>\n",
       "      <td>0.478700</td>\n",
       "    </tr>\n",
       "    <tr>\n",
       "      <th>11</th>\n",
       "      <td>tel-03412908v1</td>\n",
       "      <td>Structure, fonctionnement et évolution de deux...</td>\n",
       "      <td>causse</td>\n",
       "      <td>0.319134</td>\n",
       "    </tr>\n",
       "    <tr>\n",
       "      <th>12</th>\n",
       "      <td>tel-03412908v1</td>\n",
       "      <td>Structure, fonctionnement et évolution de deux...</td>\n",
       "      <td>karstiques</td>\n",
       "      <td>0.319134</td>\n",
       "    </tr>\n",
       "    <tr>\n",
       "      <th>13</th>\n",
       "      <td>tel-03412908v1</td>\n",
       "      <td>Structure, fonctionnement et évolution de deux...</td>\n",
       "      <td>aquifères</td>\n",
       "      <td>0.288606</td>\n",
       "    </tr>\n",
       "    <tr>\n",
       "      <th>14</th>\n",
       "      <td>tel-03412908v1</td>\n",
       "      <td>Structure, fonctionnement et évolution de deux...</td>\n",
       "      <td>corrèze</td>\n",
       "      <td>0.288606</td>\n",
       "    </tr>\n",
       "  </tbody>\n",
       "</table>\n",
       "</div>"
      ],
      "text/plain": [
       "          document                                              Title  \\\n",
       "0   tel-01689242v1  Determinants of the professional adoption of d...   \n",
       "1   tel-01689242v1  Determinants of the professional adoption of d...   \n",
       "2   tel-01689242v1  Determinants of the professional adoption of d...   \n",
       "3   tel-01689242v1  Determinants of the professional adoption of d...   \n",
       "4   tel-01689242v1  Determinants of the professional adoption of d...   \n",
       "5   tel-03096870v2  Asymptotic representation theory and applicati...   \n",
       "6   tel-03096870v2  Asymptotic representation theory and applicati...   \n",
       "7   tel-03096870v2  Asymptotic representation theory and applicati...   \n",
       "8   tel-03096870v2  Asymptotic representation theory and applicati...   \n",
       "9   tel-03096870v2  Asymptotic representation theory and applicati...   \n",
       "10  tel-03412908v1  Structure, fonctionnement et évolution de deux...   \n",
       "11  tel-03412908v1  Structure, fonctionnement et évolution de deux...   \n",
       "12  tel-03412908v1  Structure, fonctionnement et évolution de deux...   \n",
       "13  tel-03412908v1  Structure, fonctionnement et évolution de deux...   \n",
       "14  tel-03412908v1  Structure, fonctionnement et évolution de deux...   \n",
       "\n",
       "               term     tfidf  \n",
       "0               rsn  0.445979  \n",
       "1     bibliothèques  0.290510  \n",
       "2   bibliothécaires  0.283844  \n",
       "3          adoption  0.272395  \n",
       "4      bibliothèque  0.248268  \n",
       "5                λn  0.321609  \n",
       "6                hℓ  0.264359  \n",
       "7             mills  0.210809  \n",
       "8                tr  0.191280  \n",
       "9                c2  0.189047  \n",
       "10         03412908  0.478700  \n",
       "11           causse  0.319134  \n",
       "12       karstiques  0.319134  \n",
       "13        aquifères  0.288606  \n",
       "14          corrèze  0.288606  "
      ]
     },
     "execution_count": 209,
     "metadata": {},
     "output_type": "execute_result"
    }
   ],
   "source": [
    "pd.merge(top_tfidf,langs[['File Name','Title']],left_on='document',right_on='File Name')[['document','Title','term','tfidf']].head(15)"
   ]
  },
  {
   "cell_type": "code",
   "execution_count": 210,
   "metadata": {},
   "outputs": [
    {
     "data": {
      "text/plain": [
       "(8452300, 3)"
      ]
     },
     "execution_count": 210,
     "metadata": {},
     "output_type": "execute_result"
    }
   ],
   "source": [
    "tfidf_df.shape"
   ]
  },
  {
   "cell_type": "code",
   "execution_count": 211,
   "metadata": {},
   "outputs": [
    {
     "data": {
      "text/html": [
       "\n",
       "<div id=\"altair-viz-43e9c2e7f355407b9576eb0ba0122001\"></div>\n",
       "<script type=\"text/javascript\">\n",
       "  (function(spec, embedOpt){\n",
       "    let outputDiv = document.currentScript.previousElementSibling;\n",
       "    if (outputDiv.id !== \"altair-viz-43e9c2e7f355407b9576eb0ba0122001\") {\n",
       "      outputDiv = document.getElementById(\"altair-viz-43e9c2e7f355407b9576eb0ba0122001\");\n",
       "    }\n",
       "    const paths = {\n",
       "      \"vega\": \"https://cdn.jsdelivr.net/npm//vega@5?noext\",\n",
       "      \"vega-lib\": \"https://cdn.jsdelivr.net/npm//vega-lib?noext\",\n",
       "      \"vega-lite\": \"https://cdn.jsdelivr.net/npm//vega-lite@4.8.1?noext\",\n",
       "      \"vega-embed\": \"https://cdn.jsdelivr.net/npm//vega-embed@6?noext\",\n",
       "    };\n",
       "\n",
       "    function loadScript(lib) {\n",
       "      return new Promise(function(resolve, reject) {\n",
       "        var s = document.createElement('script');\n",
       "        s.src = paths[lib];\n",
       "        s.async = true;\n",
       "        s.onload = () => resolve(paths[lib]);\n",
       "        s.onerror = () => reject(`Error loading script: ${paths[lib]}`);\n",
       "        document.getElementsByTagName(\"head\")[0].appendChild(s);\n",
       "      });\n",
       "    }\n",
       "\n",
       "    function showError(err) {\n",
       "      outputDiv.innerHTML = `<div class=\"error\" style=\"color:red;\">${err}</div>`;\n",
       "      throw err;\n",
       "    }\n",
       "\n",
       "    function displayChart(vegaEmbed) {\n",
       "      vegaEmbed(outputDiv, spec, embedOpt)\n",
       "        .catch(err => showError(`Javascript Error: ${err.message}<br>This usually means there's a typo in your chart specification. See the javascript console for the full traceback.`));\n",
       "    }\n",
       "\n",
       "    if(typeof define === \"function\" && define.amd) {\n",
       "      requirejs.config({paths});\n",
       "      require([\"vega-embed\"], displayChart, err => showError(`Error loading script: ${err.message}`));\n",
       "    } else if (typeof vegaEmbed === \"function\") {\n",
       "      displayChart(vegaEmbed);\n",
       "    } else {\n",
       "      loadScript(\"vega\")\n",
       "        .then(() => loadScript(\"vega-lite\"))\n",
       "        .then(() => loadScript(\"vega-embed\"))\n",
       "        .catch(showError)\n",
       "        .then(() => displayChart(vegaEmbed));\n",
       "    }\n",
       "  })({\"config\": {\"view\": {\"continuousWidth\": 400, \"continuousHeight\": 300}}, \"layer\": [{\"mark\": \"rect\", \"encoding\": {\"color\": {\"type\": \"quantitative\", \"field\": \"tfidf\"}, \"x\": {\"type\": \"ordinal\", \"field\": \"rank\"}, \"y\": {\"type\": \"nominal\", \"field\": \"document\"}}, \"transform\": [{\"window\": [{\"op\": \"rank\", \"field\": \"\", \"as\": \"rank\"}], \"groupby\": [\"document\"], \"sort\": [{\"field\": \"tfidf\", \"order\": \"descending\"}]}]}, {\"mark\": {\"type\": \"circle\", \"size\": 100}, \"encoding\": {\"color\": {\"condition\": {\"value\": \"red\", \"test\": {\"field\": \"term\", \"oneOf\": [\"war\", \"peace\"]}}, \"value\": \"#FFFFFF00\"}, \"x\": {\"type\": \"ordinal\", \"field\": \"rank\"}, \"y\": {\"type\": \"nominal\", \"field\": \"document\"}}, \"transform\": [{\"window\": [{\"op\": \"rank\", \"field\": \"\", \"as\": \"rank\"}], \"groupby\": [\"document\"], \"sort\": [{\"field\": \"tfidf\", \"order\": \"descending\"}]}]}, {\"mark\": {\"type\": \"text\", \"baseline\": \"middle\"}, \"encoding\": {\"text\": {\"type\": \"nominal\", \"field\": \"term\"}, \"x\": {\"type\": \"ordinal\", \"field\": \"rank\"}, \"y\": {\"type\": \"nominal\", \"field\": \"document\"}}, \"transform\": [{\"window\": [{\"op\": \"rank\", \"field\": \"\", \"as\": \"rank\"}], \"groupby\": [\"document\"], \"sort\": [{\"field\": \"tfidf\", \"order\": \"descending\"}]}]}], \"data\": {\"name\": \"data-6ad740a61ea5469be22a025185a9169f\"}, \"width\": 600, \"$schema\": \"https://vega.github.io/schema/vega-lite/v4.8.1.json\", \"datasets\": {\"data-6ad740a61ea5469be22a025185a9169f\": [{\"document\": \"tel-01689242v1\", \"term\": \"rsn\", \"tfidf\": 0.4460601634628334}, {\"document\": \"tel-01689242v1\", \"term\": \"biblioth\\u00e8ques\", \"tfidf\": 0.29053093659870344}, {\"document\": \"tel-01689242v1\", \"term\": \"biblioth\\u00e9caires\", \"tfidf\": 0.2838466690680488}, {\"document\": \"tel-01689242v1\", \"term\": \"adoption\", \"tfidf\": 0.27241895419252754}, {\"document\": \"tel-01689242v1\", \"term\": \"biblioth\\u00e8que\", \"tfidf\": 0.2483328046744595}, {\"document\": \"tel-03096870v2\", \"term\": \"\\u03bbn\", \"tfidf\": 0.32160938647683107}, {\"document\": \"tel-03096870v2\", \"term\": \"h\\u2113\", \"tfidf\": 0.26443586868083563}, {\"document\": \"tel-03096870v2\", \"term\": \"mills\", \"tfidf\": 0.21082939904360048}, {\"document\": \"tel-03096870v2\", \"term\": \"tr\", \"tfidf\": 0.19133685622062527}, {\"document\": \"tel-03096870v2\", \"term\": \"c2\", \"tfidf\": 0.18907128490340888}, {\"document\": \"tel-03412908v1\", \"term\": \"03412908\", \"tfidf\": 0.47874582037642305}, {\"document\": \"tel-03412908v1\", \"term\": \"causse\", \"tfidf\": 0.3191840646246092}, {\"document\": \"tel-03412908v1\", \"term\": \"karstiques\", \"tfidf\": 0.31917224240596714}, {\"document\": \"tel-03412908v1\", \"term\": \"aquif\\u00e8res\", \"tfidf\": 0.2886912939523244}, {\"document\": \"tel-03412908v1\", \"term\": \"corr\\u00e8ze\", \"tfidf\": 0.2886067324297302}, {\"document\": \"tel-03436157v1\", \"term\": \"wave\", \"tfidf\": 0.2851850066307187}, {\"document\": \"tel-03436157v1\", \"term\": \"video\", \"tfidf\": 0.2782946080953394}, {\"document\": \"tel-03436157v1\", \"term\": \"beach\", \"tfidf\": 0.22973424663116435}, {\"document\": \"tel-03436157v1\", \"term\": \"camera\", \"tfidf\": 0.2006287110681596}, {\"document\": \"tel-03436157v1\", \"term\": \"cbathy\", \"tfidf\": 0.20017150400581013}, {\"document\": \"tel-03436173v1\", \"term\": \"patent\", \"tfidf\": 0.3429588485468844}, {\"document\": \"tel-03436173v1\", \"term\": \"trade\", \"tfidf\": 0.2782505471786946}, {\"document\": \"tel-03436173v1\", \"term\": \"citations\", \"tfidf\": 0.2726617573360459}, {\"document\": \"tel-03436173v1\", \"term\": \"patents\", \"tfidf\": 0.21499505971157173}, {\"document\": \"tel-03436173v1\", \"term\": \"news\", \"tfidf\": 0.20742153640665814}, {\"document\": \"tel-03436335v1\", \"term\": \"s\\u00e9nescence\", \"tfidf\": 0.4557234304185417}, {\"document\": \"tel-03436335v1\", \"term\": \"vulgare\", \"tfidf\": 0.37340648296796136}, {\"document\": \"tel-03436335v1\", \"term\": \"senescence\", \"tfidf\": 0.3638552096049814}, {\"document\": \"tel-03436335v1\", \"term\": \"reproduction\", \"tfidf\": 0.19676362365105748}, {\"document\": \"tel-03436335v1\", \"term\": \"sperm\", \"tfidf\": 0.17680566267207487}, {\"document\": \"tel-03436364v1\", \"term\": \"mode\", \"tfidf\": 0.27796566532056544}, {\"document\": \"tel-03436364v1\", \"term\": \"appariement\", \"tfidf\": 0.268277545869763}, {\"document\": \"tel-03436364v1\", \"term\": \"utilite\", \"tfidf\": 0.20378869628076524}, {\"document\": \"tel-03436364v1\", \"term\": \"mariage\", \"tfidf\": 0.18312004618994052}, {\"document\": \"tel-03436364v1\", \"term\": \"galite\", \"tfidf\": 0.17193524116473693}, {\"document\": \"tel-03436368v1\", \"term\": \"s\\u00fbret\\u00e9\", \"tfidf\": 0.7633123408614458}, {\"document\": \"tel-03436368v1\", \"term\": \"culture\", \"tfidf\": 0.2751909895888118}, {\"document\": \"tel-03436368v1\", \"term\": \"conduite\", \"tfidf\": 0.21593282406744324}, {\"document\": \"tel-03436368v1\", \"term\": \"nucl\\u00e9aire\", \"tfidf\": 0.1325426343025457}, {\"document\": \"tel-03436368v1\", \"term\": \"santana\", \"tfidf\": 0.1274332304055196}, {\"document\": \"tel-03436372v1\", \"term\": \"p\\u00e9nal\", \"tfidf\": 0.3164991369082704}, {\"document\": \"tel-03436372v1\", \"term\": \"prison\", \"tfidf\": 0.2436540093232855}, {\"document\": \"tel-03436372v1\", \"term\": \"foucault\", \"tfidf\": 0.20694713586646038}, {\"document\": \"tel-03436372v1\", \"term\": \"r\\u00e9insertion\", \"tfidf\": 0.18178488902892476}, {\"document\": \"tel-03436372v1\", \"term\": \"disciplinaire\", \"tfidf\": 0.1757770314674392}, {\"document\": \"tel-03436394v1\", \"term\": \"rl\", \"tfidf\": 0.32051304440194556}, {\"document\": \"tel-03436394v1\", \"term\": \"efu\", \"tfidf\": 0.22697161262102686}, {\"document\": \"tel-03436394v1\", \"term\": \"iqu\", \"tfidf\": 0.22438576252284798}, {\"document\": \"tel-03436394v1\", \"term\": \"td\", \"tfidf\": 0.20665802629349916}, {\"document\": \"tel-03436394v1\", \"term\": \"sl\", \"tfidf\": 0.19353813570533404}, {\"document\": \"tel-03436405v1\", \"term\": \"odin\", \"tfidf\": 0.2753518126663185}, {\"document\": \"tel-03436405v1\", \"term\": \"ugtg\", \"tfidf\": 0.273313365339895}, {\"document\": \"tel-03436405v1\", \"term\": \"militants\", \"tfidf\": 0.25800626405623805}, {\"document\": \"tel-03436405v1\", \"term\": \"guadeloupe\", \"tfidf\": 0.23714950290933537}, {\"document\": \"tel-03436405v1\", \"term\": \"travailleurs\", \"tfidf\": 0.23668219183595754}, {\"document\": \"tel-03436409v1\", \"term\": \"msa\", \"tfidf\": 0.431696910400292}, {\"document\": \"tel-03436409v1\", \"term\": \"speech\", \"tfidf\": 0.39864919029958695}, {\"document\": \"tel-03436409v1\", \"term\": \"psp\", \"tfidf\": 0.2559278140581369}, {\"document\": \"tel-03436409v1\", \"term\": \"pd\", \"tfidf\": 0.24279586751389046}, {\"document\": \"tel-03436409v1\", \"term\": \"vowel\", \"tfidf\": 0.2262517643596302}, {\"document\": \"tel-03436501v1\", \"term\": \"thermal\", \"tfidf\": 0.5160859363556054}, {\"document\": \"tel-03436501v1\", \"term\": \"correction\", \"tfidf\": 0.3247797028058684}, {\"document\": \"tel-03436501v1\", \"term\": \"energies\", \"tfidf\": 0.31718527906157973}, {\"document\": \"tel-03436501v1\", \"term\": \"electronic\", \"tfidf\": 0.28583369370135675}, {\"document\": \"tel-03436501v1\", \"term\": \"sum\", \"tfidf\": 0.24000791197014584}, {\"document\": \"tel-03436527v1\", \"term\": \"contrats\", \"tfidf\": 0.42430714960469407}, {\"document\": \"tel-03436527v1\", \"term\": \"ren\\u00e9gociation\", \"tfidf\": 0.35460202455471745}, {\"document\": \"tel-03436527v1\", \"term\": \"concession\", \"tfidf\": 0.2736430862856551}, {\"document\": \"tel-03436527v1\", \"term\": \"contrat\", \"tfidf\": 0.2135532719828461}, {\"document\": \"tel-03436527v1\", \"term\": \"ren\\u00e9gociations\", \"tfidf\": 0.183945982550873}, {\"document\": \"tel-03436530v1\", \"term\": \"minority\", \"tfidf\": 0.4267488798242121}, {\"document\": \"tel-03436530v1\", \"term\": \"minorities\", \"tfidf\": 0.26542906801869554}, {\"document\": \"tel-03436530v1\", \"term\": \"manager\", \"tfidf\": 0.21340311477039964}, {\"document\": \"tel-03436530v1\", \"term\": \"managers\", \"tfidf\": 0.19778733960305286}, {\"document\": \"tel-03436530v1\", \"term\": \"jobseekers\", \"tfidf\": 0.19223617611794697}, {\"document\": \"tel-03436542v2\", \"term\": \"andra\", \"tfidf\": 0.5474655484267783}, {\"document\": \"tel-03436542v2\", \"term\": \"d\\u00e9chets\", \"tfidf\": 0.36328023810291044}, {\"document\": \"tel-03436542v2\", \"term\": \"s\\u00fbret\\u00e9\", \"tfidf\": 0.2345775401943355}, {\"document\": \"tel-03436542v2\", \"term\": \"projet\", \"tfidf\": 0.20028029099601513}, {\"document\": \"tel-03436542v2\", \"term\": \"stockage\", \"tfidf\": 0.1926020255194625}, {\"document\": \"tel-03436545v1\", \"term\": \"consommation\", \"tfidf\": 0.3585026943186524}, {\"document\": \"tel-03436545v1\", \"term\": \"biens\", \"tfidf\": 0.24643553081679667}, {\"document\": \"tel-03436545v1\", \"term\": \"castes\", \"tfidf\": 0.2146086052621991}, {\"document\": \"tel-03436545v1\", \"term\": \"pr\\u00e9f\\u00e9rences\", \"tfidf\": 0.1826140621187475}, {\"document\": \"tel-03436545v1\", \"term\": \"m\\u00e9nages\", \"tfidf\": 0.155581945151365}, {\"document\": \"tel-03436548v1\", \"term\": \"mongolie\", \"tfidf\": 0.543124996236182}, {\"document\": \"tel-03436548v1\", \"term\": \"mongoles\", \"tfidf\": 0.23605718919167096}, {\"document\": \"tel-03436548v1\", \"term\": \"d\\u00e9veloppement\", \"tfidf\": 0.21622715178911175}, {\"document\": \"tel-03436548v1\", \"term\": \"tolgoi\", \"tfidf\": 0.19142103367424998}, {\"document\": \"tel-03436548v1\", \"term\": \"autorit\\u00e9s\", \"tfidf\": 0.17025370359850725}, {\"document\": \"tel-03436551v1\", \"term\": \"mone\", \"tfidf\": 0.3948238437745227}, {\"document\": \"tel-03436551v1\", \"term\": \"taire\", \"tfidf\": 0.3813370812348907}, {\"document\": \"tel-03436551v1\", \"term\": \"politique\", \"tfidf\": 0.30042566556681877}, {\"document\": \"tel-03436551v1\", \"term\": \"macroe\", \"tfidf\": 0.17424751975505873}, {\"document\": \"tel-03436551v1\", \"term\": \"conomique\", \"tfidf\": 0.15621607297267132}, {\"document\": \"tel-03437063v1\", \"term\": \"p53\", \"tfidf\": 0.5298027084769771}, {\"document\": \"tel-03437063v1\", \"term\": \"chikv\", \"tfidf\": 0.36196319924384784}, {\"document\": \"tel-03437063v1\", \"term\": \"infection\", \"tfidf\": 0.301820208739388}, {\"document\": \"tel-03437063v1\", \"term\": \"viral\", \"tfidf\": 0.2470174994916894}, {\"document\": \"tel-03437063v1\", \"term\": \"cells\", \"tfidf\": 0.21206796447224227}, {\"document\": \"tel-03437096v1\", \"term\": \"patient\", \"tfidf\": 0.5364174390076406}, {\"document\": \"tel-03437096v1\", \"term\": \"real\", \"tfidf\": 0.2787930350693092}, {\"document\": \"tel-03437096v1\", \"term\": \"virtual\", \"tfidf\": 0.24302705483552364}, {\"document\": \"tel-03437096v1\", \"term\": \"dt\", \"tfidf\": 0.22161795783378638}, {\"document\": \"tel-03437096v1\", \"term\": \"dtm\", \"tfidf\": 0.21378963789872585}, {\"document\": \"tel-03437282v1\", \"term\": \"framing\", \"tfidf\": 0.5158231905483802}, {\"document\": \"tel-03437282v1\", \"term\": \"sanctions\", \"tfidf\": 0.2805092880457073}, {\"document\": \"tel-03437282v1\", \"term\": \"symbolic\", \"tfidf\": 0.230683720230686}, {\"document\": \"tel-03437282v1\", \"term\": \"sanction\", \"tfidf\": 0.18439468100364162}, {\"document\": \"tel-03437282v1\", \"term\": \"subjects\", \"tfidf\": 0.18247671964928963}, {\"document\": \"tel-03437572v1\", \"term\": \"cpz\", \"tfidf\": 0.5894172736590402}, {\"document\": \"tel-03437572v1\", \"term\": \"liposomes\", \"tfidf\": 0.4115319974443356}, {\"document\": \"tel-03437572v1\", \"term\": \"cd\", \"tfidf\": 0.33123572699905773}, {\"document\": \"tel-03437572v1\", \"term\": \"drug\", \"tfidf\": 0.1823892723106914}, {\"document\": \"tel-03437572v1\", \"term\": \"drv\", \"tfidf\": 0.1716500650011349}, {\"document\": \"tel-03437573v1\", \"term\": \"ch2\", \"tfidf\": 0.285163041244533}, {\"document\": \"tel-03437573v1\", \"term\": \"fatty\", \"tfidf\": 0.2550298567996114}, {\"document\": \"tel-03437573v1\", \"term\": \"cleavage\", \"tfidf\": 0.2096583022323576}, {\"document\": \"tel-03437573v1\", \"term\": \"catalyst\", \"tfidf\": 0.2009016241510626}, {\"document\": \"tel-03437573v1\", \"term\": \"aldehydes\", \"tfidf\": 0.20051542119208177}, {\"document\": \"tel-03437616v1\", \"term\": \"sepsis\", \"tfidf\": 0.47114503077869174}, {\"document\": \"tel-03437616v1\", \"term\": \"lactate\", \"tfidf\": 0.35652789501122883}, {\"document\": \"tel-03437616v1\", \"term\": \"vegf\", \"tfidf\": 0.23984512147414322}, {\"document\": \"tel-03437616v1\", \"term\": \"patients\", \"tfidf\": 0.18486181010665798}, {\"document\": \"tel-03437616v1\", \"term\": \"inflammatoire\", \"tfidf\": 0.13374786784704273}, {\"document\": \"tel-03438100v1\", \"term\": \"amazonie\", \"tfidf\": 0.4286105791125564}, {\"document\": \"tel-03438100v1\", \"term\": \"br\\u00e9sil\", \"tfidf\": 0.29811753770066757}, {\"document\": \"tel-03438100v1\", \"term\": \"coudreau\", \"tfidf\": 0.15906542196358872}, {\"document\": \"tel-03438100v1\", \"term\": \"ver\\u00edssimo\", \"tfidf\": 0.15434424401342234}, {\"document\": \"tel-03438100v1\", \"term\": \"nery\", \"tfidf\": 0.15322694193033234}, {\"document\": \"tel-03438101v1\", \"term\": \"patients\", \"tfidf\": 0.41141746692313486}, {\"document\": \"tel-03438101v1\", \"term\": \"alcohol\", \"tfidf\": 0.38230715393555825}, {\"document\": \"tel-03438101v1\", \"term\": \"tual\", \"tfidf\": 0.215639209628311}, {\"document\": \"tel-03438101v1\", \"term\": \"alcool\", \"tfidf\": 0.21364484953255677}, {\"document\": \"tel-03438101v1\", \"term\": \"korsakoff\", \"tfidf\": 0.1675474228311871}, {\"document\": \"tel-03438102v1\", \"term\": \"vo2\", \"tfidf\": 0.6171468838127415}, {\"document\": \"tel-03438102v1\", \"term\": \"temp\\u00e9rature\", \"tfidf\": 0.25681198445194653}, {\"document\": \"tel-03438102v1\", \"term\": \"minces\", \"tfidf\": 0.18603071876930888}, {\"document\": \"tel-03438102v1\", \"term\": \"vanadium\", \"tfidf\": 0.18186952831287503}, {\"document\": \"tel-03438102v1\", \"term\": \"couches\", \"tfidf\": 0.17690765079197954}, {\"document\": \"tel-03438103v1\", \"term\": \"postnatal\", \"tfidf\": 0.7531652067459964}, {\"document\": \"tel-03438103v1\", \"term\": \"pregnancy\", \"tfidf\": 0.37064237013512397}, {\"document\": \"tel-03438103v1\", \"term\": \"exposome\", \"tfidf\": 0.19914963234436778}, {\"document\": \"tel-03438103v1\", \"term\": \"rownames\", \"tfidf\": 0.11904974840884262}, {\"document\": \"tel-03438103v1\", \"term\": \"300m\", \"tfidf\": 0.09524452471621078}, {\"document\": \"tel-03438104v1\", \"term\": \"bones\", \"tfidf\": 0.2646855512084113}, {\"document\": \"tel-03438104v1\", \"term\": \"shape\", \"tfidf\": 0.2327384204715479}, {\"document\": \"tel-03438104v1\", \"term\": \"distal\", \"tfidf\": 0.19253733584088426}, {\"document\": \"tel-03438104v1\", \"term\": \"rhinos\", \"tfidf\": 0.16751873748672413}, {\"document\": \"tel-03438104v1\", \"term\": \"limb\", \"tfidf\": 0.16615256204200393}, {\"document\": \"tel-03438105v1\", \"term\": \"entartrage\", \"tfidf\": 0.32398052394320254}, {\"document\": \"tel-03438105v1\", \"term\": \"zinc\", \"tfidf\": 0.24208119849594642}, {\"document\": \"tel-03438105v1\", \"term\": \"carbonate\", \"tfidf\": 0.2308351908146089}, {\"document\": \"tel-03438105v1\", \"term\": \"caco3\", \"tfidf\": 0.2278432468082477}, {\"document\": \"tel-03438105v1\", \"term\": \"ions\", \"tfidf\": 0.22702385490938543}, {\"document\": \"tel-03438755v1\", \"term\": \"control\", \"tfidf\": 0.3478483184096243}, {\"document\": \"tel-03438755v1\", \"term\": \"quadrotor\", \"tfidf\": 0.29564605483127143}, {\"document\": \"tel-03438755v1\", \"term\": \"vehicle\", \"tfidf\": 0.26155199182236283}, {\"document\": \"tel-03438755v1\", \"term\": \"drone\", \"tfidf\": 0.17643475909449147}, {\"document\": \"tel-03438755v1\", \"term\": \"fault\", \"tfidf\": 0.17509532668402764}, {\"document\": \"tel-03438811v1\", \"term\": \"agricultores\", \"tfidf\": 0.6845396841931591}, {\"document\": \"tel-03438811v1\", \"term\": \"agricultura\", \"tfidf\": 0.2137924679839977}, {\"document\": \"tel-03438811v1\", \"term\": \"agricultor\", \"tfidf\": 0.21133463821520418}, {\"document\": \"tel-03438811v1\", \"term\": \"ecol\\u00f3gicos\", \"tfidf\": 0.18009925567173002}, {\"document\": \"tel-03438811v1\", \"term\": \"qv\", \"tfidf\": 0.1624791429453896}, {\"document\": \"tel-03438828v1\", \"term\": \"toy\", \"tfidf\": 0.2904310765151769}, {\"document\": \"tel-03438828v1\", \"term\": \"learning\", \"tfidf\": 0.2807115756543327}, {\"document\": \"tel-03438828v1\", \"term\": \"tool\", \"tfidf\": 0.27241764486202347}, {\"document\": \"tel-03438828v1\", \"term\": \"goal\", \"tfidf\": 0.2455470691027362}, {\"document\": \"tel-03438828v1\", \"term\": \"exploration\", \"tfidf\": 0.19961664823644037}, {\"document\": \"tel-03438829v1\", \"term\": \"tieta\", \"tfidf\": 0.25530818421643625}, {\"document\": \"tel-03438829v1\", \"term\": \"novela\", \"tfidf\": 0.18906447583936986}, {\"document\": \"tel-03438829v1\", \"term\": \"beata\", \"tfidf\": 0.18315933117812466}, {\"document\": \"tel-03438829v1\", \"term\": \"beatas\", \"tfidf\": 0.17842501179525855}, {\"document\": \"tel-03438829v1\", \"term\": \"roque\", \"tfidf\": 0.17000586424327624}, {\"document\": \"tel-03438863v1\", \"term\": \"causal\", \"tfidf\": 0.4715274739390574}, {\"document\": \"tel-03438863v1\", \"term\": \"xt\", \"tfidf\": 0.4392620698395188}, {\"document\": \"tel-03438863v1\", \"term\": \"time\", \"tfidf\": 0.23116124430055837}, {\"document\": \"tel-03438863v1\", \"term\": \"pq\", \"tfidf\": 0.22974762289720008}, {\"document\": \"tel-03438863v1\", \"term\": \"causation\", \"tfidf\": 0.21039846772835996}, {\"document\": \"tel-03438921v1\", \"term\": \"stirling\", \"tfidf\": 0.6176008800664811}, {\"document\": \"tel-03438921v1\", \"term\": \"cooling\", \"tfidf\": 0.2557232069088874}, {\"document\": \"tel-03438921v1\", \"term\": \"heat\", \"tfidf\": 0.2356223747531345}, {\"document\": \"tel-03438921v1\", \"term\": \"losses\", \"tfidf\": 0.2075097992711472}, {\"document\": \"tel-03438921v1\", \"term\": \"regenerator\", \"tfidf\": 0.204516137821174}, {\"document\": \"tel-03438923v1\", \"term\": \"lisa\", \"tfidf\": 0.37563507164942533}, {\"document\": \"tel-03438923v1\", \"term\": \"bruit\", \"tfidf\": 0.2742703203601094}, {\"document\": \"tel-03438923v1\", \"term\": \"10\", \"tfidf\": 0.2647445531898973}, {\"document\": \"tel-03438923v1\", \"term\": \"sgwb\", \"tfidf\": 0.20614568625811044}, {\"document\": \"tel-03438923v1\", \"term\": \"cosmologique\", \"tfidf\": 0.18573227378650062}, {\"document\": \"tel-03438925v1\", \"term\": \"lungs\", \"tfidf\": 0.47801470804037494}, {\"document\": \"tel-03438925v1\", \"term\": \"tree\", \"tfidf\": 0.38203328724700225}, {\"document\": \"tel-03438925v1\", \"term\": \"hfcwo\", \"tfidf\": 0.277173795400874}, {\"document\": \"tel-03438925v1\", \"term\": \"mucus\", \"tfidf\": 0.18786853556601352}, {\"document\": \"tel-03438925v1\", \"term\": \"airways\", \"tfidf\": 0.16051006059729342}, {\"document\": \"tel-03438938v1\", \"term\": \"suspensions\", \"tfidf\": 0.49210752337496827}, {\"document\": \"tel-03438938v1\", \"term\": \"particules\", \"tfidf\": 0.34196516268461197}, {\"document\": \"tel-03438938v1\", \"term\": \"viscosit\\u00e9\", \"tfidf\": 0.29106101964366815}, {\"document\": \"tel-03438938v1\", \"term\": \"pdms\", \"tfidf\": 0.25383560312697473}, {\"document\": \"tel-03438938v1\", \"term\": \"cisaillement\", \"tfidf\": 0.1756952952792801}, {\"document\": \"tel-03439261v1\", \"term\": \"pendulum\", \"tfidf\": 0.6418014802281975}, {\"document\": \"tel-03439261v1\", \"term\": \"zaouali\", \"tfidf\": 0.2679434034132993}, {\"document\": \"tel-03439261v1\", \"term\": \"rott\", \"tfidf\": 0.20339891737247204}, {\"document\": \"tel-03439261v1\", \"term\": \"energy\", \"tfidf\": 0.15472409288236577}, {\"document\": \"tel-03439261v1\", \"term\": \"rotating\", \"tfidf\": 0.12699371630211886}, {\"document\": \"tel-03439346v1\", \"term\": \"droit\", \"tfidf\": 0.3654702209381668}, {\"document\": \"tel-03439346v1\", \"term\": \"art\", \"tfidf\": 0.34044569286351417}, {\"document\": \"tel-03439346v1\", \"term\": \"artiste\", \"tfidf\": 0.31058844400861224}, {\"document\": \"tel-03439346v1\", \"term\": \"\\u0153uvre\", \"tfidf\": 0.2808284542184925}, {\"document\": \"tel-03439346v1\", \"term\": \"corps\", \"tfidf\": 0.2690648382930853}, {\"document\": \"tel-03439354v1\", \"term\": \"credit\", \"tfidf\": 0.5717133807898391}, {\"document\": \"tel-03439354v1\", \"term\": \"bank\", \"tfidf\": 0.2918845996746273}, {\"document\": \"tel-03439354v1\", \"term\": \"firm\", \"tfidf\": 0.2527315968102364}, {\"document\": \"tel-03439354v1\", \"term\": \"branch\", \"tfidf\": 0.22439579630895728}, {\"document\": \"tel-03439354v1\", \"term\": \"broadband\", \"tfidf\": 0.2018699968882239}, {\"document\": \"tel-03439358v1\", \"term\": \"iv\", \"tfidf\": 0.2567929446477379}, {\"document\": \"tel-03439358v1\", \"term\": \"hamiltonian\", \"tfidf\": 0.23801833601585298}, {\"document\": \"tel-03439358v1\", \"term\": \"bc\", \"tfidf\": 0.23408581132589742}, {\"document\": \"tel-03439358v1\", \"term\": \"iii\", \"tfidf\": 0.23347378548667}, {\"document\": \"tel-03439358v1\", \"term\": \"phs\", \"tfidf\": 0.231360104118176}, {\"document\": \"tel-03439366v1\", \"term\": \"\\u03c3i\", \"tfidf\": 0.21794527116507031}, {\"document\": \"tel-03439366v1\", \"term\": \"zp\", \"tfidf\": 0.19990536511235962}, {\"document\": \"tel-03439366v1\", \"term\": \"encryption\", \"tfidf\": 0.18619583603146272}, {\"document\": \"tel-03439366v1\", \"term\": \"keys\", \"tfidf\": 0.17981813054028326}, {\"document\": \"tel-03439366v1\", \"term\": \"proof\", \"tfidf\": 0.17761623356902445}, {\"document\": \"tel-03439538v1\", \"term\": \"ch\\u00e2taignier\", \"tfidf\": 0.4303977984223825}, {\"document\": \"tel-03439538v1\", \"term\": \"ch\\u00e2taigniers\", \"tfidf\": 0.36021623188165286}, {\"document\": \"tel-03439538v1\", \"term\": \"vari\\u00e9t\\u00e9s\", \"tfidf\": 0.27405358272549474}, {\"document\": \"tel-03439538v1\", \"term\": \"pyr\\u00e9n\\u00e9es\", \"tfidf\": 0.21763625901906586}, {\"document\": \"tel-03439538v1\", \"term\": \"ch\\u00e2taignes\", \"tfidf\": 0.17775484172134504}, {\"document\": \"tel-03440058v1\", \"term\": \"microfinance\", \"tfidf\": 0.3892219133933119}, {\"document\": \"tel-03440058v1\", \"term\": \"imf\", \"tfidf\": 0.3636030731566356}, {\"document\": \"tel-03440058v1\", \"term\": \"burundi\", \"tfidf\": 0.35813626858719383}, {\"document\": \"tel-03440058v1\", \"term\": \"microentrepreneuriat\", \"tfidf\": 0.2536533715671387}, {\"document\": \"tel-03440058v1\", \"term\": \"nsengiyumva\", \"tfidf\": 0.2197733375185906}, {\"document\": \"tel-03440181v1\", \"term\": \"rna\", \"tfidf\": 0.3864091490890927}, {\"document\": \"tel-03440181v1\", \"term\": \"arn\", \"tfidf\": 0.3610814066433885}, {\"document\": \"tel-03440181v1\", \"term\": \"3d\", \"tfidf\": 0.19606086880428117}, {\"document\": \"tel-03440181v1\", \"term\": \"structure\", \"tfidf\": 0.18246754583948935}, {\"document\": \"tel-03440181v1\", \"term\": \"structures\", \"tfidf\": 0.16904585560057186}, {\"document\": \"tel-03440243v1\", \"term\": \"patient\", \"tfidf\": 0.29774884716672123}, {\"document\": \"tel-03440243v1\", \"term\": \"sant\\u00e9\", \"tfidf\": 0.28387596377737456}, {\"document\": \"tel-03440243v1\", \"term\": \"gestion\", \"tfidf\": 0.244077883076027}, {\"document\": \"tel-03440243v1\", \"term\": \"risques\", \"tfidf\": 0.22023829332009473}, {\"document\": \"tel-03440243v1\", \"term\": \"recherche\", \"tfidf\": 0.14649330633695912}, {\"document\": \"tel-03440321v1\", \"term\": \"aspirations\", \"tfidf\": 0.4943705312722076}, {\"document\": \"tel-03440321v1\", \"term\": \"education\", \"tfidf\": 0.26946725689804285}, {\"document\": \"tel-03440321v1\", \"term\": \"capability\", \"tfidf\": 0.21815785354139686}, {\"document\": \"tel-03440321v1\", \"term\": \"school\", \"tfidf\": 0.18838149720722894}, {\"document\": \"tel-03440321v1\", \"term\": \"pupils\", \"tfidf\": 0.1867457189345233}]}}, {\"mode\": \"vega-lite\"});\n",
       "</script>"
      ],
      "text/plain": [
       "alt.LayerChart(...)"
      ]
     },
     "execution_count": 211,
     "metadata": {},
     "output_type": "execute_result"
    }
   ],
   "source": [
    "# Terms in this list will get a red dot in the visualization\n",
    "term_list = ['war', 'peace']\n",
    "\n",
    "# adding a little randomness to break ties in term ranking\n",
    "top_tfidf_plusRand = top_tfidf.copy()\n",
    "top_tfidf_plusRand['tfidf'] = top_tfidf_plusRand['tfidf'] + np.random.rand(top_tfidf.shape[0])*0.0001\n",
    "\n",
    "# base for all visualizations, with rank calculation\n",
    "base = alt.Chart(top_tfidf_plusRand).encode(\n",
    "    x = 'rank:O',\n",
    "    y = 'document:N'\n",
    ").transform_window(\n",
    "    rank = \"rank()\",\n",
    "    sort = [alt.SortField(\"tfidf\", order=\"descending\")],\n",
    "    groupby = [\"document\"],\n",
    ")\n",
    "\n",
    "# heatmap specification\n",
    "heatmap = base.mark_rect().encode(\n",
    "    color = 'tfidf:Q'\n",
    ")\n",
    "\n",
    "# red circle over terms in above list\n",
    "circle = base.mark_circle(size=100).encode(\n",
    "    color = alt.condition(\n",
    "        alt.FieldOneOfPredicate(field='term', oneOf=term_list),\n",
    "        alt.value('red'),\n",
    "        alt.value('#FFFFFF00')        \n",
    "    )\n",
    ")\n",
    "\n",
    "# text labels, white for darker heatmap colors\n",
    "text = base.mark_text(baseline='middle').encode(\n",
    "    text = 'term:N'\n",
    ")\n",
    "\n",
    "# display the three superimposed visualizations\n",
    "(heatmap + circle + text).properties(width = 600)"
   ]
  },
  {
   "cell_type": "markdown",
   "metadata": {},
   "source": [
    "# N-gram"
   ]
  },
  {
   "cell_type": "markdown",
   "metadata": {},
   "source": [
    "## Bigram"
   ]
  },
  {
   "cell_type": "code",
   "execution_count": 278,
   "metadata": {},
   "outputs": [],
   "source": [
    "text_titles = [Path(text).stem for text in text_files[:10]]"
   ]
  },
  {
   "cell_type": "code",
   "execution_count": 279,
   "metadata": {},
   "outputs": [],
   "source": [
    "tfidf_vectorizer = TfidfVectorizer(input='filename',stop_words=final_stopwords_list,ngram_range=(2,2))"
   ]
  },
  {
   "cell_type": "code",
   "execution_count": 280,
   "metadata": {},
   "outputs": [
    {
     "name": "stderr",
     "output_type": "stream",
     "text": [
      "C:\\ProgramData\\Anaconda3\\lib\\site-packages\\sklearn\\feature_extraction\\text.py:401: UserWarning: Your stop_words may be inconsistent with your preprocessing. Tokenizing the stop words generated tokens ['ll', 'neuf', 'printr', 'qu', 'quelqu', 've'] not in stop_words.\n",
      "  % sorted(inconsistent)\n"
     ]
    }
   ],
   "source": [
    "tfidf_vector = tfidf_vectorizer.fit_transform(text_files[:10])"
   ]
  },
  {
   "cell_type": "code",
   "execution_count": 281,
   "metadata": {},
   "outputs": [
    {
     "data": {
      "text/plain": [
       "<10x373248 sparse matrix of type '<class 'numpy.float64'>'\n",
       "\twith 378519 stored elements in Compressed Sparse Row format>"
      ]
     },
     "execution_count": 281,
     "metadata": {},
     "output_type": "execute_result"
    }
   ],
   "source": [
    "tfidf_vector"
   ]
  },
  {
   "cell_type": "code",
   "execution_count": 282,
   "metadata": {},
   "outputs": [
    {
     "name": "stderr",
     "output_type": "stream",
     "text": [
      "C:\\ProgramData\\Anaconda3\\lib\\site-packages\\sklearn\\utils\\deprecation.py:87: FutureWarning: Function get_feature_names is deprecated; get_feature_names is deprecated in 1.0 and will be removed in 1.2. Please use get_feature_names_out instead.\n",
      "  warnings.warn(msg, category=FutureWarning)\n"
     ]
    }
   ],
   "source": [
    "tfidf_df = pd.DataFrame(tfidf_vector.toarray(), index=text_titles, columns=tfidf_vectorizer.get_feature_names())"
   ]
  },
  {
   "cell_type": "code",
   "execution_count": 283,
   "metadata": {},
   "outputs": [],
   "source": [
    "tfidf_df.loc['00_Document Frequency'] = (tfidf_df > 0).sum()"
   ]
  },
  {
   "cell_type": "code",
   "execution_count": 284,
   "metadata": {},
   "outputs": [],
   "source": [
    "tfidf_df = tfidf_df.drop('00_Document Frequency', errors='ignore')\n"
   ]
  },
  {
   "cell_type": "code",
   "execution_count": 285,
   "metadata": {
    "scrolled": true
   },
   "outputs": [
    {
     "data": {
      "text/html": [
       "<div>\n",
       "<style scoped>\n",
       "    .dataframe tbody tr th:only-of-type {\n",
       "        vertical-align: middle;\n",
       "    }\n",
       "\n",
       "    .dataframe tbody tr th {\n",
       "        vertical-align: top;\n",
       "    }\n",
       "\n",
       "    .dataframe thead th {\n",
       "        text-align: right;\n",
       "    }\n",
       "</style>\n",
       "<table border=\"1\" class=\"dataframe\">\n",
       "  <thead>\n",
       "    <tr style=\"text-align: right;\">\n",
       "      <th></th>\n",
       "      <th>level_0</th>\n",
       "      <th>level_1</th>\n",
       "      <th>0</th>\n",
       "    </tr>\n",
       "  </thead>\n",
       "  <tbody>\n",
       "    <tr>\n",
       "      <th>0</th>\n",
       "      <td>tel-01689242v1</td>\n",
       "      <td>00 00</td>\n",
       "      <td>0.001802</td>\n",
       "    </tr>\n",
       "    <tr>\n",
       "      <th>1</th>\n",
       "      <td>tel-01689242v1</td>\n",
       "      <td>00 01</td>\n",
       "      <td>0.000000</td>\n",
       "    </tr>\n",
       "    <tr>\n",
       "      <th>2</th>\n",
       "      <td>tel-01689242v1</td>\n",
       "      <td>00 025</td>\n",
       "      <td>0.000000</td>\n",
       "    </tr>\n",
       "    <tr>\n",
       "      <th>3</th>\n",
       "      <td>tel-01689242v1</td>\n",
       "      <td>00 05</td>\n",
       "      <td>0.000000</td>\n",
       "    </tr>\n",
       "    <tr>\n",
       "      <th>4</th>\n",
       "      <td>tel-01689242v1</td>\n",
       "      <td>00 11</td>\n",
       "      <td>0.001517</td>\n",
       "    </tr>\n",
       "  </tbody>\n",
       "</table>\n",
       "</div>"
      ],
      "text/plain": [
       "          level_0 level_1         0\n",
       "0  tel-01689242v1   00 00  0.001802\n",
       "1  tel-01689242v1   00 01  0.000000\n",
       "2  tel-01689242v1  00 025  0.000000\n",
       "3  tel-01689242v1   00 05  0.000000\n",
       "4  tel-01689242v1   00 11  0.001517"
      ]
     },
     "execution_count": 285,
     "metadata": {},
     "output_type": "execute_result"
    }
   ],
   "source": [
    "tfidf_df.stack().reset_index().head()\n"
   ]
  },
  {
   "cell_type": "code",
   "execution_count": 286,
   "metadata": {},
   "outputs": [],
   "source": [
    "tfidf_df = tfidf_df.stack().reset_index()\n"
   ]
  },
  {
   "cell_type": "code",
   "execution_count": 287,
   "metadata": {},
   "outputs": [],
   "source": [
    "tfidf_df = tfidf_df.rename(columns={0:'tfidf', 'level_0': 'document','level_1': 'term', 'level_2': 'term'})\n"
   ]
  },
  {
   "cell_type": "code",
   "execution_count": 288,
   "metadata": {
    "scrolled": false
   },
   "outputs": [
    {
     "data": {
      "text/plain": [
       "<pandas.core.groupby.generic.DataFrameGroupBy object at 0x000001FCC7D05F98>"
      ]
     },
     "execution_count": 288,
     "metadata": {},
     "output_type": "execute_result"
    }
   ],
   "source": [
    "tfidf_df.sort_values(by=['document','tfidf'], ascending=[True,False]).groupby(['document'])\n"
   ]
  },
  {
   "cell_type": "code",
   "execution_count": 289,
   "metadata": {
    "scrolled": false
   },
   "outputs": [],
   "source": [
    "top_tfidf= tfidf_df.sort_values(by=['document','tfidf'], ascending=[True,False]).groupby(['document'])"
   ]
  },
  {
   "cell_type": "code",
   "execution_count": 290,
   "metadata": {
    "scrolled": true
   },
   "outputs": [
    {
     "data": {
      "text/html": [
       "<div>\n",
       "<style scoped>\n",
       "    .dataframe tbody tr th:only-of-type {\n",
       "        vertical-align: middle;\n",
       "    }\n",
       "\n",
       "    .dataframe tbody tr th {\n",
       "        vertical-align: top;\n",
       "    }\n",
       "\n",
       "    .dataframe thead th {\n",
       "        text-align: right;\n",
       "    }\n",
       "</style>\n",
       "<table border=\"1\" class=\"dataframe\">\n",
       "  <thead>\n",
       "    <tr style=\"text-align: right;\">\n",
       "      <th></th>\n",
       "      <th>document</th>\n",
       "      <th>term</th>\n",
       "      <th>tfidf</th>\n",
       "    </tr>\n",
       "  </thead>\n",
       "  <tbody>\n",
       "    <tr>\n",
       "      <th>288046</th>\n",
       "      <td>tel-01689242v1</td>\n",
       "      <td>réseaux sociaux</td>\n",
       "      <td>0.368825</td>\n",
       "    </tr>\n",
       "    <tr>\n",
       "      <th>304930</th>\n",
       "      <td>tel-01689242v1</td>\n",
       "      <td>sociaux numériques</td>\n",
       "      <td>0.358015</td>\n",
       "    </tr>\n",
       "    <tr>\n",
       "      <th>178041</th>\n",
       "      <td>tel-01689242v1</td>\n",
       "      <td>intention adoption</td>\n",
       "      <td>0.330708</td>\n",
       "    </tr>\n",
       "    <tr>\n",
       "      <th>30303</th>\n",
       "      <td>tel-01689242v1</td>\n",
       "      <td>adoption rsn</td>\n",
       "      <td>0.329191</td>\n",
       "    </tr>\n",
       "    <tr>\n",
       "      <th>141720</th>\n",
       "      <td>tel-01689242v1</td>\n",
       "      <td>facilité utilisation</td>\n",
       "      <td>0.159286</td>\n",
       "    </tr>\n",
       "  </tbody>\n",
       "</table>\n",
       "</div>"
      ],
      "text/plain": [
       "              document                  term     tfidf\n",
       "288046  tel-01689242v1       réseaux sociaux  0.368825\n",
       "304930  tel-01689242v1    sociaux numériques  0.358015\n",
       "178041  tel-01689242v1    intention adoption  0.330708\n",
       "30303   tel-01689242v1          adoption rsn  0.329191\n",
       "141720  tel-01689242v1  facilité utilisation  0.159286"
      ]
     },
     "execution_count": 290,
     "metadata": {},
     "output_type": "execute_result"
    }
   ],
   "source": [
    "top_tfidf.head(5).head(5)"
   ]
  },
  {
   "cell_type": "markdown",
   "metadata": {},
   "source": [
    "## Trigram"
   ]
  },
  {
   "cell_type": "code",
   "execution_count": 327,
   "metadata": {},
   "outputs": [],
   "source": [
    "text_titles = [Path(text).stem for text in text_files[:5]]"
   ]
  },
  {
   "cell_type": "code",
   "execution_count": 328,
   "metadata": {},
   "outputs": [],
   "source": [
    "tfidf_vectorizer = TfidfVectorizer(input='filename',stop_words=final_stopwords_list,ngram_range=(3,3))"
   ]
  },
  {
   "cell_type": "code",
   "execution_count": 329,
   "metadata": {},
   "outputs": [
    {
     "name": "stderr",
     "output_type": "stream",
     "text": [
      "C:\\ProgramData\\Anaconda3\\lib\\site-packages\\sklearn\\feature_extraction\\text.py:401: UserWarning: Your stop_words may be inconsistent with your preprocessing. Tokenizing the stop words generated tokens ['ll', 'neuf', 'printr', 'qu', 'quelqu', 've'] not in stop_words.\n",
      "  % sorted(inconsistent)\n"
     ]
    }
   ],
   "source": [
    "tfidf_vector = tfidf_vectorizer.fit_transform(text_files[:5])"
   ]
  },
  {
   "cell_type": "code",
   "execution_count": 330,
   "metadata": {},
   "outputs": [
    {
     "data": {
      "text/plain": [
       "<5x118519 sparse matrix of type '<class 'numpy.float64'>'\n",
       "\twith 118684 stored elements in Compressed Sparse Row format>"
      ]
     },
     "execution_count": 330,
     "metadata": {},
     "output_type": "execute_result"
    }
   ],
   "source": [
    "tfidf_vector"
   ]
  },
  {
   "cell_type": "code",
   "execution_count": 331,
   "metadata": {},
   "outputs": [
    {
     "name": "stderr",
     "output_type": "stream",
     "text": [
      "C:\\ProgramData\\Anaconda3\\lib\\site-packages\\sklearn\\utils\\deprecation.py:87: FutureWarning: Function get_feature_names is deprecated; get_feature_names is deprecated in 1.0 and will be removed in 1.2. Please use get_feature_names_out instead.\n",
      "  warnings.warn(msg, category=FutureWarning)\n"
     ]
    }
   ],
   "source": [
    "tfidf_df = pd.DataFrame(tfidf_vector.toarray(), index=text_titles, columns=tfidf_vectorizer.get_feature_names())"
   ]
  },
  {
   "cell_type": "code",
   "execution_count": 332,
   "metadata": {},
   "outputs": [],
   "source": [
    "tfidf_df.loc['00_Document Frequency'] = (tfidf_df > 0).sum()"
   ]
  },
  {
   "cell_type": "code",
   "execution_count": 333,
   "metadata": {},
   "outputs": [],
   "source": [
    "tfidf_df = tfidf_df.drop('00_Document Frequency', errors='ignore')\n"
   ]
  },
  {
   "cell_type": "code",
   "execution_count": 334,
   "metadata": {
    "scrolled": true
   },
   "outputs": [
    {
     "data": {
      "text/html": [
       "<div>\n",
       "<style scoped>\n",
       "    .dataframe tbody tr th:only-of-type {\n",
       "        vertical-align: middle;\n",
       "    }\n",
       "\n",
       "    .dataframe tbody tr th {\n",
       "        vertical-align: top;\n",
       "    }\n",
       "\n",
       "    .dataframe thead th {\n",
       "        text-align: right;\n",
       "    }\n",
       "</style>\n",
       "<table border=\"1\" class=\"dataframe\">\n",
       "  <thead>\n",
       "    <tr style=\"text-align: right;\">\n",
       "      <th></th>\n",
       "      <th>level_0</th>\n",
       "      <th>level_1</th>\n",
       "      <th>0</th>\n",
       "    </tr>\n",
       "  </thead>\n",
       "  <tbody>\n",
       "    <tr>\n",
       "      <th>0</th>\n",
       "      <td>tel-01689242v1</td>\n",
       "      <td>00 00 00</td>\n",
       "      <td>0.001908</td>\n",
       "    </tr>\n",
       "    <tr>\n",
       "      <th>1</th>\n",
       "      <td>tel-01689242v1</td>\n",
       "      <td>00 00 01</td>\n",
       "      <td>0.000000</td>\n",
       "    </tr>\n",
       "    <tr>\n",
       "      <th>2</th>\n",
       "      <td>tel-01689242v1</td>\n",
       "      <td>00 00 15</td>\n",
       "      <td>0.000000</td>\n",
       "    </tr>\n",
       "    <tr>\n",
       "      <th>3</th>\n",
       "      <td>tel-01689242v1</td>\n",
       "      <td>00 00 73</td>\n",
       "      <td>0.002365</td>\n",
       "    </tr>\n",
       "    <tr>\n",
       "      <th>4</th>\n",
       "      <td>tel-01689242v1</td>\n",
       "      <td>00 00 gmt</td>\n",
       "      <td>0.000000</td>\n",
       "    </tr>\n",
       "  </tbody>\n",
       "</table>\n",
       "</div>"
      ],
      "text/plain": [
       "          level_0    level_1         0\n",
       "0  tel-01689242v1   00 00 00  0.001908\n",
       "1  tel-01689242v1   00 00 01  0.000000\n",
       "2  tel-01689242v1   00 00 15  0.000000\n",
       "3  tel-01689242v1   00 00 73  0.002365\n",
       "4  tel-01689242v1  00 00 gmt  0.000000"
      ]
     },
     "execution_count": 334,
     "metadata": {},
     "output_type": "execute_result"
    }
   ],
   "source": [
    "tfidf_df.stack().reset_index().head()\n"
   ]
  },
  {
   "cell_type": "code",
   "execution_count": 335,
   "metadata": {},
   "outputs": [],
   "source": [
    "tfidf_df = tfidf_df.stack().reset_index()\n"
   ]
  },
  {
   "cell_type": "code",
   "execution_count": 336,
   "metadata": {},
   "outputs": [],
   "source": [
    "tfidf_df = tfidf_df.rename(columns={0:'tfidf', 'level_0': 'document','level_1': 'term', 'level_2': 'term'})\n"
   ]
  },
  {
   "cell_type": "code",
   "execution_count": 337,
   "metadata": {
    "scrolled": false
   },
   "outputs": [
    {
     "data": {
      "text/plain": [
       "<pandas.core.groupby.generic.DataFrameGroupBy object at 0x000001FC8FF76828>"
      ]
     },
     "execution_count": 337,
     "metadata": {},
     "output_type": "execute_result"
    }
   ],
   "source": [
    "tfidf_df.sort_values(by=['document','tfidf'], ascending=[True,False]).groupby(['document'])\n"
   ]
  },
  {
   "cell_type": "code",
   "execution_count": 338,
   "metadata": {
    "scrolled": false
   },
   "outputs": [],
   "source": [
    "top_tfidf= tfidf_df.sort_values(by=['document','tfidf'], ascending=[True,False]).groupby(['document'])"
   ]
  },
  {
   "cell_type": "code",
   "execution_count": 339,
   "metadata": {
    "scrolled": false
   },
   "outputs": [
    {
     "data": {
      "text/html": [
       "<div>\n",
       "<style scoped>\n",
       "    .dataframe tbody tr th:only-of-type {\n",
       "        vertical-align: middle;\n",
       "    }\n",
       "\n",
       "    .dataframe tbody tr th {\n",
       "        vertical-align: top;\n",
       "    }\n",
       "\n",
       "    .dataframe thead th {\n",
       "        text-align: right;\n",
       "    }\n",
       "</style>\n",
       "<table border=\"1\" class=\"dataframe\">\n",
       "  <thead>\n",
       "    <tr style=\"text-align: right;\">\n",
       "      <th></th>\n",
       "      <th>document</th>\n",
       "      <th>term</th>\n",
       "      <th>tfidf</th>\n",
       "    </tr>\n",
       "  </thead>\n",
       "  <tbody>\n",
       "    <tr>\n",
       "      <th>92561</th>\n",
       "      <td>tel-01689242v1</td>\n",
       "      <td>réseaux sociaux numériques</td>\n",
       "      <td>0.548699</td>\n",
       "    </tr>\n",
       "    <tr>\n",
       "      <th>60632</th>\n",
       "      <td>tel-01689242v1</td>\n",
       "      <td>intention adoption rsn</td>\n",
       "      <td>0.331112</td>\n",
       "    </tr>\n",
       "    <tr>\n",
       "      <th>47572</th>\n",
       "      <td>tel-01689242v1</td>\n",
       "      <td>facilité utilisation perçue</td>\n",
       "      <td>0.189207</td>\n",
       "    </tr>\n",
       "    <tr>\n",
       "      <th>29799</th>\n",
       "      <td>tel-01689242v1</td>\n",
       "      <td>compatibilité tâche technologie</td>\n",
       "      <td>0.160826</td>\n",
       "    </tr>\n",
       "    <tr>\n",
       "      <th>14850</th>\n",
       "      <td>tel-01689242v1</td>\n",
       "      <td>adoption réseaux sociaux</td>\n",
       "      <td>0.115889</td>\n",
       "    </tr>\n",
       "    <tr>\n",
       "      <th>224486</th>\n",
       "      <td>tel-03096870v2</td>\n",
       "      <td>tr hℓ tr</td>\n",
       "      <td>0.200508</td>\n",
       "    </tr>\n",
       "    <tr>\n",
       "      <th>174932</th>\n",
       "      <td>tel-03096870v2</td>\n",
       "      <td>hℓ tr hℓ</td>\n",
       "      <td>0.191790</td>\n",
       "    </tr>\n",
       "    <tr>\n",
       "      <th>194986</th>\n",
       "      <td>tel-03096870v2</td>\n",
       "      <td>orie yang mills</td>\n",
       "      <td>0.165637</td>\n",
       "    </tr>\n",
       "    <tr>\n",
       "      <th>187562</th>\n",
       "      <td>tel-03096870v2</td>\n",
       "      <td>mesure yang mills</td>\n",
       "      <td>0.148201</td>\n",
       "    </tr>\n",
       "    <tr>\n",
       "      <th>233570</th>\n",
       "      <td>tel-03096870v2</td>\n",
       "      <td>yang mills dimensions</td>\n",
       "      <td>0.139484</td>\n",
       "    </tr>\n",
       "  </tbody>\n",
       "</table>\n",
       "</div>"
      ],
      "text/plain": [
       "              document                             term     tfidf\n",
       "92561   tel-01689242v1       réseaux sociaux numériques  0.548699\n",
       "60632   tel-01689242v1           intention adoption rsn  0.331112\n",
       "47572   tel-01689242v1      facilité utilisation perçue  0.189207\n",
       "29799   tel-01689242v1  compatibilité tâche technologie  0.160826\n",
       "14850   tel-01689242v1         adoption réseaux sociaux  0.115889\n",
       "224486  tel-03096870v2                         tr hℓ tr  0.200508\n",
       "174932  tel-03096870v2                         hℓ tr hℓ  0.191790\n",
       "194986  tel-03096870v2                  orie yang mills  0.165637\n",
       "187562  tel-03096870v2                mesure yang mills  0.148201\n",
       "233570  tel-03096870v2            yang mills dimensions  0.139484"
      ]
     },
     "execution_count": 339,
     "metadata": {},
     "output_type": "execute_result"
    }
   ],
   "source": [
    "top_tfidf.head(5).head(10)"
   ]
  },
  {
   "cell_type": "markdown",
   "metadata": {},
   "source": [
    "## quadrigram"
   ]
  },
  {
   "cell_type": "code",
   "execution_count": 340,
   "metadata": {},
   "outputs": [],
   "source": [
    "text_titles = [Path(text).stem for text in text_files[:5]]"
   ]
  },
  {
   "cell_type": "code",
   "execution_count": 341,
   "metadata": {},
   "outputs": [],
   "source": [
    "tfidf_vectorizer = TfidfVectorizer(input='filename',stop_words=final_stopwords_list,ngram_range=(4,4))"
   ]
  },
  {
   "cell_type": "code",
   "execution_count": 342,
   "metadata": {},
   "outputs": [
    {
     "name": "stderr",
     "output_type": "stream",
     "text": [
      "C:\\ProgramData\\Anaconda3\\lib\\site-packages\\sklearn\\feature_extraction\\text.py:401: UserWarning: Your stop_words may be inconsistent with your preprocessing. Tokenizing the stop words generated tokens ['ll', 'neuf', 'printr', 'qu', 'quelqu', 've'] not in stop_words.\n",
      "  % sorted(inconsistent)\n"
     ]
    }
   ],
   "source": [
    "tfidf_vector = tfidf_vectorizer.fit_transform(text_files[:5])"
   ]
  },
  {
   "cell_type": "code",
   "execution_count": 343,
   "metadata": {},
   "outputs": [
    {
     "data": {
      "text/plain": [
       "<5x127217 sparse matrix of type '<class 'numpy.float64'>'\n",
       "\twith 127360 stored elements in Compressed Sparse Row format>"
      ]
     },
     "execution_count": 343,
     "metadata": {},
     "output_type": "execute_result"
    }
   ],
   "source": [
    "tfidf_vector"
   ]
  },
  {
   "cell_type": "code",
   "execution_count": 344,
   "metadata": {},
   "outputs": [
    {
     "name": "stderr",
     "output_type": "stream",
     "text": [
      "C:\\ProgramData\\Anaconda3\\lib\\site-packages\\sklearn\\utils\\deprecation.py:87: FutureWarning: Function get_feature_names is deprecated; get_feature_names is deprecated in 1.0 and will be removed in 1.2. Please use get_feature_names_out instead.\n",
      "  warnings.warn(msg, category=FutureWarning)\n"
     ]
    }
   ],
   "source": [
    "tfidf_df = pd.DataFrame(tfidf_vector.toarray(), index=text_titles, columns=tfidf_vectorizer.get_feature_names())"
   ]
  },
  {
   "cell_type": "code",
   "execution_count": 345,
   "metadata": {},
   "outputs": [],
   "source": [
    "tfidf_df.loc['00_Document Frequency'] = (tfidf_df > 0).sum()"
   ]
  },
  {
   "cell_type": "code",
   "execution_count": 346,
   "metadata": {},
   "outputs": [],
   "source": [
    "tfidf_df = tfidf_df.drop('00_Document Frequency', errors='ignore')\n"
   ]
  },
  {
   "cell_type": "code",
   "execution_count": 347,
   "metadata": {
    "scrolled": true
   },
   "outputs": [
    {
     "data": {
      "text/html": [
       "<div>\n",
       "<style scoped>\n",
       "    .dataframe tbody tr th:only-of-type {\n",
       "        vertical-align: middle;\n",
       "    }\n",
       "\n",
       "    .dataframe tbody tr th {\n",
       "        vertical-align: top;\n",
       "    }\n",
       "\n",
       "    .dataframe thead th {\n",
       "        text-align: right;\n",
       "    }\n",
       "</style>\n",
       "<table border=\"1\" class=\"dataframe\">\n",
       "  <thead>\n",
       "    <tr style=\"text-align: right;\">\n",
       "      <th></th>\n",
       "      <th>level_0</th>\n",
       "      <th>level_1</th>\n",
       "      <th>0</th>\n",
       "    </tr>\n",
       "  </thead>\n",
       "  <tbody>\n",
       "    <tr>\n",
       "      <th>0</th>\n",
       "      <td>tel-01689242v1</td>\n",
       "      <td>00 00 00 01</td>\n",
       "      <td>0.000000</td>\n",
       "    </tr>\n",
       "    <tr>\n",
       "      <th>1</th>\n",
       "      <td>tel-01689242v1</td>\n",
       "      <td>00 00 00 73</td>\n",
       "      <td>0.003667</td>\n",
       "    </tr>\n",
       "    <tr>\n",
       "      <th>2</th>\n",
       "      <td>tel-01689242v1</td>\n",
       "      <td>00 00 01 00</td>\n",
       "      <td>0.000000</td>\n",
       "    </tr>\n",
       "    <tr>\n",
       "      <th>3</th>\n",
       "      <td>tel-01689242v1</td>\n",
       "      <td>00 00 01 01</td>\n",
       "      <td>0.000000</td>\n",
       "    </tr>\n",
       "    <tr>\n",
       "      <th>4</th>\n",
       "      <td>tel-01689242v1</td>\n",
       "      <td>00 00 01 contact</td>\n",
       "      <td>0.000000</td>\n",
       "    </tr>\n",
       "  </tbody>\n",
       "</table>\n",
       "</div>"
      ],
      "text/plain": [
       "          level_0           level_1         0\n",
       "0  tel-01689242v1       00 00 00 01  0.000000\n",
       "1  tel-01689242v1       00 00 00 73  0.003667\n",
       "2  tel-01689242v1       00 00 01 00  0.000000\n",
       "3  tel-01689242v1       00 00 01 01  0.000000\n",
       "4  tel-01689242v1  00 00 01 contact  0.000000"
      ]
     },
     "execution_count": 347,
     "metadata": {},
     "output_type": "execute_result"
    }
   ],
   "source": [
    "tfidf_df.stack().reset_index().head()\n"
   ]
  },
  {
   "cell_type": "code",
   "execution_count": 348,
   "metadata": {},
   "outputs": [],
   "source": [
    "tfidf_df = tfidf_df.stack().reset_index()\n"
   ]
  },
  {
   "cell_type": "code",
   "execution_count": 349,
   "metadata": {},
   "outputs": [],
   "source": [
    "tfidf_df = tfidf_df.rename(columns={0:'tfidf', 'level_0': 'document','level_1': 'term', 'level_2': 'term'})\n"
   ]
  },
  {
   "cell_type": "code",
   "execution_count": 350,
   "metadata": {
    "scrolled": false
   },
   "outputs": [
    {
     "data": {
      "text/plain": [
       "<pandas.core.groupby.generic.DataFrameGroupBy object at 0x000001FCC81C7748>"
      ]
     },
     "execution_count": 350,
     "metadata": {},
     "output_type": "execute_result"
    }
   ],
   "source": [
    "tfidf_df.sort_values(by=['document','tfidf'], ascending=[True,False]).groupby(['document'])\n"
   ]
  },
  {
   "cell_type": "code",
   "execution_count": 351,
   "metadata": {
    "scrolled": false
   },
   "outputs": [],
   "source": [
    "top_tfidf= tfidf_df.sort_values(by=['document','tfidf'], ascending=[True,False]).groupby(['document'])"
   ]
  },
  {
   "cell_type": "code",
   "execution_count": 353,
   "metadata": {
    "scrolled": false
   },
   "outputs": [
    {
     "data": {
      "text/html": [
       "<div>\n",
       "<style scoped>\n",
       "    .dataframe tbody tr th:only-of-type {\n",
       "        vertical-align: middle;\n",
       "    }\n",
       "\n",
       "    .dataframe tbody tr th {\n",
       "        vertical-align: top;\n",
       "    }\n",
       "\n",
       "    .dataframe thead th {\n",
       "        text-align: right;\n",
       "    }\n",
       "</style>\n",
       "<table border=\"1\" class=\"dataframe\">\n",
       "  <thead>\n",
       "    <tr style=\"text-align: right;\">\n",
       "      <th></th>\n",
       "      <th>document</th>\n",
       "      <th>term</th>\n",
       "      <th>tfidf</th>\n",
       "    </tr>\n",
       "  </thead>\n",
       "  <tbody>\n",
       "    <tr>\n",
       "      <th>15493</th>\n",
       "      <td>tel-01689242v1</td>\n",
       "      <td>adoption réseaux sociaux numériques</td>\n",
       "      <td>0.176019</td>\n",
       "    </tr>\n",
       "    <tr>\n",
       "      <th>117909</th>\n",
       "      <td>tel-01689242v1</td>\n",
       "      <td>utilisation réseaux sociaux numériques</td>\n",
       "      <td>0.124680</td>\n",
       "    </tr>\n",
       "    <tr>\n",
       "      <th>28178</th>\n",
       "      <td>tel-01689242v1</td>\n",
       "      <td>chapitre présentation résultats enquête</td>\n",
       "      <td>0.110012</td>\n",
       "    </tr>\n",
       "    <tr>\n",
       "      <th>98994</th>\n",
       "      <td>tel-01689242v1</td>\n",
       "      <td>réseaux sociaux numériques bibliothécaires</td>\n",
       "      <td>0.088009</td>\n",
       "    </tr>\n",
       "    <tr>\n",
       "      <th>85615</th>\n",
       "      <td>tel-01689242v1</td>\n",
       "      <td>perçue intention adoption rsn</td>\n",
       "      <td>0.077008</td>\n",
       "    </tr>\n",
       "    <tr>\n",
       "      <th>240774</th>\n",
       "      <td>tel-03096870v2</td>\n",
       "      <td>tr hℓ tr hℓ</td>\n",
       "      <td>0.235362</td>\n",
       "    </tr>\n",
       "    <tr>\n",
       "      <th>209084</th>\n",
       "      <td>tel-03096870v2</td>\n",
       "      <td>orie yang mills dimensions</td>\n",
       "      <td>0.165823</td>\n",
       "    </tr>\n",
       "    <tr>\n",
       "      <th>155384</th>\n",
       "      <td>tel-03096870v2</td>\n",
       "      <td>chapitre orie yang mills</td>\n",
       "      <td>0.149776</td>\n",
       "    </tr>\n",
       "    <tr>\n",
       "      <th>222868</th>\n",
       "      <td>tel-03096870v2</td>\n",
       "      <td>repre sentations irre ductibles</td>\n",
       "      <td>0.123030</td>\n",
       "    </tr>\n",
       "    <tr>\n",
       "      <th>152930</th>\n",
       "      <td>tel-03096870v2</td>\n",
       "      <td>c2 λn c2 λn</td>\n",
       "      <td>0.106983</td>\n",
       "    </tr>\n",
       "    <tr>\n",
       "      <th>274038</th>\n",
       "      <td>tel-03412908v1</td>\n",
       "      <td>aquifères karstiques nord causse</td>\n",
       "      <td>0.242682</td>\n",
       "    </tr>\n",
       "    <tr>\n",
       "      <th>308536</th>\n",
       "      <td>tel-03412908v1</td>\n",
       "      <td>fonctionnement évolution systèmes aquifères</td>\n",
       "      <td>0.242682</td>\n",
       "    </tr>\n",
       "    <tr>\n",
       "      <th>321823</th>\n",
       "      <td>tel-03412908v1</td>\n",
       "      <td>karstiques nord causse martel</td>\n",
       "      <td>0.242682</td>\n",
       "    </tr>\n",
       "    <tr>\n",
       "      <th>332922</th>\n",
       "      <td>tel-03412908v1</td>\n",
       "      <td>nord causse martel corrèze</td>\n",
       "      <td>0.242682</td>\n",
       "    </tr>\n",
       "    <tr>\n",
       "      <th>361334</th>\n",
       "      <td>tel-03412908v1</td>\n",
       "      <td>structure fonctionnement évolution systèmes</td>\n",
       "      <td>0.242682</td>\n",
       "    </tr>\n",
       "  </tbody>\n",
       "</table>\n",
       "</div>"
      ],
      "text/plain": [
       "              document                                         term     tfidf\n",
       "15493   tel-01689242v1          adoption réseaux sociaux numériques  0.176019\n",
       "117909  tel-01689242v1       utilisation réseaux sociaux numériques  0.124680\n",
       "28178   tel-01689242v1      chapitre présentation résultats enquête  0.110012\n",
       "98994   tel-01689242v1   réseaux sociaux numériques bibliothécaires  0.088009\n",
       "85615   tel-01689242v1                perçue intention adoption rsn  0.077008\n",
       "240774  tel-03096870v2                                  tr hℓ tr hℓ  0.235362\n",
       "209084  tel-03096870v2                   orie yang mills dimensions  0.165823\n",
       "155384  tel-03096870v2                     chapitre orie yang mills  0.149776\n",
       "222868  tel-03096870v2              repre sentations irre ductibles  0.123030\n",
       "152930  tel-03096870v2                                  c2 λn c2 λn  0.106983\n",
       "274038  tel-03412908v1             aquifères karstiques nord causse  0.242682\n",
       "308536  tel-03412908v1  fonctionnement évolution systèmes aquifères  0.242682\n",
       "321823  tel-03412908v1                karstiques nord causse martel  0.242682\n",
       "332922  tel-03412908v1                   nord causse martel corrèze  0.242682\n",
       "361334  tel-03412908v1  structure fonctionnement évolution systèmes  0.242682"
      ]
     },
     "execution_count": 353,
     "metadata": {},
     "output_type": "execute_result"
    }
   ],
   "source": [
    "top_tfidf.head(5).head(15)"
   ]
  },
  {
   "cell_type": "markdown",
   "metadata": {},
   "source": [
    "# Distance matrix"
   ]
  },
  {
   "cell_type": "code",
   "execution_count": 305,
   "metadata": {},
   "outputs": [],
   "source": [
    "filesNames = ['tel-03440321v1',\n",
    " 'tel-03440243v1',\n",
    " 'tel-03440181v1',\n",
    " 'tel-03440058v1',\n",
    " 'tel-03439538v1',\n",
    " 'tel-03439366v1',\n",
    " 'tel-03439358v1',\n",
    " 'tel-03439354v1',\n",
    " 'tel-03439346v1',\n",
    " 'tel-03439261v1']"
   ]
  },
  {
   "cell_type": "code",
   "execution_count": 306,
   "metadata": {},
   "outputs": [],
   "source": [
    "directory_path = \"TelTXT//\"\n",
    "\n",
    "text_files = glob.glob(f\"{directory_path}/*.txt\")\n",
    "text_files = text_files[:10]"
   ]
  },
  {
   "cell_type": "code",
   "execution_count": 307,
   "metadata": {},
   "outputs": [],
   "source": [
    "text_titles = [Path(text).stem for text in text_files]"
   ]
  },
  {
   "cell_type": "code",
   "execution_count": 308,
   "metadata": {},
   "outputs": [],
   "source": [
    "tfidf_vectorizer = TfidfVectorizer(input='filename',stop_words=final_stopwords_list)"
   ]
  },
  {
   "cell_type": "code",
   "execution_count": 309,
   "metadata": {},
   "outputs": [
    {
     "name": "stderr",
     "output_type": "stream",
     "text": [
      "C:\\ProgramData\\Anaconda3\\lib\\site-packages\\sklearn\\feature_extraction\\text.py:401: UserWarning: Your stop_words may be inconsistent with your preprocessing. Tokenizing the stop words generated tokens ['ll', 'neuf', 'printr', 'qu', 'quelqu', 've'] not in stop_words.\n",
      "  % sorted(inconsistent)\n"
     ]
    }
   ],
   "source": [
    "tfidf_vector = tfidf_vectorizer.fit_transform(text_files)"
   ]
  },
  {
   "cell_type": "code",
   "execution_count": 310,
   "metadata": {},
   "outputs": [
    {
     "data": {
      "text/plain": [
       "<10x66650 sparse matrix of type '<class 'numpy.float64'>'\n",
       "\twith 91176 stored elements in Compressed Sparse Row format>"
      ]
     },
     "execution_count": 310,
     "metadata": {},
     "output_type": "execute_result"
    }
   ],
   "source": [
    "tfidf_vector"
   ]
  },
  {
   "cell_type": "code",
   "execution_count": 311,
   "metadata": {},
   "outputs": [
    {
     "name": "stderr",
     "output_type": "stream",
     "text": [
      "C:\\ProgramData\\Anaconda3\\lib\\site-packages\\sklearn\\utils\\deprecation.py:87: FutureWarning: Function get_feature_names is deprecated; get_feature_names is deprecated in 1.0 and will be removed in 1.2. Please use get_feature_names_out instead.\n",
      "  warnings.warn(msg, category=FutureWarning)\n"
     ]
    }
   ],
   "source": [
    "tfidf_df = pd.DataFrame(tfidf_vector.toarray(), index=text_titles, columns=tfidf_vectorizer.get_feature_names())\n"
   ]
  },
  {
   "cell_type": "code",
   "execution_count": 312,
   "metadata": {},
   "outputs": [],
   "source": [
    "tfidf_df.loc['00_Document Frequency'] = (tfidf_df > 0).sum()\n"
   ]
  },
  {
   "cell_type": "code",
   "execution_count": 313,
   "metadata": {},
   "outputs": [],
   "source": [
    "tfidf_df = tfidf_df.drop('00_Document Frequency', errors='ignore')\n"
   ]
  },
  {
   "cell_type": "code",
   "execution_count": 314,
   "metadata": {
    "scrolled": true
   },
   "outputs": [
    {
     "data": {
      "text/html": [
       "<div>\n",
       "<style scoped>\n",
       "    .dataframe tbody tr th:only-of-type {\n",
       "        vertical-align: middle;\n",
       "    }\n",
       "\n",
       "    .dataframe tbody tr th {\n",
       "        vertical-align: top;\n",
       "    }\n",
       "\n",
       "    .dataframe thead th {\n",
       "        text-align: right;\n",
       "    }\n",
       "</style>\n",
       "<table border=\"1\" class=\"dataframe\">\n",
       "  <thead>\n",
       "    <tr style=\"text-align: right;\">\n",
       "      <th></th>\n",
       "      <th>level_0</th>\n",
       "      <th>level_1</th>\n",
       "      <th>0</th>\n",
       "    </tr>\n",
       "  </thead>\n",
       "  <tbody>\n",
       "    <tr>\n",
       "      <th>0</th>\n",
       "      <td>tel-01689242v1</td>\n",
       "      <td>00</td>\n",
       "      <td>0.004351</td>\n",
       "    </tr>\n",
       "    <tr>\n",
       "      <th>1</th>\n",
       "      <td>tel-01689242v1</td>\n",
       "      <td>000</td>\n",
       "      <td>0.071359</td>\n",
       "    </tr>\n",
       "    <tr>\n",
       "      <th>2</th>\n",
       "      <td>tel-01689242v1</td>\n",
       "      <td>00001</td>\n",
       "      <td>0.000000</td>\n",
       "    </tr>\n",
       "    <tr>\n",
       "      <th>3</th>\n",
       "      <td>tel-01689242v1</td>\n",
       "      <td>00001l</td>\n",
       "      <td>0.000000</td>\n",
       "    </tr>\n",
       "    <tr>\n",
       "      <th>4</th>\n",
       "      <td>tel-01689242v1</td>\n",
       "      <td>00005</td>\n",
       "      <td>0.000000</td>\n",
       "    </tr>\n",
       "  </tbody>\n",
       "</table>\n",
       "</div>"
      ],
      "text/plain": [
       "          level_0 level_1         0\n",
       "0  tel-01689242v1      00  0.004351\n",
       "1  tel-01689242v1     000  0.071359\n",
       "2  tel-01689242v1   00001  0.000000\n",
       "3  tel-01689242v1  00001l  0.000000\n",
       "4  tel-01689242v1   00005  0.000000"
      ]
     },
     "execution_count": 314,
     "metadata": {},
     "output_type": "execute_result"
    }
   ],
   "source": [
    "tfidf_df.stack().reset_index().head()\n"
   ]
  },
  {
   "cell_type": "code",
   "execution_count": 315,
   "metadata": {},
   "outputs": [],
   "source": [
    "tfidf_df = tfidf_df.stack().reset_index()\n"
   ]
  },
  {
   "cell_type": "code",
   "execution_count": 316,
   "metadata": {},
   "outputs": [],
   "source": [
    "tfidf_df = tfidf_df.rename(columns={0:'tfidf', 'level_0': 'document','level_1': 'term', 'level_2': 'term'})\n"
   ]
  },
  {
   "cell_type": "code",
   "execution_count": 317,
   "metadata": {
    "scrolled": false
   },
   "outputs": [
    {
     "data": {
      "text/plain": [
       "<pandas.core.groupby.generic.DataFrameGroupBy object at 0x000001FCC81C0390>"
      ]
     },
     "execution_count": 317,
     "metadata": {},
     "output_type": "execute_result"
    }
   ],
   "source": [
    "tfidf_df.sort_values(by=['document','tfidf'], ascending=[True,False]).groupby(['document'])\n"
   ]
  },
  {
   "cell_type": "code",
   "execution_count": 318,
   "metadata": {
    "scrolled": false
   },
   "outputs": [],
   "source": [
    "top_tfidf= tfidf_df.sort_values(by=['document','tfidf'], ascending=[True,False]).groupby(['document'])"
   ]
  },
  {
   "cell_type": "code",
   "execution_count": 319,
   "metadata": {
    "scrolled": false
   },
   "outputs": [
    {
     "data": {
      "text/html": [
       "<div>\n",
       "<style scoped>\n",
       "    .dataframe tbody tr th:only-of-type {\n",
       "        vertical-align: middle;\n",
       "    }\n",
       "\n",
       "    .dataframe tbody tr th {\n",
       "        vertical-align: top;\n",
       "    }\n",
       "\n",
       "    .dataframe thead th {\n",
       "        text-align: right;\n",
       "    }\n",
       "</style>\n",
       "<table border=\"1\" class=\"dataframe\">\n",
       "  <thead>\n",
       "    <tr style=\"text-align: right;\">\n",
       "      <th></th>\n",
       "      <th>document</th>\n",
       "      <th>term</th>\n",
       "      <th>tfidf</th>\n",
       "    </tr>\n",
       "  </thead>\n",
       "  <tbody>\n",
       "    <tr>\n",
       "      <th>49795</th>\n",
       "      <td>tel-01689242v1</td>\n",
       "      <td>rsn</td>\n",
       "      <td>0.332799</td>\n",
       "    </tr>\n",
       "    <tr>\n",
       "      <th>3731</th>\n",
       "      <td>tel-01689242v1</td>\n",
       "      <td>adoption</td>\n",
       "      <td>0.304953</td>\n",
       "    </tr>\n",
       "    <tr>\n",
       "      <th>9134</th>\n",
       "      <td>tel-01689242v1</td>\n",
       "      <td>bibliothèques</td>\n",
       "      <td>0.250116</td>\n",
       "    </tr>\n",
       "    <tr>\n",
       "      <th>9133</th>\n",
       "      <td>tel-01689242v1</td>\n",
       "      <td>bibliothèque</td>\n",
       "      <td>0.236304</td>\n",
       "    </tr>\n",
       "    <tr>\n",
       "      <th>9136</th>\n",
       "      <td>tel-01689242v1</td>\n",
       "      <td>bibliothécaires</td>\n",
       "      <td>0.225328</td>\n",
       "    </tr>\n",
       "    <tr>\n",
       "      <th>76569</th>\n",
       "      <td>tel-03096870v2</td>\n",
       "      <td>c2</td>\n",
       "      <td>0.284877</td>\n",
       "    </tr>\n",
       "    <tr>\n",
       "      <th>133164</th>\n",
       "      <td>tel-03096870v2</td>\n",
       "      <td>λn</td>\n",
       "      <td>0.254260</td>\n",
       "    </tr>\n",
       "    <tr>\n",
       "      <th>126587</th>\n",
       "      <td>tel-03096870v2</td>\n",
       "      <td>tr</td>\n",
       "      <td>0.252357</td>\n",
       "    </tr>\n",
       "    <tr>\n",
       "      <th>95424</th>\n",
       "      <td>tel-03096870v2</td>\n",
       "      <td>hℓ</td>\n",
       "      <td>0.208999</td>\n",
       "    </tr>\n",
       "    <tr>\n",
       "      <th>130422</th>\n",
       "      <td>tel-03096870v2</td>\n",
       "      <td>yang</td>\n",
       "      <td>0.192379</td>\n",
       "    </tr>\n",
       "    <tr>\n",
       "      <th>133387</th>\n",
       "      <td>tel-03412908v1</td>\n",
       "      <td>03412908</td>\n",
       "      <td>0.414611</td>\n",
       "    </tr>\n",
       "    <tr>\n",
       "      <th>140073</th>\n",
       "      <td>tel-03412908v1</td>\n",
       "      <td>aquifères</td>\n",
       "      <td>0.276407</td>\n",
       "    </tr>\n",
       "    <tr>\n",
       "      <th>143737</th>\n",
       "      <td>tel-03412908v1</td>\n",
       "      <td>causse</td>\n",
       "      <td>0.276407</td>\n",
       "    </tr>\n",
       "    <tr>\n",
       "      <th>146997</th>\n",
       "      <td>tel-03412908v1</td>\n",
       "      <td>corrèze</td>\n",
       "      <td>0.276407</td>\n",
       "    </tr>\n",
       "    <tr>\n",
       "      <th>168441</th>\n",
       "      <td>tel-03412908v1</td>\n",
       "      <td>karstiques</td>\n",
       "      <td>0.276407</td>\n",
       "    </tr>\n",
       "  </tbody>\n",
       "</table>\n",
       "</div>"
      ],
      "text/plain": [
       "              document             term     tfidf\n",
       "49795   tel-01689242v1              rsn  0.332799\n",
       "3731    tel-01689242v1         adoption  0.304953\n",
       "9134    tel-01689242v1    bibliothèques  0.250116\n",
       "9133    tel-01689242v1     bibliothèque  0.236304\n",
       "9136    tel-01689242v1  bibliothécaires  0.225328\n",
       "76569   tel-03096870v2               c2  0.284877\n",
       "133164  tel-03096870v2               λn  0.254260\n",
       "126587  tel-03096870v2               tr  0.252357\n",
       "95424   tel-03096870v2               hℓ  0.208999\n",
       "130422  tel-03096870v2             yang  0.192379\n",
       "133387  tel-03412908v1         03412908  0.414611\n",
       "140073  tel-03412908v1        aquifères  0.276407\n",
       "143737  tel-03412908v1           causse  0.276407\n",
       "146997  tel-03412908v1          corrèze  0.276407\n",
       "168441  tel-03412908v1       karstiques  0.276407"
      ]
     },
     "execution_count": 319,
     "metadata": {},
     "output_type": "execute_result"
    }
   ],
   "source": [
    "top_tfidf.head().head(15)"
   ]
  },
  {
   "cell_type": "code",
   "execution_count": 320,
   "metadata": {},
   "outputs": [
    {
     "data": {
      "text/plain": [
       "array([1.        , 0.0354408 , 0.02171873, 0.03081323, 0.0520659 ,\n",
       "       0.07895018, 0.06078642, 0.10336703, 0.11482271, 0.00701532])"
      ]
     },
     "execution_count": 320,
     "metadata": {},
     "output_type": "execute_result"
    }
   ],
   "source": [
    "cosine_similarities = linear_kernel(tfidf_vector[0:1], tfidf_vector).flatten()\n",
    "cosine_similarities"
   ]
  },
  {
   "cell_type": "code",
   "execution_count": 321,
   "metadata": {},
   "outputs": [],
   "source": [
    "cosine_similarities = linear_kernel(tfidf_vector)\n"
   ]
  },
  {
   "cell_type": "code",
   "execution_count": 322,
   "metadata": {},
   "outputs": [
    {
     "data": {
      "text/plain": [
       "array([[1.        , 0.0354408 , 0.02171873, 0.03081323, 0.0520659 ,\n",
       "        0.07895018, 0.06078642, 0.10336703, 0.11482271, 0.00701532],\n",
       "       [0.0354408 , 1.        , 0.0104621 , 0.04146731, 0.03825931,\n",
       "        0.02695456, 0.10100862, 0.02313281, 0.03997218, 0.03789834],\n",
       "       [0.02171873, 0.0104621 , 1.        , 0.01094544, 0.00848391,\n",
       "        0.01015373, 0.01788719, 0.01056374, 0.01264582, 0.00419403],\n",
       "       [0.03081323, 0.04146731, 0.01094544, 1.        , 0.10625026,\n",
       "        0.05297779, 0.03311395, 0.01635189, 0.01584493, 0.00654924],\n",
       "       [0.0520659 , 0.03825931, 0.00848391, 0.10625026, 1.        ,\n",
       "        0.05615615, 0.05489794, 0.01689278, 0.02058365, 0.00827723],\n",
       "       [0.07895018, 0.02695456, 0.01015373, 0.05297779, 0.05615615,\n",
       "        1.        , 0.05745994, 0.04330723, 0.06196728, 0.01769252],\n",
       "       [0.06078642, 0.10100862, 0.01788719, 0.03311395, 0.05489794,\n",
       "        0.05745994, 1.        , 0.04325384, 0.06400919, 0.01938306],\n",
       "       [0.10336703, 0.02313281, 0.01056374, 0.01635189, 0.01689278,\n",
       "        0.04330723, 0.04325384, 1.        , 0.14745248, 0.00860912],\n",
       "       [0.11482271, 0.03997218, 0.01264582, 0.01584493, 0.02058365,\n",
       "        0.06196728, 0.06400919, 0.14745248, 1.        , 0.01365775],\n",
       "       [0.00701532, 0.03789834, 0.00419403, 0.00654924, 0.00827723,\n",
       "        0.01769252, 0.01938306, 0.00860912, 0.01365775, 1.        ]])"
      ]
     },
     "execution_count": 322,
     "metadata": {},
     "output_type": "execute_result"
    }
   ],
   "source": [
    "cosine_similarities"
   ]
  },
  {
   "cell_type": "code",
   "execution_count": 323,
   "metadata": {},
   "outputs": [
    {
     "data": {
      "text/plain": [
       "array([[2, 3, 0, 4, 7, 8, 5, 6, 1, 9],\n",
       "       [2, 9, 3, 4, 1, 5, 6, 0, 7, 8],\n",
       "       [9, 2, 3, 4, 1, 6, 5, 0, 8, 7],\n",
       "       [2, 9, 3, 7, 4, 5, 0, 8, 1, 6]], dtype=int64)"
      ]
     },
     "execution_count": 323,
     "metadata": {},
     "output_type": "execute_result"
    }
   ],
   "source": [
    "related_docs_indices = cosine_similarities.argsort()[:-5:-1]\n",
    "related_docs_indices\n"
   ]
  },
  {
   "cell_type": "code",
   "execution_count": 324,
   "metadata": {},
   "outputs": [],
   "source": [
    "pd.DataFrame(cosine_similarities).to_csv('cosine_similarities.csv')"
   ]
  },
  {
   "cell_type": "code",
   "execution_count": null,
   "metadata": {},
   "outputs": [],
   "source": []
  },
  {
   "cell_type": "code",
   "execution_count": 325,
   "metadata": {},
   "outputs": [
    {
     "name": "stdout",
     "output_type": "stream",
     "text": [
      "Distance Matrix:\n",
      " [[0.         1.37058199 1.39377917 1.37860186 1.34905396 1.30533722\n",
      "  1.33243455 1.2697514  1.25326859 1.41404973]\n",
      " [1.37058199 0.         1.40342763 1.35982058 1.36331898 1.37810608\n",
      "  1.27266303 1.38933552 1.36719415 1.36451333]\n",
      " [1.39377917 1.40342763 0.         1.40327303 1.40733462 1.40443264\n",
      "  1.39557774 1.40883999 1.4082209  1.40865585]\n",
      " [1.37860186 1.35982058 1.40327303 0.         1.26433998 1.34250167\n",
      "  1.37116534 1.40222446 1.40349461 1.40911693]\n",
      " [1.34905396 1.36331898 1.40733462 1.26433998 0.         1.33711603\n",
      "  1.3411161  1.40012241 1.395649   1.40779041]\n",
      " [1.30533722 1.37810608 1.40443264 1.34250167 1.33711603 0.\n",
      "  1.33530538 1.35705865 1.3322248  1.39449686]\n",
      " [1.33243455 1.27266303 1.39557774 1.37116534 1.3411161  1.33530538\n",
      "  0.         1.35928744 1.33087061 1.39229202]\n",
      " [1.2697514  1.38933552 1.40883999 1.40222446 1.40012241 1.35705865\n",
      "  1.35928744 0.         1.20619735 1.41228584]\n",
      " [1.25326859 1.36719415 1.4082209  1.40349461 1.395649   1.3322248\n",
      "  1.33087061 1.20619735 0.         1.4074471 ]\n",
      " [1.41404973 1.36451333 1.40865585 1.40911693 1.40779041 1.39449686\n",
      "  1.39229202 1.41228584 1.4074471  0.        ]]\n"
     ]
    }
   ],
   "source": [
    "# compute the distance matrix\n",
    "dist_mat = distance_matrix(list(cosine_similarities), list(cosine_similarities))\n",
    " \n",
    "# display distance matrix\n",
    "print(\"Distance Matrix:\\n\", dist_mat)"
   ]
  },
  {
   "cell_type": "code",
   "execution_count": 326,
   "metadata": {},
   "outputs": [
    {
     "data": {
      "text/html": [
       "<div>\n",
       "<style scoped>\n",
       "    .dataframe tbody tr th:only-of-type {\n",
       "        vertical-align: middle;\n",
       "    }\n",
       "\n",
       "    .dataframe tbody tr th {\n",
       "        vertical-align: top;\n",
       "    }\n",
       "\n",
       "    .dataframe thead th {\n",
       "        text-align: right;\n",
       "    }\n",
       "</style>\n",
       "<table border=\"1\" class=\"dataframe\">\n",
       "  <thead>\n",
       "    <tr style=\"text-align: right;\">\n",
       "      <th></th>\n",
       "      <th>0</th>\n",
       "      <th>1</th>\n",
       "      <th>2</th>\n",
       "      <th>3</th>\n",
       "      <th>4</th>\n",
       "      <th>5</th>\n",
       "      <th>6</th>\n",
       "      <th>7</th>\n",
       "      <th>8</th>\n",
       "      <th>9</th>\n",
       "    </tr>\n",
       "  </thead>\n",
       "  <tbody>\n",
       "    <tr>\n",
       "      <th>0</th>\n",
       "      <td>0.000000</td>\n",
       "      <td>1.370582</td>\n",
       "      <td>1.393779</td>\n",
       "      <td>1.378602</td>\n",
       "      <td>1.349054</td>\n",
       "      <td>1.305337</td>\n",
       "      <td>1.332435</td>\n",
       "      <td>1.269751</td>\n",
       "      <td>1.253269</td>\n",
       "      <td>1.414050</td>\n",
       "    </tr>\n",
       "    <tr>\n",
       "      <th>1</th>\n",
       "      <td>1.370582</td>\n",
       "      <td>0.000000</td>\n",
       "      <td>1.403428</td>\n",
       "      <td>1.359821</td>\n",
       "      <td>1.363319</td>\n",
       "      <td>1.378106</td>\n",
       "      <td>1.272663</td>\n",
       "      <td>1.389336</td>\n",
       "      <td>1.367194</td>\n",
       "      <td>1.364513</td>\n",
       "    </tr>\n",
       "    <tr>\n",
       "      <th>2</th>\n",
       "      <td>1.393779</td>\n",
       "      <td>1.403428</td>\n",
       "      <td>0.000000</td>\n",
       "      <td>1.403273</td>\n",
       "      <td>1.407335</td>\n",
       "      <td>1.404433</td>\n",
       "      <td>1.395578</td>\n",
       "      <td>1.408840</td>\n",
       "      <td>1.408221</td>\n",
       "      <td>1.408656</td>\n",
       "    </tr>\n",
       "    <tr>\n",
       "      <th>3</th>\n",
       "      <td>1.378602</td>\n",
       "      <td>1.359821</td>\n",
       "      <td>1.403273</td>\n",
       "      <td>0.000000</td>\n",
       "      <td>1.264340</td>\n",
       "      <td>1.342502</td>\n",
       "      <td>1.371165</td>\n",
       "      <td>1.402224</td>\n",
       "      <td>1.403495</td>\n",
       "      <td>1.409117</td>\n",
       "    </tr>\n",
       "    <tr>\n",
       "      <th>4</th>\n",
       "      <td>1.349054</td>\n",
       "      <td>1.363319</td>\n",
       "      <td>1.407335</td>\n",
       "      <td>1.264340</td>\n",
       "      <td>0.000000</td>\n",
       "      <td>1.337116</td>\n",
       "      <td>1.341116</td>\n",
       "      <td>1.400122</td>\n",
       "      <td>1.395649</td>\n",
       "      <td>1.407790</td>\n",
       "    </tr>\n",
       "    <tr>\n",
       "      <th>5</th>\n",
       "      <td>1.305337</td>\n",
       "      <td>1.378106</td>\n",
       "      <td>1.404433</td>\n",
       "      <td>1.342502</td>\n",
       "      <td>1.337116</td>\n",
       "      <td>0.000000</td>\n",
       "      <td>1.335305</td>\n",
       "      <td>1.357059</td>\n",
       "      <td>1.332225</td>\n",
       "      <td>1.394497</td>\n",
       "    </tr>\n",
       "    <tr>\n",
       "      <th>6</th>\n",
       "      <td>1.332435</td>\n",
       "      <td>1.272663</td>\n",
       "      <td>1.395578</td>\n",
       "      <td>1.371165</td>\n",
       "      <td>1.341116</td>\n",
       "      <td>1.335305</td>\n",
       "      <td>0.000000</td>\n",
       "      <td>1.359287</td>\n",
       "      <td>1.330871</td>\n",
       "      <td>1.392292</td>\n",
       "    </tr>\n",
       "    <tr>\n",
       "      <th>7</th>\n",
       "      <td>1.269751</td>\n",
       "      <td>1.389336</td>\n",
       "      <td>1.408840</td>\n",
       "      <td>1.402224</td>\n",
       "      <td>1.400122</td>\n",
       "      <td>1.357059</td>\n",
       "      <td>1.359287</td>\n",
       "      <td>0.000000</td>\n",
       "      <td>1.206197</td>\n",
       "      <td>1.412286</td>\n",
       "    </tr>\n",
       "    <tr>\n",
       "      <th>8</th>\n",
       "      <td>1.253269</td>\n",
       "      <td>1.367194</td>\n",
       "      <td>1.408221</td>\n",
       "      <td>1.403495</td>\n",
       "      <td>1.395649</td>\n",
       "      <td>1.332225</td>\n",
       "      <td>1.330871</td>\n",
       "      <td>1.206197</td>\n",
       "      <td>0.000000</td>\n",
       "      <td>1.407447</td>\n",
       "    </tr>\n",
       "    <tr>\n",
       "      <th>9</th>\n",
       "      <td>1.414050</td>\n",
       "      <td>1.364513</td>\n",
       "      <td>1.408656</td>\n",
       "      <td>1.409117</td>\n",
       "      <td>1.407790</td>\n",
       "      <td>1.394497</td>\n",
       "      <td>1.392292</td>\n",
       "      <td>1.412286</td>\n",
       "      <td>1.407447</td>\n",
       "      <td>0.000000</td>\n",
       "    </tr>\n",
       "  </tbody>\n",
       "</table>\n",
       "</div>"
      ],
      "text/plain": [
       "          0         1         2         3         4         5         6  \\\n",
       "0  0.000000  1.370582  1.393779  1.378602  1.349054  1.305337  1.332435   \n",
       "1  1.370582  0.000000  1.403428  1.359821  1.363319  1.378106  1.272663   \n",
       "2  1.393779  1.403428  0.000000  1.403273  1.407335  1.404433  1.395578   \n",
       "3  1.378602  1.359821  1.403273  0.000000  1.264340  1.342502  1.371165   \n",
       "4  1.349054  1.363319  1.407335  1.264340  0.000000  1.337116  1.341116   \n",
       "5  1.305337  1.378106  1.404433  1.342502  1.337116  0.000000  1.335305   \n",
       "6  1.332435  1.272663  1.395578  1.371165  1.341116  1.335305  0.000000   \n",
       "7  1.269751  1.389336  1.408840  1.402224  1.400122  1.357059  1.359287   \n",
       "8  1.253269  1.367194  1.408221  1.403495  1.395649  1.332225  1.330871   \n",
       "9  1.414050  1.364513  1.408656  1.409117  1.407790  1.394497  1.392292   \n",
       "\n",
       "          7         8         9  \n",
       "0  1.269751  1.253269  1.414050  \n",
       "1  1.389336  1.367194  1.364513  \n",
       "2  1.408840  1.408221  1.408656  \n",
       "3  1.402224  1.403495  1.409117  \n",
       "4  1.400122  1.395649  1.407790  \n",
       "5  1.357059  1.332225  1.394497  \n",
       "6  1.359287  1.330871  1.392292  \n",
       "7  0.000000  1.206197  1.412286  \n",
       "8  1.206197  0.000000  1.407447  \n",
       "9  1.412286  1.407447  0.000000  "
      ]
     },
     "execution_count": 326,
     "metadata": {},
     "output_type": "execute_result"
    }
   ],
   "source": [
    "pd.DataFrame(dist_mat)"
   ]
  },
  {
   "cell_type": "code",
   "execution_count": null,
   "metadata": {},
   "outputs": [],
   "source": []
  },
  {
   "cell_type": "code",
   "execution_count": null,
   "metadata": {},
   "outputs": [],
   "source": []
  },
  {
   "cell_type": "code",
   "execution_count": null,
   "metadata": {},
   "outputs": [],
   "source": []
  }
 ],
 "metadata": {
  "kernelspec": {
   "display_name": "Python 3 (ipykernel)",
   "language": "python",
   "name": "python3"
  },
  "language_info": {
   "codemirror_mode": {
    "name": "ipython",
    "version": 3
   },
   "file_extension": ".py",
   "mimetype": "text/x-python",
   "name": "python",
   "nbconvert_exporter": "python",
   "pygments_lexer": "ipython3",
   "version": "3.7.3"
  }
 },
 "nbformat": 4,
 "nbformat_minor": 2
}
