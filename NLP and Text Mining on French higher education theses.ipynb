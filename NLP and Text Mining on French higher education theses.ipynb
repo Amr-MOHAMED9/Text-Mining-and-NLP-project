{
 "cells": [
  {
   "cell_type": "code",
   "execution_count": 2,
   "metadata": {},
   "outputs": [],
   "source": [
    "import os\n",
    "import pandas as pd\n",
    "import numpy as np\n",
    "\n",
    "from scipy.stats import randint\n",
    "from scipy.spatial import distance_matrix\n",
    "\n",
    "import matplotlib.pyplot as plt\n",
    "import seaborn as sns\n",
    "\n",
    "from io import StringIO\n",
    "\n",
    "from sklearn.feature_extraction.text import TfidfVectorizer\n",
    "from sklearn.feature_selection import chi2\n",
    "from IPython.display import display\n",
    "from sklearn.model_selection import train_test_split\n",
    "from sklearn.feature_extraction.text import TfidfTransformer\n",
    "from sklearn.naive_bayes import MultinomialNB\n",
    "from sklearn.linear_model import LogisticRegression\n",
    "from sklearn.ensemble import RandomForestClassifier\n",
    "from sklearn.svm import LinearSVC\n",
    "from sklearn.model_selection import cross_val_score\n",
    "from sklearn.metrics import confusion_matrix\n",
    "from sklearn import metrics\n",
    "from sklearn.feature_extraction.text import CountVectorizer\n",
    "from sklearn.metrics.pairwise import linear_kernel\n",
    "\n",
    "from pathlib import Path  \n",
    "import glob\n",
    "\n",
    "# import spacy\n",
    "from spacy.language import Language\n",
    "from spacy.lang.fr.stop_words import STOP_WORDS as fr_stop\n",
    "from spacy.lang.en.stop_words import STOP_WORDS as en_stop\n",
    "from spacy.lang.pt.stop_words import STOP_WORDS as pt_stop\n",
    "from spacy.lang.ro.stop_words import STOP_WORDS as ro_stop\n",
    "from spacy_langdetect import LanguageDetector\n",
    "\n",
    "import altair as alt\n",
    "from langdetect import detect, detect_langs\n",
    "import pdftotext\n",
    "\n",
    "import requests\n",
    "from bs4 import BeautifulSoup\n",
    "import urllib.request"
   ]
  },
  {
   "cell_type": "markdown",
   "metadata": {},
   "source": [
    "# Web-scraping the theses PDF files and PDF to TXT conversion"
   ]
  },
  {
   "cell_type": "code",
   "execution_count": 58,
   "metadata": {},
   "outputs": [],
   "source": [
    "url = 'https://tel.archives-ouvertes.fr/tel-03440181/document'\n",
    "r = requests.get(url, stream=True)\n",
    "\n",
    "with open('metadata.pdf', 'wb') as fd:\n",
    "    for chunk in r.iter_content(1):\n",
    "        fd.write(chunk)"
   ]
  },
  {
   "cell_type": "code",
   "execution_count": 40,
   "metadata": {},
   "outputs": [],
   "source": [
    "link=\"https://tel.archives-ouvertes.fr/search/index/?q=%2A&sort=submittedDate_tdate+desc&rows=50\"\n",
    "cpt=0\n",
    "pages=[]\n",
    "for i in range (1):\n",
    "    pages.append(link)\n",
    "total_pages=[]\n",
    "for i in pages:\n",
    "    cpt+=1\n",
    "    print(cpt)\n",
    "    r = requests.get(i) \n",
    "    soup = BeautifulSoup(r.text, 'html.parser')\n",
    "    links=[]#the list of links\n",
    "    for i in soup.find_all('a',{'class':'ref-halid'}):\n",
    "        links.append(i.get_text()) \n",
    "\n",
    "\n",
    "    total_pages+=links"
   ]
  },
  {
   "cell_type": "code",
   "execution_count": 41,
   "metadata": {
    "scrolled": true
   },
   "outputs": [],
   "source": [
    "for i in total_pages:\n",
    "    url = 'https://tel.archives-ouvertes.fr/'+i+'/document'\n",
    "    r = requests.get(url, stream=True)\n",
    "\n",
    "    with open('TelPDF\\\\'+str(i)+'.pdf', 'wb') as fd:\n",
    "        for chunk in r.iter_content(1):\n",
    "            fd.write(chunk)"
   ]
  },
  {
   "cell_type": "code",
   "execution_count": 43,
   "metadata": {
    "scrolled": true
   },
   "outputs": [],
   "source": [
    "count=0\n",
    "for i in total_pages:\n",
    "\n",
    "    url = 'https://tel.archives-ouvertes.fr/'+i+'/document'\n",
    "    urllib.request.urlretrieve(url, \"{}.pdf\".format(i))\n",
    "    print(count)\n",
    "    count +=1"
   ]
  },
  {
   "cell_type": "code",
   "execution_count": 49,
   "metadata": {},
   "outputs": [],
   "source": [
    "filesNames = ['tel-03440321v1','tel-03440181v1','tel-03440058v1','tel-03439538v1',\n",
    "              'tel-03439366v1','tel-03439358v1','tel-03439354v1','tel-03439346v1','tel-03439261v1',\n",
    "              'tel-03438938v1','tel-03438925v1','tel-03438923v1','tel-03438921v1','tel-03438863v1',\n",
    "              'tel-03438829v1','tel-03438828v1','tel-03438811v1','tel-03438755v1','tel-03438105v1',\n",
    "              'tel-03438104v1','tel-03438103v1','tel-03438102v1','tel-03438101v1','tel-03438100v1',\n",
    "              'tel-03437616v1','tel-03437573v1','tel-03437572v1','tel-01689242v1','tel-03412908v1',\n",
    "              'tel-03437282v1','tel-03437096v1','tel-03437063v1','tel-03096870v2','tel-03436551v1',\n",
    "              'tel-03436548v1','tel-03436545v1','tel-03436542v2','tel-03436530v1','tel-03436527v1',\n",
    "              'tel-03436501v1','tel-03436409v1','tel-03436405v1','tel-03436394v1','tel-03436372v1',\n",
    "              'tel-03436368v1','tel-03436364v1','tel-03436335v1','tel-03436173v1','tel-03436157v1']"
   ]
  },
  {
   "cell_type": "code",
   "execution_count": 50,
   "metadata": {},
   "outputs": [],
   "source": [
    "url1='https://tel.archives-ouvertes.fr/'\n",
    "cpt=0\n",
    "final=[]\n",
    "for i in filesNames:\n",
    "    url = url1+i\n",
    "    r = requests.get(url) \n",
    "    soup = BeautifulSoup(r.text, 'html.parser')\n",
    "    title=''\n",
    "    if (soup.find('meta',attrs={'name':\"DC.title\"})):\n",
    "        title=(soup.find('meta',attrs={'name':\"DC.title\"}).get('content'))\n",
    "    elif (soup.find('meta',attrs={'name':\"citation_title\"})):\n",
    "        title=(soup.find('meta',attrs={'name':\"citation_title\"}).get('content'))\n",
    "    else:\n",
    "        title=''\n",
    "    final.append(title)"
   ]
  },
  {
   "cell_type": "code",
   "execution_count": 51,
   "metadata": {},
   "outputs": [
    {
     "data": {
      "text/plain": [
       "['Education, Well-Being and Aspirations ; a Capability based Analysis of the Secondary Schooling System in France',\n",
       " \"Algorithmes multi-critères pour la prédiction de structures d'ARN\",\n",
       " 'La microfinance et appui au microentrepreneuriat : cas du Burundi',\n",
       " \"Importance de la re-domestication pour la conservation de l'agrobiodiversité : le cas du châtaignier\",\n",
       " 'Homomorphic Cryptography and Privacy']"
      ]
     },
     "execution_count": 51,
     "metadata": {},
     "output_type": "execute_result"
    }
   ],
   "source": [
    "titles=final\n",
    "titles[:5]"
   ]
  },
  {
   "cell_type": "code",
   "execution_count": 62,
   "metadata": {},
   "outputs": [],
   "source": [
    "for i in filesNames:\n",
    "    with open('TelPDF\\\\'+i+\".pdf\", \"rb\") as f:\n",
    "        pdf = pdftotext.PDF(f)\n",
    "\n",
    "    # Save all text to a txt file.\n",
    "    with open('TelTXT\\\\'+i+'.txt', 'w',encoding = 'utf-8') as f:\n",
    "        f.write(\"\\n\\n\".join(pdf))"
   ]
  },
  {
   "cell_type": "code",
   "execution_count": 64,
   "metadata": {
    "scrolled": true
   },
   "outputs": [],
   "source": [
    "# dataset = []\n",
    "# file = open(\"TelTXT//tel-03412908v1.txt\", 'r')\n",
    "# text = file.read().strip()\n",
    "# file.close()\n",
    "\n",
    "# for j in range(len(file)):\n",
    "#     dataset.append((str(i) + str(file_name[j]), file_title[j]))"
   ]
  },
  {
   "cell_type": "code",
   "execution_count": 65,
   "metadata": {},
   "outputs": [],
   "source": [
    "# with open(\"TelTXT//tel-03412908v1.txt\", \"r\",encoding=\"utf-8\") as f:\n",
    "#     #read file as text and store in variable `text`\n",
    "#     text = f.read()"
   ]
  },
  {
   "cell_type": "markdown",
   "metadata": {},
   "source": [
    "# Language detection of documents"
   ]
  },
  {
   "cell_type": "code",
   "execution_count": 52,
   "metadata": {},
   "outputs": [],
   "source": [
    "languages = []\n",
    "for i in filesNames:\n",
    "    with open(\"TelTXT//\"+i+'.txt', \"r\",encoding=\"utf-8\") as f:\n",
    "        #read file as text and store in variable `text`\n",
    "        text = f.read()\n",
    "    languages.append(str(detect_langs(text))[1:-1].split()[0].split(':')[0])"
   ]
  },
  {
   "cell_type": "code",
   "execution_count": 53,
   "metadata": {
    "scrolled": true
   },
   "outputs": [
    {
     "data": {
      "text/html": [
       "<div>\n",
       "<style scoped>\n",
       "    .dataframe tbody tr th:only-of-type {\n",
       "        vertical-align: middle;\n",
       "    }\n",
       "\n",
       "    .dataframe tbody tr th {\n",
       "        vertical-align: top;\n",
       "    }\n",
       "\n",
       "    .dataframe thead th {\n",
       "        text-align: right;\n",
       "    }\n",
       "</style>\n",
       "<table border=\"1\" class=\"dataframe\">\n",
       "  <thead>\n",
       "    <tr style=\"text-align: right;\">\n",
       "      <th></th>\n",
       "      <th>File Name</th>\n",
       "      <th>Title</th>\n",
       "      <th>Language</th>\n",
       "    </tr>\n",
       "  </thead>\n",
       "  <tbody>\n",
       "    <tr>\n",
       "      <th>0</th>\n",
       "      <td>tel-03440321v1</td>\n",
       "      <td>Education, Well-Being and Aspirations ; a Capa...</td>\n",
       "      <td>en</td>\n",
       "    </tr>\n",
       "    <tr>\n",
       "      <th>1</th>\n",
       "      <td>tel-03440181v1</td>\n",
       "      <td>Algorithmes multi-critères pour la prédiction ...</td>\n",
       "      <td>fr</td>\n",
       "    </tr>\n",
       "    <tr>\n",
       "      <th>2</th>\n",
       "      <td>tel-03440058v1</td>\n",
       "      <td>La microfinance et appui au microentrepreneuri...</td>\n",
       "      <td>fr</td>\n",
       "    </tr>\n",
       "    <tr>\n",
       "      <th>3</th>\n",
       "      <td>tel-03439538v1</td>\n",
       "      <td>Importance de la re-domestication pour la cons...</td>\n",
       "      <td>fr</td>\n",
       "    </tr>\n",
       "    <tr>\n",
       "      <th>4</th>\n",
       "      <td>tel-03439366v1</td>\n",
       "      <td>Homomorphic Cryptography and Privacy</td>\n",
       "      <td>fr</td>\n",
       "    </tr>\n",
       "  </tbody>\n",
       "</table>\n",
       "</div>"
      ],
      "text/plain": [
       "        File Name                                              Title Language\n",
       "0  tel-03440321v1  Education, Well-Being and Aspirations ; a Capa...       en\n",
       "1  tel-03440181v1  Algorithmes multi-critères pour la prédiction ...       fr\n",
       "2  tel-03440058v1  La microfinance et appui au microentrepreneuri...       fr\n",
       "3  tel-03439538v1  Importance de la re-domestication pour la cons...       fr\n",
       "4  tel-03439366v1               Homomorphic Cryptography and Privacy       fr"
      ]
     },
     "execution_count": 53,
     "metadata": {},
     "output_type": "execute_result"
    }
   ],
   "source": [
    "langs=pd.DataFrame(filesNames,columns=['File Name'])\n",
    "langs['Title']= titles\n",
    "langs['Language']=languages\n",
    "langs.head()"
   ]
  },
  {
   "cell_type": "code",
   "execution_count": 56,
   "metadata": {},
   "outputs": [
    {
     "name": "stderr",
     "output_type": "stream",
     "text": [
      "C:\\Users\\Administrator\\AppData\\Local\\Temp\\ipykernel_16924\\1872003689.py:12: SettingWithCopyWarning: \n",
      "A value is trying to be set on a copy of a slice from a DataFrame.\n",
      "Try using .loc[row_indexer,col_indexer] = value instead\n",
      "\n",
      "See the caveats in the documentation: https://pandas.pydata.org/pandas-docs/stable/user_guide/indexing.html#returning-a-view-versus-a-copy\n",
      "  x['Node']= [0,1,2,3,4,5,6,7,8,9]\n"
     ]
    },
    {
     "data": {
      "text/html": [
       "<div>\n",
       "<style scoped>\n",
       "    .dataframe tbody tr th:only-of-type {\n",
       "        vertical-align: middle;\n",
       "    }\n",
       "\n",
       "    .dataframe tbody tr th {\n",
       "        vertical-align: top;\n",
       "    }\n",
       "\n",
       "    .dataframe thead th {\n",
       "        text-align: right;\n",
       "    }\n",
       "</style>\n",
       "<table border=\"1\" class=\"dataframe\">\n",
       "  <thead>\n",
       "    <tr style=\"text-align: right;\">\n",
       "      <th></th>\n",
       "      <th>Node</th>\n",
       "      <th>File Name</th>\n",
       "      <th>Title</th>\n",
       "    </tr>\n",
       "  </thead>\n",
       "  <tbody>\n",
       "    <tr>\n",
       "      <th>0</th>\n",
       "      <td>0</td>\n",
       "      <td>tel-03440321v1</td>\n",
       "      <td>Education, Well-Being and Aspirations ; a Capa...</td>\n",
       "    </tr>\n",
       "    <tr>\n",
       "      <th>1</th>\n",
       "      <td>1</td>\n",
       "      <td>tel-03440181v1</td>\n",
       "      <td>Algorithmes multi-critères pour la prédiction ...</td>\n",
       "    </tr>\n",
       "    <tr>\n",
       "      <th>2</th>\n",
       "      <td>2</td>\n",
       "      <td>tel-03440058v1</td>\n",
       "      <td>La microfinance et appui au microentrepreneuri...</td>\n",
       "    </tr>\n",
       "    <tr>\n",
       "      <th>3</th>\n",
       "      <td>3</td>\n",
       "      <td>tel-03439538v1</td>\n",
       "      <td>Importance de la re-domestication pour la cons...</td>\n",
       "    </tr>\n",
       "    <tr>\n",
       "      <th>4</th>\n",
       "      <td>4</td>\n",
       "      <td>tel-03439366v1</td>\n",
       "      <td>Homomorphic Cryptography and Privacy</td>\n",
       "    </tr>\n",
       "    <tr>\n",
       "      <th>5</th>\n",
       "      <td>5</td>\n",
       "      <td>tel-03439358v1</td>\n",
       "      <td>Observer-based boundary control of distributed...</td>\n",
       "    </tr>\n",
       "    <tr>\n",
       "      <th>6</th>\n",
       "      <td>6</td>\n",
       "      <td>tel-03439354v1</td>\n",
       "      <td>In search of frictions</td>\n",
       "    </tr>\n",
       "    <tr>\n",
       "      <th>7</th>\n",
       "      <td>7</td>\n",
       "      <td>tel-03439346v1</td>\n",
       "      <td>Le droit face à l'art corporel : du corps comm...</td>\n",
       "    </tr>\n",
       "    <tr>\n",
       "      <th>8</th>\n",
       "      <td>8</td>\n",
       "      <td>tel-03439261v1</td>\n",
       "      <td>Récupérateur d’énergie pour les systèmes TPMS ...</td>\n",
       "    </tr>\n",
       "    <tr>\n",
       "      <th>9</th>\n",
       "      <td>9</td>\n",
       "      <td>tel-03438938v1</td>\n",
       "      <td>Rôle des contacts adhésifs et frottants dans l...</td>\n",
       "    </tr>\n",
       "  </tbody>\n",
       "</table>\n",
       "</div>"
      ],
      "text/plain": [
       "   Node       File Name                                              Title\n",
       "0     0  tel-03440321v1  Education, Well-Being and Aspirations ; a Capa...\n",
       "1     1  tel-03440181v1  Algorithmes multi-critères pour la prédiction ...\n",
       "2     2  tel-03440058v1  La microfinance et appui au microentrepreneuri...\n",
       "3     3  tel-03439538v1  Importance de la re-domestication pour la cons...\n",
       "4     4  tel-03439366v1               Homomorphic Cryptography and Privacy\n",
       "5     5  tel-03439358v1  Observer-based boundary control of distributed...\n",
       "6     6  tel-03439354v1                             In search of frictions\n",
       "7     7  tel-03439346v1  Le droit face à l'art corporel : du corps comm...\n",
       "8     8  tel-03439261v1  Récupérateur d’énergie pour les systèmes TPMS ...\n",
       "9     9  tel-03438938v1  Rôle des contacts adhésifs et frottants dans l..."
      ]
     },
     "execution_count": 56,
     "metadata": {},
     "output_type": "execute_result"
    }
   ],
   "source": [
    "filesNames = ['tel-03440321v1',\n",
    "             'tel-03440181v1',\n",
    "             'tel-03440058v1',\n",
    "             'tel-03439538v1',\n",
    "             'tel-03439366v1',\n",
    "             'tel-03439358v1',\n",
    "             'tel-03439354v1',\n",
    "             'tel-03439346v1',\n",
    "             'tel-03439261v1',\n",
    "             'tel-03438938v1']\n",
    "x=langs[langs['File Name'].isin(filesNames)]\n",
    "x['Node']= [0,1,2,3,4,5,6,7,8,9]\n",
    "x[['Node','File Name','Title']]"
   ]
  },
  {
   "cell_type": "markdown",
   "metadata": {},
   "source": [
    "## Another approach for language detection"
   ]
  },
  {
   "cell_type": "code",
   "execution_count": 57,
   "metadata": {},
   "outputs": [],
   "source": [
    "languages = []\n",
    "for i in filesNames:\n",
    "    with open(\"TelTXT//\"+i+'.txt', \"r\",encoding=\"utf-8\") as f:\n",
    "        #read file as text and store in variable `text`\n",
    "        text = f.read()\n",
    "    languages.append(detect(text))"
   ]
  },
  {
   "cell_type": "code",
   "execution_count": 58,
   "metadata": {
    "scrolled": false
   },
   "outputs": [
    {
     "data": {
      "text/plain": [
       "['en', 'fr', 'fr', 'fr', 'fr']"
      ]
     },
     "execution_count": 58,
     "metadata": {},
     "output_type": "execute_result"
    }
   ],
   "source": [
    "languages[:5]"
   ]
  },
  {
   "cell_type": "code",
   "execution_count": 59,
   "metadata": {},
   "outputs": [],
   "source": [
    "directory_path = \"TelTXT//\"\n",
    "text_files = glob.glob(f\"{directory_path}/*.txt\")"
   ]
  },
  {
   "cell_type": "code",
   "execution_count": 60,
   "metadata": {
    "scrolled": false
   },
   "outputs": [
    {
     "data": {
      "text/plain": [
       "['TelTXT\\\\tel-01689242v1.txt',\n",
       " 'TelTXT\\\\tel-03096870v2.txt',\n",
       " 'TelTXT\\\\tel-03412908v1.txt',\n",
       " 'TelTXT\\\\tel-03436157v1.txt',\n",
       " 'TelTXT\\\\tel-03436173v1.txt']"
      ]
     },
     "execution_count": 60,
     "metadata": {},
     "output_type": "execute_result"
    }
   ],
   "source": [
    "text_files[:5]"
   ]
  },
  {
   "cell_type": "code",
   "execution_count": 61,
   "metadata": {},
   "outputs": [],
   "source": [
    "text_titles = [Path(text).stem for text in text_files]"
   ]
  },
  {
   "cell_type": "code",
   "execution_count": 62,
   "metadata": {
    "scrolled": true
   },
   "outputs": [
    {
     "data": {
      "text/plain": [
       "['tel-01689242v1',\n",
       " 'tel-03096870v2',\n",
       " 'tel-03412908v1',\n",
       " 'tel-03436157v1',\n",
       " 'tel-03436173v1']"
      ]
     },
     "execution_count": 62,
     "metadata": {},
     "output_type": "execute_result"
    }
   ],
   "source": [
    "text_titles[:5]"
   ]
  },
  {
   "cell_type": "code",
   "execution_count": 63,
   "metadata": {},
   "outputs": [],
   "source": [
    "final_stopwords_list = list(fr_stop) + list(en_stop)+list(pt_stop)+list(ro_stop)"
   ]
  },
  {
   "cell_type": "code",
   "execution_count": 64,
   "metadata": {},
   "outputs": [],
   "source": [
    "tfidf_vectorizer = TfidfVectorizer(input='filename',stop_words=final_stopwords_list)"
   ]
  },
  {
   "cell_type": "markdown",
   "metadata": {},
   "source": [
    "# TFIDF for one file"
   ]
  },
  {
   "cell_type": "code",
   "execution_count": 65,
   "metadata": {},
   "outputs": [
    {
     "name": "stderr",
     "output_type": "stream",
     "text": [
      "H:\\Users\\Administrator\\lib\\site-packages\\sklearn\\feature_extraction\\text.py:396: UserWarning: Your stop_words may be inconsistent with your preprocessing. Tokenizing the stop words generated tokens ['ll', 'neuf', 'printr', 'qu', 'quelqu', 've'] not in stop_words.\n",
      "  warnings.warn(\n"
     ]
    }
   ],
   "source": [
    "tfidf_vector = tfidf_vectorizer.fit_transform([\"TelTXT\\\\tel-03440321v1.txt\"])\n"
   ]
  },
  {
   "cell_type": "code",
   "execution_count": 66,
   "metadata": {},
   "outputs": [
    {
     "data": {
      "text/plain": [
       "<1x6221 sparse matrix of type '<class 'numpy.float64'>'\n",
       "\twith 6221 stored elements in Compressed Sparse Row format>"
      ]
     },
     "execution_count": 66,
     "metadata": {},
     "output_type": "execute_result"
    }
   ],
   "source": [
    "tfidf_vector"
   ]
  },
  {
   "cell_type": "code",
   "execution_count": 67,
   "metadata": {},
   "outputs": [
    {
     "name": "stderr",
     "output_type": "stream",
     "text": [
      "H:\\Users\\Administrator\\lib\\site-packages\\sklearn\\utils\\deprecation.py:87: FutureWarning: Function get_feature_names is deprecated; get_feature_names is deprecated in 1.0 and will be removed in 1.2. Please use get_feature_names_out instead.\n",
      "  warnings.warn(msg, category=FutureWarning)\n"
     ]
    }
   ],
   "source": [
    "tfidf_df = pd.DataFrame(tfidf_vector.toarray(), index=[\"tel-03440321v1.txt\"], columns=tfidf_vectorizer.get_feature_names())\n"
   ]
  },
  {
   "cell_type": "code",
   "execution_count": 68,
   "metadata": {},
   "outputs": [],
   "source": [
    "tfidf_df.loc['00_Document Frequency'] = (tfidf_df > 0).sum()\n"
   ]
  },
  {
   "cell_type": "code",
   "execution_count": 69,
   "metadata": {},
   "outputs": [],
   "source": [
    "tfidf_df = tfidf_df.drop('00_Document Frequency', errors='ignore')\n"
   ]
  },
  {
   "cell_type": "code",
   "execution_count": 70,
   "metadata": {
    "scrolled": true
   },
   "outputs": [
    {
     "data": {
      "text/html": [
       "<div>\n",
       "<style scoped>\n",
       "    .dataframe tbody tr th:only-of-type {\n",
       "        vertical-align: middle;\n",
       "    }\n",
       "\n",
       "    .dataframe tbody tr th {\n",
       "        vertical-align: top;\n",
       "    }\n",
       "\n",
       "    .dataframe thead th {\n",
       "        text-align: right;\n",
       "    }\n",
       "</style>\n",
       "<table border=\"1\" class=\"dataframe\">\n",
       "  <thead>\n",
       "    <tr style=\"text-align: right;\">\n",
       "      <th></th>\n",
       "      <th>level_0</th>\n",
       "      <th>level_1</th>\n",
       "      <th>0</th>\n",
       "    </tr>\n",
       "  </thead>\n",
       "  <tbody>\n",
       "    <tr>\n",
       "      <th>0</th>\n",
       "      <td>tel-03440321v1.txt</td>\n",
       "      <td>000</td>\n",
       "      <td>0.001580</td>\n",
       "    </tr>\n",
       "    <tr>\n",
       "      <th>1</th>\n",
       "      <td>tel-03440321v1.txt</td>\n",
       "      <td>0001</td>\n",
       "      <td>0.011848</td>\n",
       "    </tr>\n",
       "    <tr>\n",
       "      <th>2</th>\n",
       "      <td>tel-03440321v1.txt</td>\n",
       "      <td>002</td>\n",
       "      <td>0.000790</td>\n",
       "    </tr>\n",
       "    <tr>\n",
       "      <th>3</th>\n",
       "      <td>tel-03440321v1.txt</td>\n",
       "      <td>006</td>\n",
       "      <td>0.000790</td>\n",
       "    </tr>\n",
       "    <tr>\n",
       "      <th>4</th>\n",
       "      <td>tel-03440321v1.txt</td>\n",
       "      <td>01</td>\n",
       "      <td>0.000790</td>\n",
       "    </tr>\n",
       "  </tbody>\n",
       "</table>\n",
       "</div>"
      ],
      "text/plain": [
       "              level_0 level_1         0\n",
       "0  tel-03440321v1.txt     000  0.001580\n",
       "1  tel-03440321v1.txt    0001  0.011848\n",
       "2  tel-03440321v1.txt     002  0.000790\n",
       "3  tel-03440321v1.txt     006  0.000790\n",
       "4  tel-03440321v1.txt      01  0.000790"
      ]
     },
     "execution_count": 70,
     "metadata": {},
     "output_type": "execute_result"
    }
   ],
   "source": [
    "tfidf_df.stack().reset_index().head()\n"
   ]
  },
  {
   "cell_type": "code",
   "execution_count": 71,
   "metadata": {},
   "outputs": [],
   "source": [
    "tfidf_df = tfidf_df.stack().reset_index()\n"
   ]
  },
  {
   "cell_type": "code",
   "execution_count": 72,
   "metadata": {},
   "outputs": [],
   "source": [
    "tfidf_df = tfidf_df.rename(columns={0:'tfidf', 'level_0': 'document','level_1': 'term', 'level_2': 'term'})\n"
   ]
  },
  {
   "cell_type": "code",
   "execution_count": 73,
   "metadata": {
    "scrolled": false
   },
   "outputs": [
    {
     "data": {
      "text/plain": [
       "<pandas.core.groupby.generic.DataFrameGroupBy object at 0x00000250026A3940>"
      ]
     },
     "execution_count": 73,
     "metadata": {},
     "output_type": "execute_result"
    }
   ],
   "source": [
    "tfidf_df.sort_values(by=['document','tfidf'], ascending=[True,False]).groupby(['document'])\n"
   ]
  },
  {
   "cell_type": "code",
   "execution_count": 74,
   "metadata": {
    "scrolled": true
   },
   "outputs": [
    {
     "data": {
      "text/html": [
       "<div>\n",
       "<style scoped>\n",
       "    .dataframe tbody tr th:only-of-type {\n",
       "        vertical-align: middle;\n",
       "    }\n",
       "\n",
       "    .dataframe tbody tr th {\n",
       "        vertical-align: top;\n",
       "    }\n",
       "\n",
       "    .dataframe thead th {\n",
       "        text-align: right;\n",
       "    }\n",
       "</style>\n",
       "<table border=\"1\" class=\"dataframe\">\n",
       "  <thead>\n",
       "    <tr style=\"text-align: right;\">\n",
       "      <th></th>\n",
       "      <th>document</th>\n",
       "      <th>term</th>\n",
       "      <th>tfidf</th>\n",
       "    </tr>\n",
       "  </thead>\n",
       "  <tbody>\n",
       "    <tr>\n",
       "      <th>922</th>\n",
       "      <td>tel-03440321v1.txt</td>\n",
       "      <td>aspirations</td>\n",
       "      <td>0.372012</td>\n",
       "    </tr>\n",
       "    <tr>\n",
       "      <th>2208</th>\n",
       "      <td>tel-03440321v1.txt</td>\n",
       "      <td>education</td>\n",
       "      <td>0.334100</td>\n",
       "    </tr>\n",
       "    <tr>\n",
       "      <th>866</th>\n",
       "      <td>tel-03440321v1.txt</td>\n",
       "      <td>approach</td>\n",
       "      <td>0.206936</td>\n",
       "    </tr>\n",
       "    <tr>\n",
       "      <th>1243</th>\n",
       "      <td>tel-03440321v1.txt</td>\n",
       "      <td>capability</td>\n",
       "      <td>0.205357</td>\n",
       "    </tr>\n",
       "    <tr>\n",
       "      <th>5156</th>\n",
       "      <td>tel-03440321v1.txt</td>\n",
       "      <td>school</td>\n",
       "      <td>0.199828</td>\n",
       "    </tr>\n",
       "  </tbody>\n",
       "</table>\n",
       "</div>"
      ],
      "text/plain": [
       "                document         term     tfidf\n",
       "922   tel-03440321v1.txt  aspirations  0.372012\n",
       "2208  tel-03440321v1.txt    education  0.334100\n",
       "866   tel-03440321v1.txt     approach  0.206936\n",
       "1243  tel-03440321v1.txt   capability  0.205357\n",
       "5156  tel-03440321v1.txt       school  0.199828"
      ]
     },
     "execution_count": 74,
     "metadata": {},
     "output_type": "execute_result"
    }
   ],
   "source": [
    "top_tfidf= tfidf_df.sort_values(by=['document','tfidf'], ascending=[True,False]).groupby(['document'])\n",
    "top_tfidf.head(5)"
   ]
  },
  {
   "cell_type": "code",
   "execution_count": 75,
   "metadata": {},
   "outputs": [],
   "source": [
    "top_tfidf = tfidf_df.sort_values(by=['document','tfidf'], ascending=[True,False]).groupby(['document'])\n"
   ]
  },
  {
   "cell_type": "code",
   "execution_count": 76,
   "metadata": {},
   "outputs": [
    {
     "data": {
      "text/plain": [
       "(6221, 3)"
      ]
     },
     "execution_count": 76,
     "metadata": {},
     "output_type": "execute_result"
    }
   ],
   "source": [
    "tfidf_df.shape"
   ]
  },
  {
   "cell_type": "markdown",
   "metadata": {},
   "source": [
    "# TFIDF on the 20 files"
   ]
  },
  {
   "cell_type": "code",
   "execution_count": 77,
   "metadata": {},
   "outputs": [],
   "source": [
    "text_titles = [Path(text).stem for text in text_files[:20]]"
   ]
  },
  {
   "cell_type": "code",
   "execution_count": 78,
   "metadata": {},
   "outputs": [],
   "source": [
    "# tfidf_vectorizer = TfidfVectorizer(input='filename',stop_words=final_stopwords_list)"
   ]
  },
  {
   "cell_type": "code",
   "execution_count": 79,
   "metadata": {},
   "outputs": [],
   "source": [
    "tfidf_vector = tfidf_vectorizer.fit_transform(text_files[:20])"
   ]
  },
  {
   "cell_type": "code",
   "execution_count": 80,
   "metadata": {},
   "outputs": [
    {
     "data": {
      "text/plain": [
       "<20x95153 sparse matrix of type '<class 'numpy.float64'>'\n",
       "\twith 167896 stored elements in Compressed Sparse Row format>"
      ]
     },
     "execution_count": 80,
     "metadata": {},
     "output_type": "execute_result"
    }
   ],
   "source": [
    "tfidf_vector"
   ]
  },
  {
   "cell_type": "code",
   "execution_count": 81,
   "metadata": {},
   "outputs": [
    {
     "name": "stderr",
     "output_type": "stream",
     "text": [
      "H:\\Users\\Administrator\\lib\\site-packages\\sklearn\\utils\\deprecation.py:87: FutureWarning: Function get_feature_names is deprecated; get_feature_names is deprecated in 1.0 and will be removed in 1.2. Please use get_feature_names_out instead.\n",
      "  warnings.warn(msg, category=FutureWarning)\n"
     ]
    }
   ],
   "source": [
    "tfidf_df = pd.DataFrame(tfidf_vector.toarray(), index=text_titles[:20], columns=tfidf_vectorizer.get_feature_names())\n"
   ]
  },
  {
   "cell_type": "code",
   "execution_count": 82,
   "metadata": {},
   "outputs": [],
   "source": [
    "tfidf_df.loc['00_Document Frequency'] = (tfidf_df > 0).sum()\n"
   ]
  },
  {
   "cell_type": "code",
   "execution_count": 83,
   "metadata": {},
   "outputs": [],
   "source": [
    "tfidf_df = tfidf_df.drop('00_Document Frequency', errors='ignore')\n"
   ]
  },
  {
   "cell_type": "code",
   "execution_count": 84,
   "metadata": {
    "scrolled": true
   },
   "outputs": [
    {
     "data": {
      "text/html": [
       "<div>\n",
       "<style scoped>\n",
       "    .dataframe tbody tr th:only-of-type {\n",
       "        vertical-align: middle;\n",
       "    }\n",
       "\n",
       "    .dataframe tbody tr th {\n",
       "        vertical-align: top;\n",
       "    }\n",
       "\n",
       "    .dataframe thead th {\n",
       "        text-align: right;\n",
       "    }\n",
       "</style>\n",
       "<table border=\"1\" class=\"dataframe\">\n",
       "  <thead>\n",
       "    <tr style=\"text-align: right;\">\n",
       "      <th></th>\n",
       "      <th>level_0</th>\n",
       "      <th>level_1</th>\n",
       "      <th>0</th>\n",
       "    </tr>\n",
       "  </thead>\n",
       "  <tbody>\n",
       "    <tr>\n",
       "      <th>0</th>\n",
       "      <td>tel-01689242v1</td>\n",
       "      <td>00</td>\n",
       "      <td>0.004497</td>\n",
       "    </tr>\n",
       "    <tr>\n",
       "      <th>1</th>\n",
       "      <td>tel-01689242v1</td>\n",
       "      <td>000</td>\n",
       "      <td>0.062952</td>\n",
       "    </tr>\n",
       "    <tr>\n",
       "      <th>2</th>\n",
       "      <td>tel-01689242v1</td>\n",
       "      <td>00000</td>\n",
       "      <td>0.000000</td>\n",
       "    </tr>\n",
       "    <tr>\n",
       "      <th>3</th>\n",
       "      <td>tel-01689242v1</td>\n",
       "      <td>000001</td>\n",
       "      <td>0.000000</td>\n",
       "    </tr>\n",
       "    <tr>\n",
       "      <th>4</th>\n",
       "      <td>tel-01689242v1</td>\n",
       "      <td>000002</td>\n",
       "      <td>0.000000</td>\n",
       "    </tr>\n",
       "  </tbody>\n",
       "</table>\n",
       "</div>"
      ],
      "text/plain": [
       "          level_0 level_1         0\n",
       "0  tel-01689242v1      00  0.004497\n",
       "1  tel-01689242v1     000  0.062952\n",
       "2  tel-01689242v1   00000  0.000000\n",
       "3  tel-01689242v1  000001  0.000000\n",
       "4  tel-01689242v1  000002  0.000000"
      ]
     },
     "execution_count": 84,
     "metadata": {},
     "output_type": "execute_result"
    }
   ],
   "source": [
    "tfidf_df.stack().reset_index().head()\n"
   ]
  },
  {
   "cell_type": "code",
   "execution_count": 85,
   "metadata": {},
   "outputs": [],
   "source": [
    "tfidf_df = tfidf_df.stack().reset_index()\n"
   ]
  },
  {
   "cell_type": "code",
   "execution_count": 86,
   "metadata": {},
   "outputs": [],
   "source": [
    "tfidf_df = tfidf_df.rename(columns={0:'tfidf', 'level_0': 'document','level_1': 'term', 'level_2': 'term'})\n"
   ]
  },
  {
   "cell_type": "code",
   "execution_count": 87,
   "metadata": {
    "scrolled": false
   },
   "outputs": [
    {
     "data": {
      "text/plain": [
       "<pandas.core.groupby.generic.DataFrameGroupBy object at 0x000002507E53E790>"
      ]
     },
     "execution_count": 87,
     "metadata": {},
     "output_type": "execute_result"
    }
   ],
   "source": [
    "tfidf_df.sort_values(by=['document','tfidf'], ascending=[True,False]).groupby(['document'])\n"
   ]
  },
  {
   "cell_type": "code",
   "execution_count": 88,
   "metadata": {
    "scrolled": false
   },
   "outputs": [],
   "source": [
    "top_tfidf= tfidf_df.sort_values(by=['document','tfidf'], ascending=[True,False]).groupby(['document']).head(5)"
   ]
  },
  {
   "cell_type": "code",
   "execution_count": 89,
   "metadata": {
    "scrolled": false
   },
   "outputs": [
    {
     "data": {
      "text/html": [
       "<div>\n",
       "<style scoped>\n",
       "    .dataframe tbody tr th:only-of-type {\n",
       "        vertical-align: middle;\n",
       "    }\n",
       "\n",
       "    .dataframe tbody tr th {\n",
       "        vertical-align: top;\n",
       "    }\n",
       "\n",
       "    .dataframe thead th {\n",
       "        text-align: right;\n",
       "    }\n",
       "</style>\n",
       "<table border=\"1\" class=\"dataframe\">\n",
       "  <thead>\n",
       "    <tr style=\"text-align: right;\">\n",
       "      <th></th>\n",
       "      <th>document</th>\n",
       "      <th>term</th>\n",
       "      <th>tfidf</th>\n",
       "    </tr>\n",
       "  </thead>\n",
       "  <tbody>\n",
       "    <tr>\n",
       "      <th>72101</th>\n",
       "      <td>tel-01689242v1</td>\n",
       "      <td>rsn</td>\n",
       "      <td>0.388606</td>\n",
       "    </tr>\n",
       "    <tr>\n",
       "      <th>8278</th>\n",
       "      <td>tel-01689242v1</td>\n",
       "      <td>adoption</td>\n",
       "      <td>0.270700</td>\n",
       "    </tr>\n",
       "    <tr>\n",
       "      <th>15574</th>\n",
       "      <td>tel-01689242v1</td>\n",
       "      <td>bibliothèques</td>\n",
       "      <td>0.263537</td>\n",
       "    </tr>\n",
       "    <tr>\n",
       "      <th>15573</th>\n",
       "      <td>tel-01689242v1</td>\n",
       "      <td>bibliothèque</td>\n",
       "      <td>0.260701</td>\n",
       "    </tr>\n",
       "    <tr>\n",
       "      <th>15576</th>\n",
       "      <td>tel-01689242v1</td>\n",
       "      <td>bibliothécaires</td>\n",
       "      <td>0.254455</td>\n",
       "    </tr>\n",
       "    <tr>\n",
       "      <th>188965</th>\n",
       "      <td>tel-03096870v2</td>\n",
       "      <td>λn</td>\n",
       "      <td>0.272729</td>\n",
       "    </tr>\n",
       "    <tr>\n",
       "      <th>112145</th>\n",
       "      <td>tel-03096870v2</td>\n",
       "      <td>c2</td>\n",
       "      <td>0.268601</td>\n",
       "    </tr>\n",
       "    <tr>\n",
       "      <th>180285</th>\n",
       "      <td>tel-03096870v2</td>\n",
       "      <td>tr</td>\n",
       "      <td>0.252564</td>\n",
       "    </tr>\n",
       "    <tr>\n",
       "      <th>137936</th>\n",
       "      <td>tel-03096870v2</td>\n",
       "      <td>hℓ</td>\n",
       "      <td>0.224180</td>\n",
       "    </tr>\n",
       "    <tr>\n",
       "      <th>186001</th>\n",
       "      <td>tel-03096870v2</td>\n",
       "      <td>zn</td>\n",
       "      <td>0.186875</td>\n",
       "    </tr>\n",
       "    <tr>\n",
       "      <th>190869</th>\n",
       "      <td>tel-03412908v1</td>\n",
       "      <td>03412908</td>\n",
       "      <td>0.448181</td>\n",
       "    </tr>\n",
       "    <tr>\n",
       "      <th>208157</th>\n",
       "      <td>tel-03412908v1</td>\n",
       "      <td>causse</td>\n",
       "      <td>0.298787</td>\n",
       "    </tr>\n",
       "    <tr>\n",
       "      <th>212890</th>\n",
       "      <td>tel-03412908v1</td>\n",
       "      <td>corrèze</td>\n",
       "      <td>0.298787</td>\n",
       "    </tr>\n",
       "    <tr>\n",
       "      <th>240948</th>\n",
       "      <td>tel-03412908v1</td>\n",
       "      <td>karstiques</td>\n",
       "      <td>0.298787</td>\n",
       "    </tr>\n",
       "    <tr>\n",
       "      <th>245707</th>\n",
       "      <td>tel-03412908v1</td>\n",
       "      <td>martel</td>\n",
       "      <td>0.298787</td>\n",
       "    </tr>\n",
       "  </tbody>\n",
       "</table>\n",
       "</div>"
      ],
      "text/plain": [
       "              document             term     tfidf\n",
       "72101   tel-01689242v1              rsn  0.388606\n",
       "8278    tel-01689242v1         adoption  0.270700\n",
       "15574   tel-01689242v1    bibliothèques  0.263537\n",
       "15573   tel-01689242v1     bibliothèque  0.260701\n",
       "15576   tel-01689242v1  bibliothécaires  0.254455\n",
       "188965  tel-03096870v2               λn  0.272729\n",
       "112145  tel-03096870v2               c2  0.268601\n",
       "180285  tel-03096870v2               tr  0.252564\n",
       "137936  tel-03096870v2               hℓ  0.224180\n",
       "186001  tel-03096870v2               zn  0.186875\n",
       "190869  tel-03412908v1         03412908  0.448181\n",
       "208157  tel-03412908v1           causse  0.298787\n",
       "212890  tel-03412908v1          corrèze  0.298787\n",
       "240948  tel-03412908v1       karstiques  0.298787\n",
       "245707  tel-03412908v1           martel  0.298787"
      ]
     },
     "execution_count": 89,
     "metadata": {},
     "output_type": "execute_result"
    }
   ],
   "source": [
    "(top_tfidf).head(15)\n"
   ]
  },
  {
   "cell_type": "code",
   "execution_count": 90,
   "metadata": {
    "scrolled": false
   },
   "outputs": [
    {
     "data": {
      "text/html": [
       "<div>\n",
       "<style scoped>\n",
       "    .dataframe tbody tr th:only-of-type {\n",
       "        vertical-align: middle;\n",
       "    }\n",
       "\n",
       "    .dataframe tbody tr th {\n",
       "        vertical-align: top;\n",
       "    }\n",
       "\n",
       "    .dataframe thead th {\n",
       "        text-align: right;\n",
       "    }\n",
       "</style>\n",
       "<table border=\"1\" class=\"dataframe\">\n",
       "  <thead>\n",
       "    <tr style=\"text-align: right;\">\n",
       "      <th></th>\n",
       "      <th>document</th>\n",
       "      <th>Title</th>\n",
       "      <th>term</th>\n",
       "      <th>tfidf</th>\n",
       "    </tr>\n",
       "  </thead>\n",
       "  <tbody>\n",
       "    <tr>\n",
       "      <th>0</th>\n",
       "      <td>tel-01689242v1</td>\n",
       "      <td>Determinants of the professional adoption of d...</td>\n",
       "      <td>rsn</td>\n",
       "      <td>0.388606</td>\n",
       "    </tr>\n",
       "    <tr>\n",
       "      <th>1</th>\n",
       "      <td>tel-01689242v1</td>\n",
       "      <td>Determinants of the professional adoption of d...</td>\n",
       "      <td>adoption</td>\n",
       "      <td>0.270700</td>\n",
       "    </tr>\n",
       "    <tr>\n",
       "      <th>2</th>\n",
       "      <td>tel-01689242v1</td>\n",
       "      <td>Determinants of the professional adoption of d...</td>\n",
       "      <td>bibliothèques</td>\n",
       "      <td>0.263537</td>\n",
       "    </tr>\n",
       "    <tr>\n",
       "      <th>3</th>\n",
       "      <td>tel-01689242v1</td>\n",
       "      <td>Determinants of the professional adoption of d...</td>\n",
       "      <td>bibliothèque</td>\n",
       "      <td>0.260701</td>\n",
       "    </tr>\n",
       "    <tr>\n",
       "      <th>4</th>\n",
       "      <td>tel-01689242v1</td>\n",
       "      <td>Determinants of the professional adoption of d...</td>\n",
       "      <td>bibliothécaires</td>\n",
       "      <td>0.254455</td>\n",
       "    </tr>\n",
       "    <tr>\n",
       "      <th>5</th>\n",
       "      <td>tel-03096870v2</td>\n",
       "      <td>Asymptotic representation theory and applicati...</td>\n",
       "      <td>λn</td>\n",
       "      <td>0.272729</td>\n",
       "    </tr>\n",
       "    <tr>\n",
       "      <th>6</th>\n",
       "      <td>tel-03096870v2</td>\n",
       "      <td>Asymptotic representation theory and applicati...</td>\n",
       "      <td>c2</td>\n",
       "      <td>0.268601</td>\n",
       "    </tr>\n",
       "    <tr>\n",
       "      <th>7</th>\n",
       "      <td>tel-03096870v2</td>\n",
       "      <td>Asymptotic representation theory and applicati...</td>\n",
       "      <td>tr</td>\n",
       "      <td>0.252564</td>\n",
       "    </tr>\n",
       "    <tr>\n",
       "      <th>8</th>\n",
       "      <td>tel-03096870v2</td>\n",
       "      <td>Asymptotic representation theory and applicati...</td>\n",
       "      <td>hℓ</td>\n",
       "      <td>0.224180</td>\n",
       "    </tr>\n",
       "    <tr>\n",
       "      <th>9</th>\n",
       "      <td>tel-03096870v2</td>\n",
       "      <td>Asymptotic representation theory and applicati...</td>\n",
       "      <td>zn</td>\n",
       "      <td>0.186875</td>\n",
       "    </tr>\n",
       "    <tr>\n",
       "      <th>10</th>\n",
       "      <td>tel-03412908v1</td>\n",
       "      <td>Structure, fonctionnement et évolution de deux...</td>\n",
       "      <td>03412908</td>\n",
       "      <td>0.448181</td>\n",
       "    </tr>\n",
       "    <tr>\n",
       "      <th>11</th>\n",
       "      <td>tel-03412908v1</td>\n",
       "      <td>Structure, fonctionnement et évolution de deux...</td>\n",
       "      <td>causse</td>\n",
       "      <td>0.298787</td>\n",
       "    </tr>\n",
       "    <tr>\n",
       "      <th>12</th>\n",
       "      <td>tel-03412908v1</td>\n",
       "      <td>Structure, fonctionnement et évolution de deux...</td>\n",
       "      <td>corrèze</td>\n",
       "      <td>0.298787</td>\n",
       "    </tr>\n",
       "    <tr>\n",
       "      <th>13</th>\n",
       "      <td>tel-03412908v1</td>\n",
       "      <td>Structure, fonctionnement et évolution de deux...</td>\n",
       "      <td>karstiques</td>\n",
       "      <td>0.298787</td>\n",
       "    </tr>\n",
       "    <tr>\n",
       "      <th>14</th>\n",
       "      <td>tel-03412908v1</td>\n",
       "      <td>Structure, fonctionnement et évolution de deux...</td>\n",
       "      <td>martel</td>\n",
       "      <td>0.298787</td>\n",
       "    </tr>\n",
       "  </tbody>\n",
       "</table>\n",
       "</div>"
      ],
      "text/plain": [
       "          document                                              Title  \\\n",
       "0   tel-01689242v1  Determinants of the professional adoption of d...   \n",
       "1   tel-01689242v1  Determinants of the professional adoption of d...   \n",
       "2   tel-01689242v1  Determinants of the professional adoption of d...   \n",
       "3   tel-01689242v1  Determinants of the professional adoption of d...   \n",
       "4   tel-01689242v1  Determinants of the professional adoption of d...   \n",
       "5   tel-03096870v2  Asymptotic representation theory and applicati...   \n",
       "6   tel-03096870v2  Asymptotic representation theory and applicati...   \n",
       "7   tel-03096870v2  Asymptotic representation theory and applicati...   \n",
       "8   tel-03096870v2  Asymptotic representation theory and applicati...   \n",
       "9   tel-03096870v2  Asymptotic representation theory and applicati...   \n",
       "10  tel-03412908v1  Structure, fonctionnement et évolution de deux...   \n",
       "11  tel-03412908v1  Structure, fonctionnement et évolution de deux...   \n",
       "12  tel-03412908v1  Structure, fonctionnement et évolution de deux...   \n",
       "13  tel-03412908v1  Structure, fonctionnement et évolution de deux...   \n",
       "14  tel-03412908v1  Structure, fonctionnement et évolution de deux...   \n",
       "\n",
       "               term     tfidf  \n",
       "0               rsn  0.388606  \n",
       "1          adoption  0.270700  \n",
       "2     bibliothèques  0.263537  \n",
       "3      bibliothèque  0.260701  \n",
       "4   bibliothécaires  0.254455  \n",
       "5                λn  0.272729  \n",
       "6                c2  0.268601  \n",
       "7                tr  0.252564  \n",
       "8                hℓ  0.224180  \n",
       "9                zn  0.186875  \n",
       "10         03412908  0.448181  \n",
       "11           causse  0.298787  \n",
       "12          corrèze  0.298787  \n",
       "13       karstiques  0.298787  \n",
       "14           martel  0.298787  "
      ]
     },
     "execution_count": 90,
     "metadata": {},
     "output_type": "execute_result"
    }
   ],
   "source": [
    "pd.merge(top_tfidf,langs[['File Name','Title']],left_on='document',right_on='File Name')[['document','Title','term','tfidf']].head(15)"
   ]
  },
  {
   "cell_type": "code",
   "execution_count": 91,
   "metadata": {},
   "outputs": [
    {
     "data": {
      "text/plain": [
       "{'tel-01689242v1',\n",
       " 'tel-03096870v2',\n",
       " 'tel-03412908v1',\n",
       " 'tel-03436157v1',\n",
       " 'tel-03436173v1',\n",
       " 'tel-03436335v1',\n",
       " 'tel-03436364v1',\n",
       " 'tel-03436368v1',\n",
       " 'tel-03436372v1',\n",
       " 'tel-03436394v1',\n",
       " 'tel-03436405v1',\n",
       " 'tel-03436409v1',\n",
       " 'tel-03436501v1',\n",
       " 'tel-03436527v1',\n",
       " 'tel-03436530v1',\n",
       " 'tel-03436542v2',\n",
       " 'tel-03436545v1',\n",
       " 'tel-03436548v1',\n",
       " 'tel-03436551v1',\n",
       " 'tel-03437063v1'}"
      ]
     },
     "execution_count": 91,
     "metadata": {},
     "output_type": "execute_result"
    }
   ],
   "source": [
    "set(top_tfidf.document)"
   ]
  },
  {
   "cell_type": "code",
   "execution_count": 92,
   "metadata": {},
   "outputs": [
    {
     "data": {
      "text/plain": [
       "(1903060, 3)"
      ]
     },
     "execution_count": 92,
     "metadata": {},
     "output_type": "execute_result"
    }
   ],
   "source": [
    "tfidf_df.shape"
   ]
  },
  {
   "cell_type": "code",
   "execution_count": 95,
   "metadata": {},
   "outputs": [
    {
     "data": {
      "text/html": [
       "\n",
       "<div id=\"altair-viz-31d3d3f07f3545859dbad99fd5782135\"></div>\n",
       "<script type=\"text/javascript\">\n",
       "  var VEGA_DEBUG = (typeof VEGA_DEBUG == \"undefined\") ? {} : VEGA_DEBUG;\n",
       "  (function(spec, embedOpt){\n",
       "    let outputDiv = document.currentScript.previousElementSibling;\n",
       "    if (outputDiv.id !== \"altair-viz-31d3d3f07f3545859dbad99fd5782135\") {\n",
       "      outputDiv = document.getElementById(\"altair-viz-31d3d3f07f3545859dbad99fd5782135\");\n",
       "    }\n",
       "    const paths = {\n",
       "      \"vega\": \"https://cdn.jsdelivr.net/npm//vega@5?noext\",\n",
       "      \"vega-lib\": \"https://cdn.jsdelivr.net/npm//vega-lib?noext\",\n",
       "      \"vega-lite\": \"https://cdn.jsdelivr.net/npm//vega-lite@4.17.0?noext\",\n",
       "      \"vega-embed\": \"https://cdn.jsdelivr.net/npm//vega-embed@6?noext\",\n",
       "    };\n",
       "\n",
       "    function maybeLoadScript(lib, version) {\n",
       "      var key = `${lib.replace(\"-\", \"\")}_version`;\n",
       "      return (VEGA_DEBUG[key] == version) ?\n",
       "        Promise.resolve(paths[lib]) :\n",
       "        new Promise(function(resolve, reject) {\n",
       "          var s = document.createElement('script');\n",
       "          document.getElementsByTagName(\"head\")[0].appendChild(s);\n",
       "          s.async = true;\n",
       "          s.onload = () => {\n",
       "            VEGA_DEBUG[key] = version;\n",
       "            return resolve(paths[lib]);\n",
       "          };\n",
       "          s.onerror = () => reject(`Error loading script: ${paths[lib]}`);\n",
       "          s.src = paths[lib];\n",
       "        });\n",
       "    }\n",
       "\n",
       "    function showError(err) {\n",
       "      outputDiv.innerHTML = `<div class=\"error\" style=\"color:red;\">${err}</div>`;\n",
       "      throw err;\n",
       "    }\n",
       "\n",
       "    function displayChart(vegaEmbed) {\n",
       "      vegaEmbed(outputDiv, spec, embedOpt)\n",
       "        .catch(err => showError(`Javascript Error: ${err.message}<br>This usually means there's a typo in your chart specification. See the javascript console for the full traceback.`));\n",
       "    }\n",
       "\n",
       "    if(typeof define === \"function\" && define.amd) {\n",
       "      requirejs.config({paths});\n",
       "      require([\"vega-embed\"], displayChart, err => showError(`Error loading script: ${err.message}`));\n",
       "    } else {\n",
       "      maybeLoadScript(\"vega\", \"5\")\n",
       "        .then(() => maybeLoadScript(\"vega-lite\", \"4.17.0\"))\n",
       "        .then(() => maybeLoadScript(\"vega-embed\", \"6\"))\n",
       "        .catch(showError)\n",
       "        .then(() => displayChart(vegaEmbed));\n",
       "    }\n",
       "  })({\"config\": {\"view\": {\"continuousWidth\": 400, \"continuousHeight\": 300}}, \"layer\": [{\"mark\": \"rect\", \"encoding\": {\"color\": {\"field\": \"tfidf\", \"type\": \"quantitative\"}, \"x\": {\"field\": \"rank\", \"type\": \"ordinal\"}, \"y\": {\"field\": \"document\", \"type\": \"nominal\"}}, \"transform\": [{\"window\": [{\"op\": \"rank\", \"field\": \"\", \"as\": \"rank\"}], \"groupby\": [\"document\"], \"sort\": [{\"field\": \"tfidf\", \"order\": \"descending\"}]}]}, {\"mark\": {\"type\": \"text\", \"baseline\": \"middle\"}, \"encoding\": {\"text\": {\"field\": \"term\", \"type\": \"nominal\"}, \"x\": {\"field\": \"rank\", \"type\": \"ordinal\"}, \"y\": {\"field\": \"document\", \"type\": \"nominal\"}}, \"transform\": [{\"window\": [{\"op\": \"rank\", \"field\": \"\", \"as\": \"rank\"}], \"groupby\": [\"document\"], \"sort\": [{\"field\": \"tfidf\", \"order\": \"descending\"}]}]}], \"data\": {\"name\": \"data-003f95e8f630b391cfe51b628468bea1\"}, \"width\": 600, \"$schema\": \"https://vega.github.io/schema/vega-lite/v4.17.0.json\", \"datasets\": {\"data-003f95e8f630b391cfe51b628468bea1\": [{\"document\": \"tel-01689242v1\", \"term\": \"rsn\", \"tfidf\": 0.3886101944586633}, {\"document\": \"tel-01689242v1\", \"term\": \"adoption\", \"tfidf\": 0.2707560821220067}, {\"document\": \"tel-01689242v1\", \"term\": \"biblioth\\u00e8ques\", \"tfidf\": 0.2635731775839145}, {\"document\": \"tel-01689242v1\", \"term\": \"biblioth\\u00e8que\", \"tfidf\": 0.26075880959254644}, {\"document\": \"tel-01689242v1\", \"term\": \"biblioth\\u00e9caires\", \"tfidf\": 0.2544965095170593}, {\"document\": \"tel-03096870v2\", \"term\": \"\\u03bbn\", \"tfidf\": 0.2727366640294542}, {\"document\": \"tel-03096870v2\", \"term\": \"c2\", \"tfidf\": 0.26867034841119486}, {\"document\": \"tel-03096870v2\", \"term\": \"tr\", \"tfidf\": 0.2526086329971757}, {\"document\": \"tel-03096870v2\", \"term\": \"h\\u2113\", \"tfidf\": 0.22423935768006714}, {\"document\": \"tel-03096870v2\", \"term\": \"zn\", \"tfidf\": 0.1869718790950409}, {\"document\": \"tel-03412908v1\", \"term\": \"03412908\", \"tfidf\": 0.4482776126401448}, {\"document\": \"tel-03412908v1\", \"term\": \"causse\", \"tfidf\": 0.298804434381423}, {\"document\": \"tel-03412908v1\", \"term\": \"corr\\u00e8ze\", \"tfidf\": 0.29888148913667545}, {\"document\": \"tel-03412908v1\", \"term\": \"karstiques\", \"tfidf\": 0.29880503102678774}, {\"document\": \"tel-03412908v1\", \"term\": \"martel\", \"tfidf\": 0.29883088798098306}, {\"document\": \"tel-03436157v1\", \"term\": \"wave\", \"tfidf\": 0.31295500126390924}, {\"document\": \"tel-03436157v1\", \"term\": \"video\", \"tfidf\": 0.2836842422050569}, {\"document\": \"tel-03436157v1\", \"term\": \"camera\", \"tfidf\": 0.23264255977097387}, {\"document\": \"tel-03436157v1\", \"term\": \"optical\", \"tfidf\": 0.2137273017779988}, {\"document\": \"tel-03436157v1\", \"term\": \"beach\", \"tfidf\": 0.18243155242607131}, {\"document\": \"tel-03436173v1\", \"term\": \"patent\", \"tfidf\": 0.3388240902894694}, {\"document\": \"tel-03436173v1\", \"term\": \"trade\", \"tfidf\": 0.2653710763433946}, {\"document\": \"tel-03436173v1\", \"term\": \"patents\", \"tfidf\": 0.2298485815001215}, {\"document\": \"tel-03436173v1\", \"term\": \"citations\", \"tfidf\": 0.2181530556772992}, {\"document\": \"tel-03436173v1\", \"term\": \"news\", \"tfidf\": 0.21610104892030124}, {\"document\": \"tel-03436335v1\", \"term\": \"s\\u00e9nescence\", \"tfidf\": 0.4187865655623767}, {\"document\": \"tel-03436335v1\", \"term\": \"vulgare\", \"tfidf\": 0.34318628219000763}, {\"document\": \"tel-03436335v1\", \"term\": \"senescence\", \"tfidf\": 0.32506482553417354}, {\"document\": \"tel-03436335v1\", \"term\": \"reproduction\", \"tfidf\": 0.25234593905039676}, {\"document\": \"tel-03436335v1\", \"term\": \"reproductive\", \"tfidf\": 0.17732998243021697}, {\"document\": \"tel-03436364v1\", \"term\": \"mode\", \"tfidf\": 0.3123844451076404}, {\"document\": \"tel-03436364v1\", \"term\": \"appariement\", \"tfidf\": 0.26993960901072256}, {\"document\": \"tel-03436364v1\", \"term\": \"mariage\", \"tfidf\": 0.2041641359949266}, {\"document\": \"tel-03436364v1\", \"term\": \"pre\", \"tfidf\": 0.17095312033158735}, {\"document\": \"tel-03436364v1\", \"term\": \"vj\", \"tfidf\": 0.17095897375195265}, {\"document\": \"tel-03436368v1\", \"term\": \"s\\u00fbret\\u00e9\", \"tfidf\": 0.73431043213839}, {\"document\": \"tel-03436368v1\", \"term\": \"culture\", \"tfidf\": 0.302366982966216}, {\"document\": \"tel-03436368v1\", \"term\": \"conduite\", \"tfidf\": 0.2141957568779023}, {\"document\": \"tel-03436368v1\", \"term\": \"nucl\\u00e9aire\", \"tfidf\": 0.14350718871643392}, {\"document\": \"tel-03436368v1\", \"term\": \"site\", \"tfidf\": 0.14186587518575658}, {\"document\": \"tel-03436372v1\", \"term\": \"p\\u00e9nal\", \"tfidf\": 0.28922995560251746}, {\"document\": \"tel-03436372v1\", \"term\": \"foucault\", \"tfidf\": 0.24288104663361265}, {\"document\": \"tel-03436372v1\", \"term\": \"prison\", \"tfidf\": 0.2268828996285479}, {\"document\": \"tel-03436372v1\", \"term\": \"qu\", \"tfidf\": 0.20155295403138987}, {\"document\": \"tel-03436372v1\", \"term\": \"pouvoir\", \"tfidf\": 0.1991662570624396}, {\"document\": \"tel-03436394v1\", \"term\": \"rl\", \"tfidf\": 0.39704685185581295}, {\"document\": \"tel-03436394v1\", \"term\": \"td\", \"tfidf\": 0.21496030704469785}, {\"document\": \"tel-03436394v1\", \"term\": \"iqu\", \"tfidf\": 0.20682630437210828}, {\"document\": \"tel-03436394v1\", \"term\": \"sl\", \"tfidf\": 0.201366565774706}, {\"document\": \"tel-03436394v1\", \"term\": \"ep\", \"tfidf\": 0.19503207934076744}, {\"document\": \"tel-03436405v1\", \"term\": \"odin\", \"tfidf\": 0.2559141489786694}, {\"document\": \"tel-03436405v1\", \"term\": \"ugtg\", \"tfidf\": 0.2539563434359849}, {\"document\": \"tel-03436405v1\", \"term\": \"guadeloupe\", \"tfidf\": 0.24367062756396726}, {\"document\": \"tel-03436405v1\", \"term\": \"militants\", \"tfidf\": 0.23526458799966538}, {\"document\": \"tel-03436405v1\", \"term\": \"travailleurs\", \"tfidf\": 0.2310617464541599}, {\"document\": \"tel-03436409v1\", \"term\": \"msa\", \"tfidf\": 0.4272876701070727}, {\"document\": \"tel-03436409v1\", \"term\": \"speech\", \"tfidf\": 0.41497318774396497}, {\"document\": \"tel-03436409v1\", \"term\": \"pd\", \"tfidf\": 0.296987990335229}, {\"document\": \"tel-03436409v1\", \"term\": \"vowel\", \"tfidf\": 0.20862540983847314}, {\"document\": \"tel-03436409v1\", \"term\": \"psp\", \"tfidf\": 0.20749912476517973}, {\"document\": \"tel-03436501v1\", \"term\": \"thermal\", \"tfidf\": 0.563390286276023}, {\"document\": \"tel-03436501v1\", \"term\": \"electronic\", \"tfidf\": 0.34724613823649597}, {\"document\": \"tel-03436501v1\", \"term\": \"correction\", \"tfidf\": 0.3449015261566759}, {\"document\": \"tel-03436501v1\", \"term\": \"energies\", \"tfidf\": 0.2903420928697626}, {\"document\": \"tel-03436501v1\", \"term\": \"sum\", \"tfidf\": 0.22031022613577653}, {\"document\": \"tel-03436527v1\", \"term\": \"contrats\", \"tfidf\": 0.43754039797425337}, {\"document\": \"tel-03436527v1\", \"term\": \"ren\\u00e9gociation\", \"tfidf\": 0.3290587255093473}, {\"document\": \"tel-03436527v1\", \"term\": \"concession\", \"tfidf\": 0.24620728151007812}, {\"document\": \"tel-03436527v1\", \"term\": \"contrat\", \"tfidf\": 0.22549323629317825}, {\"document\": \"tel-03436527v1\", \"term\": \"ren\\u00e9gociations\", \"tfidf\": 0.163998992372894}, {\"document\": \"tel-03436530v1\", \"term\": \"minority\", \"tfidf\": 0.39714976134860513}, {\"document\": \"tel-03436530v1\", \"term\": \"minorities\", \"tfidf\": 0.2350595192933992}, {\"document\": \"tel-03436530v1\", \"term\": \"manager\", \"tfidf\": 0.1984133133920248}, {\"document\": \"tel-03436530v1\", \"term\": \"managers\", \"tfidf\": 0.1972553784359737}, {\"document\": \"tel-03436530v1\", \"term\": \"jobseekers\", \"tfidf\": 0.17023602195319115}, {\"document\": \"tel-03436542v2\", \"term\": \"andra\", \"tfidf\": 0.521964751569954}, {\"document\": \"tel-03436542v2\", \"term\": \"d\\u00e9chets\", \"tfidf\": 0.32315496119939097}, {\"document\": \"tel-03436542v2\", \"term\": \"stockage\", \"tfidf\": 0.24002312868587422}, {\"document\": \"tel-03436542v2\", \"term\": \"projet\", \"tfidf\": 0.23120811393462962}, {\"document\": \"tel-03436542v2\", \"term\": \"s\\u00fbret\\u00e9\", \"tfidf\": 0.22981001905237614}, {\"document\": \"tel-03436545v1\", \"term\": \"consommation\", \"tfidf\": 0.38925095758283373}, {\"document\": \"tel-03436545v1\", \"term\": \"biens\", \"tfidf\": 0.2138068179653676}, {\"document\": \"tel-03436545v1\", \"term\": \"castes\", \"tfidf\": 0.1876507851260376}, {\"document\": \"tel-03436545v1\", \"term\": \"pr\\u00e9f\\u00e9rences\", \"tfidf\": 0.17115144118059084}, {\"document\": \"tel-03436545v1\", \"term\": \"sociale\", \"tfidf\": 0.17077450384465923}, {\"document\": \"tel-03436548v1\", \"term\": \"mongolie\", \"tfidf\": 0.5310197934928093}, {\"document\": \"tel-03436548v1\", \"term\": \"d\\u00e9veloppement\", \"tfidf\": 0.23178059927372968}, {\"document\": \"tel-03436548v1\", \"term\": \"mongoles\", \"tfidf\": 0.23080713048583132}, {\"document\": \"tel-03436548v1\", \"term\": \"\\u00e9tat\", \"tfidf\": 0.18050675885006612}, {\"document\": \"tel-03436548v1\", \"term\": \"tolgoi\", \"tfidf\": 0.16924904807062563}, {\"document\": \"tel-03436551v1\", \"term\": \"taire\", \"tfidf\": 0.39273566740007126}, {\"document\": \"tel-03436551v1\", \"term\": \"mone\", \"tfidf\": 0.3653666058293242}, {\"document\": \"tel-03436551v1\", \"term\": \"politique\", \"tfidf\": 0.3108132009870641}, {\"document\": \"tel-03436551v1\", \"term\": \"macroe\", \"tfidf\": 0.19043746178077284}, {\"document\": \"tel-03436551v1\", \"term\": \"optimale\", \"tfidf\": 0.15383856019300685}, {\"document\": \"tel-03437063v1\", \"term\": \"p53\", \"tfidf\": 0.4720110715810006}, {\"document\": \"tel-03437063v1\", \"term\": \"chikv\", \"tfidf\": 0.3317450542735988}, {\"document\": \"tel-03437063v1\", \"term\": \"infection\", \"tfidf\": 0.310243727156531}, {\"document\": \"tel-03437063v1\", \"term\": \"cells\", \"tfidf\": 0.24905402642646005}, {\"document\": \"tel-03437063v1\", \"term\": \"virus\", \"tfidf\": 0.2408960137533401}]}}, {\"mode\": \"vega-lite\"});\n",
       "</script>"
      ],
      "text/plain": [
       "alt.LayerChart(...)"
      ]
     },
     "execution_count": 95,
     "metadata": {},
     "output_type": "execute_result"
    }
   ],
   "source": [
    "# adding a little randomness to break ties in term ranking\n",
    "top_tfidf_plusRand = top_tfidf.copy()\n",
    "top_tfidf_plusRand['tfidf'] = top_tfidf_plusRand['tfidf'] + np.random.rand(top_tfidf.shape[0])*0.0001\n",
    "\n",
    "# base for all visualizations, with rank calculation\n",
    "base = alt.Chart(top_tfidf_plusRand).encode(\n",
    "    x = 'rank:O',\n",
    "    y = 'document:N'\n",
    ").transform_window(\n",
    "    rank = \"rank()\",\n",
    "    sort = [alt.SortField(\"tfidf\", order=\"descending\")],\n",
    "    groupby = [\"document\"],\n",
    ")\n",
    "# heatmap specification\n",
    "heatmap = base.mark_rect().encode(\n",
    "    color = 'tfidf:Q'\n",
    ")\n",
    "# text labels, white for darker heatmap colors\n",
    "text = base.mark_text(baseline='middle').encode(\n",
    "    text = 'term:N'\n",
    ")\n",
    "# display the three superimposed visualizations\n",
    "(heatmap  + text).properties(width = 600)"
   ]
  },
  {
   "cell_type": "markdown",
   "metadata": {},
   "source": [
    "# TFIDF on the 50 files"
   ]
  },
  {
   "cell_type": "code",
   "execution_count": 96,
   "metadata": {},
   "outputs": [],
   "source": [
    "text_titles = [Path(text).stem for text in text_files]"
   ]
  },
  {
   "cell_type": "code",
   "execution_count": 97,
   "metadata": {},
   "outputs": [],
   "source": [
    "# tfidf_vectorizer = TfidfVectorizer(input='filename',stop_words=final_stopwords_list)"
   ]
  },
  {
   "cell_type": "code",
   "execution_count": 98,
   "metadata": {},
   "outputs": [],
   "source": [
    "tfidf_vector = tfidf_vectorizer.fit_transform(text_files)"
   ]
  },
  {
   "cell_type": "code",
   "execution_count": 99,
   "metadata": {},
   "outputs": [
    {
     "data": {
      "text/plain": [
       "<50x169025 sparse matrix of type '<class 'numpy.float64'>'\n",
       "\twith 393887 stored elements in Compressed Sparse Row format>"
      ]
     },
     "execution_count": 99,
     "metadata": {},
     "output_type": "execute_result"
    }
   ],
   "source": [
    "tfidf_vector"
   ]
  },
  {
   "cell_type": "code",
   "execution_count": 100,
   "metadata": {},
   "outputs": [
    {
     "name": "stderr",
     "output_type": "stream",
     "text": [
      "H:\\Users\\Administrator\\lib\\site-packages\\sklearn\\utils\\deprecation.py:87: FutureWarning: Function get_feature_names is deprecated; get_feature_names is deprecated in 1.0 and will be removed in 1.2. Please use get_feature_names_out instead.\n",
      "  warnings.warn(msg, category=FutureWarning)\n"
     ]
    }
   ],
   "source": [
    "tfidf_df = pd.DataFrame(tfidf_vector.toarray(), index=text_titles, columns=tfidf_vectorizer.get_feature_names())\n"
   ]
  },
  {
   "cell_type": "code",
   "execution_count": 101,
   "metadata": {},
   "outputs": [],
   "source": [
    "tfidf_df.loc['00_Document Frequency'] = (tfidf_df > 0).sum()\n"
   ]
  },
  {
   "cell_type": "code",
   "execution_count": 102,
   "metadata": {},
   "outputs": [],
   "source": [
    "tfidf_df = tfidf_df.drop('00_Document Frequency', errors='ignore')\n"
   ]
  },
  {
   "cell_type": "code",
   "execution_count": 103,
   "metadata": {
    "scrolled": true
   },
   "outputs": [
    {
     "data": {
      "text/html": [
       "<div>\n",
       "<style scoped>\n",
       "    .dataframe tbody tr th:only-of-type {\n",
       "        vertical-align: middle;\n",
       "    }\n",
       "\n",
       "    .dataframe tbody tr th {\n",
       "        vertical-align: top;\n",
       "    }\n",
       "\n",
       "    .dataframe thead th {\n",
       "        text-align: right;\n",
       "    }\n",
       "</style>\n",
       "<table border=\"1\" class=\"dataframe\">\n",
       "  <thead>\n",
       "    <tr style=\"text-align: right;\">\n",
       "      <th></th>\n",
       "      <th>level_0</th>\n",
       "      <th>level_1</th>\n",
       "      <th>0</th>\n",
       "    </tr>\n",
       "  </thead>\n",
       "  <tbody>\n",
       "    <tr>\n",
       "      <th>0</th>\n",
       "      <td>tel-01689242v1</td>\n",
       "      <td>00</td>\n",
       "      <td>0.003609</td>\n",
       "    </tr>\n",
       "    <tr>\n",
       "      <th>1</th>\n",
       "      <td>tel-01689242v1</td>\n",
       "      <td>000</td>\n",
       "      <td>0.051141</td>\n",
       "    </tr>\n",
       "    <tr>\n",
       "      <th>2</th>\n",
       "      <td>tel-01689242v1</td>\n",
       "      <td>0000</td>\n",
       "      <td>0.000000</td>\n",
       "    </tr>\n",
       "    <tr>\n",
       "      <th>3</th>\n",
       "      <td>tel-01689242v1</td>\n",
       "      <td>00000</td>\n",
       "      <td>0.000000</td>\n",
       "    </tr>\n",
       "    <tr>\n",
       "      <th>4</th>\n",
       "      <td>tel-01689242v1</td>\n",
       "      <td>0000000000000097</td>\n",
       "      <td>0.000000</td>\n",
       "    </tr>\n",
       "  </tbody>\n",
       "</table>\n",
       "</div>"
      ],
      "text/plain": [
       "          level_0           level_1         0\n",
       "0  tel-01689242v1                00  0.003609\n",
       "1  tel-01689242v1               000  0.051141\n",
       "2  tel-01689242v1              0000  0.000000\n",
       "3  tel-01689242v1             00000  0.000000\n",
       "4  tel-01689242v1  0000000000000097  0.000000"
      ]
     },
     "execution_count": 103,
     "metadata": {},
     "output_type": "execute_result"
    }
   ],
   "source": [
    "tfidf_df.stack().reset_index().head()\n"
   ]
  },
  {
   "cell_type": "code",
   "execution_count": 104,
   "metadata": {},
   "outputs": [],
   "source": [
    "tfidf_df = tfidf_df.stack().reset_index()\n"
   ]
  },
  {
   "cell_type": "code",
   "execution_count": 105,
   "metadata": {},
   "outputs": [],
   "source": [
    "tfidf_df = tfidf_df.rename(columns={0:'tfidf', 'level_0': 'document','level_1': 'term', 'level_2': 'term'})\n"
   ]
  },
  {
   "cell_type": "code",
   "execution_count": 106,
   "metadata": {
    "scrolled": false
   },
   "outputs": [
    {
     "data": {
      "text/plain": [
       "<pandas.core.groupby.generic.DataFrameGroupBy object at 0x000002500AFCDAC0>"
      ]
     },
     "execution_count": 106,
     "metadata": {},
     "output_type": "execute_result"
    }
   ],
   "source": [
    "tfidf_df.sort_values(by=['document','tfidf'], ascending=[True,False]).groupby(['document'])\n"
   ]
  },
  {
   "cell_type": "code",
   "execution_count": 107,
   "metadata": {
    "scrolled": false
   },
   "outputs": [],
   "source": [
    "top_tfidf= tfidf_df.sort_values(by=['document','tfidf'], ascending=[True,False]).groupby(['document']).head(5)"
   ]
  },
  {
   "cell_type": "code",
   "execution_count": 108,
   "metadata": {
    "scrolled": false
   },
   "outputs": [
    {
     "data": {
      "text/html": [
       "<div>\n",
       "<style scoped>\n",
       "    .dataframe tbody tr th:only-of-type {\n",
       "        vertical-align: middle;\n",
       "    }\n",
       "\n",
       "    .dataframe tbody tr th {\n",
       "        vertical-align: top;\n",
       "    }\n",
       "\n",
       "    .dataframe thead th {\n",
       "        text-align: right;\n",
       "    }\n",
       "</style>\n",
       "<table border=\"1\" class=\"dataframe\">\n",
       "  <thead>\n",
       "    <tr style=\"text-align: right;\">\n",
       "      <th></th>\n",
       "      <th>document</th>\n",
       "      <th>term</th>\n",
       "      <th>tfidf</th>\n",
       "    </tr>\n",
       "  </thead>\n",
       "  <tbody>\n",
       "    <tr>\n",
       "      <th>132350</th>\n",
       "      <td>tel-01689242v1</td>\n",
       "      <td>rsn</td>\n",
       "      <td>0.446087</td>\n",
       "    </tr>\n",
       "    <tr>\n",
       "      <th>28500</th>\n",
       "      <td>tel-01689242v1</td>\n",
       "      <td>bibliothèques</td>\n",
       "      <td>0.290581</td>\n",
       "    </tr>\n",
       "    <tr>\n",
       "      <th>28502</th>\n",
       "      <td>tel-01689242v1</td>\n",
       "      <td>bibliothécaires</td>\n",
       "      <td>0.283913</td>\n",
       "    </tr>\n",
       "    <tr>\n",
       "      <th>15727</th>\n",
       "      <td>tel-01689242v1</td>\n",
       "      <td>adoption</td>\n",
       "      <td>0.272461</td>\n",
       "    </tr>\n",
       "    <tr>\n",
       "      <th>28499</th>\n",
       "      <td>tel-01689242v1</td>\n",
       "      <td>bibliothèque</td>\n",
       "      <td>0.248328</td>\n",
       "    </tr>\n",
       "    <tr>\n",
       "      <th>335996</th>\n",
       "      <td>tel-03096870v2</td>\n",
       "      <td>λn</td>\n",
       "      <td>0.319893</td>\n",
       "    </tr>\n",
       "    <tr>\n",
       "      <th>248615</th>\n",
       "      <td>tel-03096870v2</td>\n",
       "      <td>hℓ</td>\n",
       "      <td>0.262949</td>\n",
       "    </tr>\n",
       "    <tr>\n",
       "      <th>271434</th>\n",
       "      <td>tel-03096870v2</td>\n",
       "      <td>mills</td>\n",
       "      <td>0.209684</td>\n",
       "    </tr>\n",
       "    <tr>\n",
       "      <th>321595</th>\n",
       "      <td>tel-03096870v2</td>\n",
       "      <td>tr</td>\n",
       "      <td>0.190259</td>\n",
       "    </tr>\n",
       "    <tr>\n",
       "      <th>200666</th>\n",
       "      <td>tel-03096870v2</td>\n",
       "      <td>c2</td>\n",
       "      <td>0.188038</td>\n",
       "    </tr>\n",
       "    <tr>\n",
       "      <th>339196</th>\n",
       "      <td>tel-03412908v1</td>\n",
       "      <td>03412908</td>\n",
       "      <td>0.477923</td>\n",
       "    </tr>\n",
       "    <tr>\n",
       "      <th>371747</th>\n",
       "      <td>tel-03412908v1</td>\n",
       "      <td>causse</td>\n",
       "      <td>0.318616</td>\n",
       "    </tr>\n",
       "    <tr>\n",
       "      <th>429319</th>\n",
       "      <td>tel-03412908v1</td>\n",
       "      <td>karstiques</td>\n",
       "      <td>0.318616</td>\n",
       "    </tr>\n",
       "    <tr>\n",
       "      <th>360221</th>\n",
       "      <td>tel-03412908v1</td>\n",
       "      <td>aquifères</td>\n",
       "      <td>0.288137</td>\n",
       "    </tr>\n",
       "    <tr>\n",
       "      <th>382288</th>\n",
       "      <td>tel-03412908v1</td>\n",
       "      <td>corrèze</td>\n",
       "      <td>0.288137</td>\n",
       "    </tr>\n",
       "  </tbody>\n",
       "</table>\n",
       "</div>"
      ],
      "text/plain": [
       "              document             term     tfidf\n",
       "132350  tel-01689242v1              rsn  0.446087\n",
       "28500   tel-01689242v1    bibliothèques  0.290581\n",
       "28502   tel-01689242v1  bibliothécaires  0.283913\n",
       "15727   tel-01689242v1         adoption  0.272461\n",
       "28499   tel-01689242v1     bibliothèque  0.248328\n",
       "335996  tel-03096870v2               λn  0.319893\n",
       "248615  tel-03096870v2               hℓ  0.262949\n",
       "271434  tel-03096870v2            mills  0.209684\n",
       "321595  tel-03096870v2               tr  0.190259\n",
       "200666  tel-03096870v2               c2  0.188038\n",
       "339196  tel-03412908v1         03412908  0.477923\n",
       "371747  tel-03412908v1           causse  0.318616\n",
       "429319  tel-03412908v1       karstiques  0.318616\n",
       "360221  tel-03412908v1        aquifères  0.288137\n",
       "382288  tel-03412908v1          corrèze  0.288137"
      ]
     },
     "execution_count": 108,
     "metadata": {},
     "output_type": "execute_result"
    }
   ],
   "source": [
    "(top_tfidf).head(15)\n"
   ]
  },
  {
   "cell_type": "code",
   "execution_count": 109,
   "metadata": {
    "scrolled": false
   },
   "outputs": [
    {
     "data": {
      "text/html": [
       "<div>\n",
       "<style scoped>\n",
       "    .dataframe tbody tr th:only-of-type {\n",
       "        vertical-align: middle;\n",
       "    }\n",
       "\n",
       "    .dataframe tbody tr th {\n",
       "        vertical-align: top;\n",
       "    }\n",
       "\n",
       "    .dataframe thead th {\n",
       "        text-align: right;\n",
       "    }\n",
       "</style>\n",
       "<table border=\"1\" class=\"dataframe\">\n",
       "  <thead>\n",
       "    <tr style=\"text-align: right;\">\n",
       "      <th></th>\n",
       "      <th>document</th>\n",
       "      <th>Title</th>\n",
       "      <th>term</th>\n",
       "      <th>tfidf</th>\n",
       "    </tr>\n",
       "  </thead>\n",
       "  <tbody>\n",
       "    <tr>\n",
       "      <th>0</th>\n",
       "      <td>tel-01689242v1</td>\n",
       "      <td>Determinants of the professional adoption of d...</td>\n",
       "      <td>rsn</td>\n",
       "      <td>0.446087</td>\n",
       "    </tr>\n",
       "    <tr>\n",
       "      <th>1</th>\n",
       "      <td>tel-01689242v1</td>\n",
       "      <td>Determinants of the professional adoption of d...</td>\n",
       "      <td>bibliothèques</td>\n",
       "      <td>0.290581</td>\n",
       "    </tr>\n",
       "    <tr>\n",
       "      <th>2</th>\n",
       "      <td>tel-01689242v1</td>\n",
       "      <td>Determinants of the professional adoption of d...</td>\n",
       "      <td>bibliothécaires</td>\n",
       "      <td>0.283913</td>\n",
       "    </tr>\n",
       "    <tr>\n",
       "      <th>3</th>\n",
       "      <td>tel-01689242v1</td>\n",
       "      <td>Determinants of the professional adoption of d...</td>\n",
       "      <td>adoption</td>\n",
       "      <td>0.272461</td>\n",
       "    </tr>\n",
       "    <tr>\n",
       "      <th>4</th>\n",
       "      <td>tel-01689242v1</td>\n",
       "      <td>Determinants of the professional adoption of d...</td>\n",
       "      <td>bibliothèque</td>\n",
       "      <td>0.248328</td>\n",
       "    </tr>\n",
       "    <tr>\n",
       "      <th>5</th>\n",
       "      <td>tel-03096870v2</td>\n",
       "      <td>Asymptotic representation theory and applicati...</td>\n",
       "      <td>λn</td>\n",
       "      <td>0.319893</td>\n",
       "    </tr>\n",
       "    <tr>\n",
       "      <th>6</th>\n",
       "      <td>tel-03096870v2</td>\n",
       "      <td>Asymptotic representation theory and applicati...</td>\n",
       "      <td>hℓ</td>\n",
       "      <td>0.262949</td>\n",
       "    </tr>\n",
       "    <tr>\n",
       "      <th>7</th>\n",
       "      <td>tel-03096870v2</td>\n",
       "      <td>Asymptotic representation theory and applicati...</td>\n",
       "      <td>mills</td>\n",
       "      <td>0.209684</td>\n",
       "    </tr>\n",
       "    <tr>\n",
       "      <th>8</th>\n",
       "      <td>tel-03096870v2</td>\n",
       "      <td>Asymptotic representation theory and applicati...</td>\n",
       "      <td>tr</td>\n",
       "      <td>0.190259</td>\n",
       "    </tr>\n",
       "    <tr>\n",
       "      <th>9</th>\n",
       "      <td>tel-03096870v2</td>\n",
       "      <td>Asymptotic representation theory and applicati...</td>\n",
       "      <td>c2</td>\n",
       "      <td>0.188038</td>\n",
       "    </tr>\n",
       "    <tr>\n",
       "      <th>10</th>\n",
       "      <td>tel-03412908v1</td>\n",
       "      <td>Structure, fonctionnement et évolution de deux...</td>\n",
       "      <td>03412908</td>\n",
       "      <td>0.477923</td>\n",
       "    </tr>\n",
       "    <tr>\n",
       "      <th>11</th>\n",
       "      <td>tel-03412908v1</td>\n",
       "      <td>Structure, fonctionnement et évolution de deux...</td>\n",
       "      <td>causse</td>\n",
       "      <td>0.318616</td>\n",
       "    </tr>\n",
       "    <tr>\n",
       "      <th>12</th>\n",
       "      <td>tel-03412908v1</td>\n",
       "      <td>Structure, fonctionnement et évolution de deux...</td>\n",
       "      <td>karstiques</td>\n",
       "      <td>0.318616</td>\n",
       "    </tr>\n",
       "    <tr>\n",
       "      <th>13</th>\n",
       "      <td>tel-03412908v1</td>\n",
       "      <td>Structure, fonctionnement et évolution de deux...</td>\n",
       "      <td>aquifères</td>\n",
       "      <td>0.288137</td>\n",
       "    </tr>\n",
       "    <tr>\n",
       "      <th>14</th>\n",
       "      <td>tel-03412908v1</td>\n",
       "      <td>Structure, fonctionnement et évolution de deux...</td>\n",
       "      <td>corrèze</td>\n",
       "      <td>0.288137</td>\n",
       "    </tr>\n",
       "  </tbody>\n",
       "</table>\n",
       "</div>"
      ],
      "text/plain": [
       "          document                                              Title  \\\n",
       "0   tel-01689242v1  Determinants of the professional adoption of d...   \n",
       "1   tel-01689242v1  Determinants of the professional adoption of d...   \n",
       "2   tel-01689242v1  Determinants of the professional adoption of d...   \n",
       "3   tel-01689242v1  Determinants of the professional adoption of d...   \n",
       "4   tel-01689242v1  Determinants of the professional adoption of d...   \n",
       "5   tel-03096870v2  Asymptotic representation theory and applicati...   \n",
       "6   tel-03096870v2  Asymptotic representation theory and applicati...   \n",
       "7   tel-03096870v2  Asymptotic representation theory and applicati...   \n",
       "8   tel-03096870v2  Asymptotic representation theory and applicati...   \n",
       "9   tel-03096870v2  Asymptotic representation theory and applicati...   \n",
       "10  tel-03412908v1  Structure, fonctionnement et évolution de deux...   \n",
       "11  tel-03412908v1  Structure, fonctionnement et évolution de deux...   \n",
       "12  tel-03412908v1  Structure, fonctionnement et évolution de deux...   \n",
       "13  tel-03412908v1  Structure, fonctionnement et évolution de deux...   \n",
       "14  tel-03412908v1  Structure, fonctionnement et évolution de deux...   \n",
       "\n",
       "               term     tfidf  \n",
       "0               rsn  0.446087  \n",
       "1     bibliothèques  0.290581  \n",
       "2   bibliothécaires  0.283913  \n",
       "3          adoption  0.272461  \n",
       "4      bibliothèque  0.248328  \n",
       "5                λn  0.319893  \n",
       "6                hℓ  0.262949  \n",
       "7             mills  0.209684  \n",
       "8                tr  0.190259  \n",
       "9                c2  0.188038  \n",
       "10         03412908  0.477923  \n",
       "11           causse  0.318616  \n",
       "12       karstiques  0.318616  \n",
       "13        aquifères  0.288137  \n",
       "14          corrèze  0.288137  "
      ]
     },
     "execution_count": 109,
     "metadata": {},
     "output_type": "execute_result"
    }
   ],
   "source": [
    "pd.merge(top_tfidf,langs[['File Name','Title']],left_on='document',right_on='File Name')[['document','Title','term','tfidf']].head(15)"
   ]
  },
  {
   "cell_type": "code",
   "execution_count": 110,
   "metadata": {},
   "outputs": [
    {
     "data": {
      "text/plain": [
       "(8451250, 3)"
      ]
     },
     "execution_count": 110,
     "metadata": {},
     "output_type": "execute_result"
    }
   ],
   "source": [
    "tfidf_df.shape"
   ]
  },
  {
   "cell_type": "code",
   "execution_count": 112,
   "metadata": {},
   "outputs": [
    {
     "data": {
      "text/html": [
       "\n",
       "<div id=\"altair-viz-46688c5a47094b3c905897407128ccad\"></div>\n",
       "<script type=\"text/javascript\">\n",
       "  var VEGA_DEBUG = (typeof VEGA_DEBUG == \"undefined\") ? {} : VEGA_DEBUG;\n",
       "  (function(spec, embedOpt){\n",
       "    let outputDiv = document.currentScript.previousElementSibling;\n",
       "    if (outputDiv.id !== \"altair-viz-46688c5a47094b3c905897407128ccad\") {\n",
       "      outputDiv = document.getElementById(\"altair-viz-46688c5a47094b3c905897407128ccad\");\n",
       "    }\n",
       "    const paths = {\n",
       "      \"vega\": \"https://cdn.jsdelivr.net/npm//vega@5?noext\",\n",
       "      \"vega-lib\": \"https://cdn.jsdelivr.net/npm//vega-lib?noext\",\n",
       "      \"vega-lite\": \"https://cdn.jsdelivr.net/npm//vega-lite@4.17.0?noext\",\n",
       "      \"vega-embed\": \"https://cdn.jsdelivr.net/npm//vega-embed@6?noext\",\n",
       "    };\n",
       "\n",
       "    function maybeLoadScript(lib, version) {\n",
       "      var key = `${lib.replace(\"-\", \"\")}_version`;\n",
       "      return (VEGA_DEBUG[key] == version) ?\n",
       "        Promise.resolve(paths[lib]) :\n",
       "        new Promise(function(resolve, reject) {\n",
       "          var s = document.createElement('script');\n",
       "          document.getElementsByTagName(\"head\")[0].appendChild(s);\n",
       "          s.async = true;\n",
       "          s.onload = () => {\n",
       "            VEGA_DEBUG[key] = version;\n",
       "            return resolve(paths[lib]);\n",
       "          };\n",
       "          s.onerror = () => reject(`Error loading script: ${paths[lib]}`);\n",
       "          s.src = paths[lib];\n",
       "        });\n",
       "    }\n",
       "\n",
       "    function showError(err) {\n",
       "      outputDiv.innerHTML = `<div class=\"error\" style=\"color:red;\">${err}</div>`;\n",
       "      throw err;\n",
       "    }\n",
       "\n",
       "    function displayChart(vegaEmbed) {\n",
       "      vegaEmbed(outputDiv, spec, embedOpt)\n",
       "        .catch(err => showError(`Javascript Error: ${err.message}<br>This usually means there's a typo in your chart specification. See the javascript console for the full traceback.`));\n",
       "    }\n",
       "\n",
       "    if(typeof define === \"function\" && define.amd) {\n",
       "      requirejs.config({paths});\n",
       "      require([\"vega-embed\"], displayChart, err => showError(`Error loading script: ${err.message}`));\n",
       "    } else {\n",
       "      maybeLoadScript(\"vega\", \"5\")\n",
       "        .then(() => maybeLoadScript(\"vega-lite\", \"4.17.0\"))\n",
       "        .then(() => maybeLoadScript(\"vega-embed\", \"6\"))\n",
       "        .catch(showError)\n",
       "        .then(() => displayChart(vegaEmbed));\n",
       "    }\n",
       "  })({\"config\": {\"view\": {\"continuousWidth\": 400, \"continuousHeight\": 300}}, \"layer\": [{\"mark\": \"rect\", \"encoding\": {\"color\": {\"field\": \"tfidf\", \"type\": \"quantitative\"}, \"x\": {\"field\": \"rank\", \"type\": \"ordinal\"}, \"y\": {\"field\": \"document\", \"type\": \"nominal\"}}, \"transform\": [{\"window\": [{\"op\": \"rank\", \"field\": \"\", \"as\": \"rank\"}], \"groupby\": [\"document\"], \"sort\": [{\"field\": \"tfidf\", \"order\": \"descending\"}]}]}, {\"mark\": {\"type\": \"text\", \"baseline\": \"middle\"}, \"encoding\": {\"text\": {\"field\": \"term\", \"type\": \"nominal\"}, \"x\": {\"field\": \"rank\", \"type\": \"ordinal\"}, \"y\": {\"field\": \"document\", \"type\": \"nominal\"}}, \"transform\": [{\"window\": [{\"op\": \"rank\", \"field\": \"\", \"as\": \"rank\"}], \"groupby\": [\"document\"], \"sort\": [{\"field\": \"tfidf\", \"order\": \"descending\"}]}]}], \"data\": {\"name\": \"data-dc493d68bf3c8bcd66dc1b6b9a574d89\"}, \"width\": 600, \"$schema\": \"https://vega.github.io/schema/vega-lite/v4.17.0.json\", \"datasets\": {\"data-dc493d68bf3c8bcd66dc1b6b9a574d89\": [{\"document\": \"tel-01689242v1\", \"term\": \"rsn\", \"tfidf\": 0.446094012384191}, {\"document\": \"tel-01689242v1\", \"term\": \"biblioth\\u00e8ques\", \"tfidf\": 0.2905825578858523}, {\"document\": \"tel-01689242v1\", \"term\": \"biblioth\\u00e9caires\", \"tfidf\": 0.2840098255406209}, {\"document\": \"tel-01689242v1\", \"term\": \"adoption\", \"tfidf\": 0.27246666471699893}, {\"document\": \"tel-01689242v1\", \"term\": \"biblioth\\u00e8que\", \"tfidf\": 0.24834383240711153}, {\"document\": \"tel-03096870v2\", \"term\": \"\\u03bbn\", \"tfidf\": 0.3199308419799086}, {\"document\": \"tel-03096870v2\", \"term\": \"h\\u2113\", \"tfidf\": 0.2629828952197553}, {\"document\": \"tel-03096870v2\", \"term\": \"mills\", \"tfidf\": 0.20973763190077607}, {\"document\": \"tel-03096870v2\", \"term\": \"tr\", \"tfidf\": 0.19032358601549212}, {\"document\": \"tel-03096870v2\", \"term\": \"c2\", \"tfidf\": 0.18810857666317068}, {\"document\": \"tel-03412908v1\", \"term\": \"03412908\", \"tfidf\": 0.47795750200583853}, {\"document\": \"tel-03412908v1\", \"term\": \"causse\", \"tfidf\": 0.3186185326946545}, {\"document\": \"tel-03412908v1\", \"term\": \"karstiques\", \"tfidf\": 0.31870379981826735}, {\"document\": \"tel-03412908v1\", \"term\": \"aquif\\u00e8res\", \"tfidf\": 0.28819023181714987}, {\"document\": \"tel-03412908v1\", \"term\": \"corr\\u00e8ze\", \"tfidf\": 0.28821265548656055}, {\"document\": \"tel-03436157v1\", \"term\": \"wave\", \"tfidf\": 0.28515810858735496}, {\"document\": \"tel-03436157v1\", \"term\": \"video\", \"tfidf\": 0.2782542753859131}, {\"document\": \"tel-03436157v1\", \"term\": \"beach\", \"tfidf\": 0.22965871705682586}, {\"document\": \"tel-03436157v1\", \"term\": \"camera\", \"tfidf\": 0.20059532443034087}, {\"document\": \"tel-03436157v1\", \"term\": \"cbathy\", \"tfidf\": 0.20007992625368518}, {\"document\": \"tel-03436173v1\", \"term\": \"patent\", \"tfidf\": 0.3424734139660465}, {\"document\": \"tel-03436173v1\", \"term\": \"trade\", \"tfidf\": 0.27788743715084857}, {\"document\": \"tel-03436173v1\", \"term\": \"citations\", \"tfidf\": 0.27227243973485943}, {\"document\": \"tel-03436173v1\", \"term\": \"patents\", \"tfidf\": 0.2146694430562035}, {\"document\": \"tel-03436173v1\", \"term\": \"news\", \"tfidf\": 0.20715170300188718}, {\"document\": \"tel-03436335v1\", \"term\": \"s\\u00e9nescence\", \"tfidf\": 0.45567359229385673}, {\"document\": \"tel-03436335v1\", \"term\": \"vulgare\", \"tfidf\": 0.3733851750006633}, {\"document\": \"tel-03436335v1\", \"term\": \"senescence\", \"tfidf\": 0.3638642368209199}, {\"document\": \"tel-03436335v1\", \"term\": \"reproduction\", \"tfidf\": 0.1967549255977338}, {\"document\": \"tel-03436335v1\", \"term\": \"sperm\", \"tfidf\": 0.17681996612295636}, {\"document\": \"tel-03436364v1\", \"term\": \"mode\", \"tfidf\": 0.27685400611595984}, {\"document\": \"tel-03436364v1\", \"term\": \"appariement\", \"tfidf\": 0.2671826552345431}, {\"document\": \"tel-03436364v1\", \"term\": \"utilite\", \"tfidf\": 0.20291692216915735}, {\"document\": \"tel-03436364v1\", \"term\": \"mariage\", \"tfidf\": 0.18242495924015145}, {\"document\": \"tel-03436364v1\", \"term\": \"galite\", \"tfidf\": 0.17129632020926105}, {\"document\": \"tel-03436368v1\", \"term\": \"s\\u00fbret\\u00e9\", \"tfidf\": 0.7626359555712884}, {\"document\": \"tel-03436368v1\", \"term\": \"culture\", \"tfidf\": 0.27488576223259376}, {\"document\": \"tel-03436368v1\", \"term\": \"conduite\", \"tfidf\": 0.215741862216273}, {\"document\": \"tel-03436368v1\", \"term\": \"nucl\\u00e9aire\", \"tfidf\": 0.13243038604562946}, {\"document\": \"tel-03436368v1\", \"term\": \"santana\", \"tfidf\": 0.12732477414069313}, {\"document\": \"tel-03436372v1\", \"term\": \"p\\u00e9nal\", \"tfidf\": 0.3166161991960664}, {\"document\": \"tel-03436372v1\", \"term\": \"prison\", \"tfidf\": 0.243745461380257}, {\"document\": \"tel-03436372v1\", \"term\": \"foucault\", \"tfidf\": 0.20702216577739532}, {\"document\": \"tel-03436372v1\", \"term\": \"r\\u00e9insertion\", \"tfidf\": 0.1818217121529292}, {\"document\": \"tel-03436372v1\", \"term\": \"disciplinaire\", \"tfidf\": 0.17582264553993263}, {\"document\": \"tel-03436394v1\", \"term\": \"rl\", \"tfidf\": 0.31983296197259664}, {\"document\": \"tel-03436394v1\", \"term\": \"efu\", \"tfidf\": 0.2263583026336239}, {\"document\": \"tel-03436394v1\", \"term\": \"iqu\", \"tfidf\": 0.2238511570146193}, {\"document\": \"tel-03436394v1\", \"term\": \"td\", \"tfidf\": 0.2061976196236294}, {\"document\": \"tel-03436394v1\", \"term\": \"sl\", \"tfidf\": 0.1931171973059337}, {\"document\": \"tel-03436405v1\", \"term\": \"odin\", \"tfidf\": 0.2756418343322131}, {\"document\": \"tel-03436405v1\", \"term\": \"ugtg\", \"tfidf\": 0.27350042279507863}, {\"document\": \"tel-03436405v1\", \"term\": \"militants\", \"tfidf\": 0.2582264279389073}, {\"document\": \"tel-03436405v1\", \"term\": \"guadeloupe\", \"tfidf\": 0.2373250201507102}, {\"document\": \"tel-03436405v1\", \"term\": \"travailleurs\", \"tfidf\": 0.23690725546257374}, {\"document\": \"tel-03436409v1\", \"term\": \"msa\", \"tfidf\": 0.43163841256269836}, {\"document\": \"tel-03436409v1\", \"term\": \"speech\", \"tfidf\": 0.3986113362856547}, {\"document\": \"tel-03436409v1\", \"term\": \"psp\", \"tfidf\": 0.2558933328057331}, {\"document\": \"tel-03436409v1\", \"term\": \"pd\", \"tfidf\": 0.24278292841763116}, {\"document\": \"tel-03436409v1\", \"term\": \"vowel\", \"tfidf\": 0.22618435582436006}, {\"document\": \"tel-03436501v1\", \"term\": \"thermal\", \"tfidf\": 0.5160871090588034}, {\"document\": \"tel-03436501v1\", \"term\": \"correction\", \"tfidf\": 0.32474990272383475}, {\"document\": \"tel-03436501v1\", \"term\": \"energies\", \"tfidf\": 0.3171411121402392}, {\"document\": \"tel-03436501v1\", \"term\": \"electronic\", \"tfidf\": 0.28586584319792424}, {\"document\": \"tel-03436501v1\", \"term\": \"sum\", \"tfidf\": 0.23992078728283478}, {\"document\": \"tel-03436527v1\", \"term\": \"contrats\", \"tfidf\": 0.4246185311836453}, {\"document\": \"tel-03436527v1\", \"term\": \"ren\\u00e9gociation\", \"tfidf\": 0.35484811962686424}, {\"document\": \"tel-03436527v1\", \"term\": \"concession\", \"tfidf\": 0.2738473082761585}, {\"document\": \"tel-03436527v1\", \"term\": \"contrat\", \"tfidf\": 0.21372590045966935}, {\"document\": \"tel-03436527v1\", \"term\": \"ren\\u00e9gociations\", \"tfidf\": 0.18410265700653403}, {\"document\": \"tel-03436530v1\", \"term\": \"minority\", \"tfidf\": 0.4263212455330143}, {\"document\": \"tel-03436530v1\", \"term\": \"minorities\", \"tfidf\": 0.2651542651529507}, {\"document\": \"tel-03436530v1\", \"term\": \"manager\", \"tfidf\": 0.21314330896580966}, {\"document\": \"tel-03436530v1\", \"term\": \"managers\", \"tfidf\": 0.19759702441488539}, {\"document\": \"tel-03436530v1\", \"term\": \"jobseekers\", \"tfidf\": 0.1920022247339147}, {\"document\": \"tel-03436542v2\", \"term\": \"andra\", \"tfidf\": 0.5478420148705498}, {\"document\": \"tel-03436542v2\", \"term\": \"d\\u00e9chets\", \"tfidf\": 0.36345620360059083}, {\"document\": \"tel-03436542v2\", \"term\": \"s\\u00fbret\\u00e9\", \"tfidf\": 0.23477940028568495}, {\"document\": \"tel-03436542v2\", \"term\": \"projet\", \"tfidf\": 0.20037430463266237}, {\"document\": \"tel-03436542v2\", \"term\": \"stockage\", \"tfidf\": 0.1927824426962781}, {\"document\": \"tel-03436545v1\", \"term\": \"consommation\", \"tfidf\": 0.35940069256192153}, {\"document\": \"tel-03436545v1\", \"term\": \"biens\", \"tfidf\": 0.24704753974270172}, {\"document\": \"tel-03436545v1\", \"term\": \"castes\", \"tfidf\": 0.21517118425168966}, {\"document\": \"tel-03436545v1\", \"term\": \"pr\\u00e9f\\u00e9rences\", \"tfidf\": 0.18299708785588586}, {\"document\": \"tel-03436545v1\", \"term\": \"m\\u00e9nages\", \"tfidf\": 0.15593604600227642}, {\"document\": \"tel-03436548v1\", \"term\": \"mongolie\", \"tfidf\": 0.5422314376397197}, {\"document\": \"tel-03436548v1\", \"term\": \"mongoles\", \"tfidf\": 0.235591502064922}, {\"document\": \"tel-03436548v1\", \"term\": \"d\\u00e9veloppement\", \"tfidf\": 0.2159076818206626}, {\"document\": \"tel-03436548v1\", \"term\": \"tolgoi\", \"tfidf\": 0.19110222252645442}, {\"document\": \"tel-03436548v1\", \"term\": \"autorit\\u00e9s\", \"tfidf\": 0.16997237544352545}, {\"document\": \"tel-03436551v1\", \"term\": \"mone\", \"tfidf\": 0.39305287259824323}, {\"document\": \"tel-03436551v1\", \"term\": \"taire\", \"tfidf\": 0.37957498255825317}, {\"document\": \"tel-03436551v1\", \"term\": \"politique\", \"tfidf\": 0.29907640394044843}, {\"document\": \"tel-03436551v1\", \"term\": \"macroe\", \"tfidf\": 0.18747568817476773}, {\"document\": \"tel-03436551v1\", \"term\": \"conomique\", \"tfidf\": 0.1554799146580397}, {\"document\": \"tel-03437063v1\", \"term\": \"p53\", \"tfidf\": 0.5297207097818138}, {\"document\": \"tel-03437063v1\", \"term\": \"chikv\", \"tfidf\": 0.3619672936551151}, {\"document\": \"tel-03437063v1\", \"term\": \"infection\", \"tfidf\": 0.30177585574345545}, {\"document\": \"tel-03437063v1\", \"term\": \"viral\", \"tfidf\": 0.24705949932799826}, {\"document\": \"tel-03437063v1\", \"term\": \"cells\", \"tfidf\": 0.21204750939631328}, {\"document\": \"tel-03437096v1\", \"term\": \"patient\", \"tfidf\": 0.5363846076883916}, {\"document\": \"tel-03437096v1\", \"term\": \"real\", \"tfidf\": 0.2788163703132245}, {\"document\": \"tel-03437096v1\", \"term\": \"virtual\", \"tfidf\": 0.2430585012238456}, {\"document\": \"tel-03437096v1\", \"term\": \"dt\", \"tfidf\": 0.22166030635896783}, {\"document\": \"tel-03437096v1\", \"term\": \"dtm\", \"tfidf\": 0.21385317022383205}, {\"document\": \"tel-03437282v1\", \"term\": \"framing\", \"tfidf\": 0.5157867338909091}, {\"document\": \"tel-03437282v1\", \"term\": \"sanctions\", \"tfidf\": 0.2804697341461981}, {\"document\": \"tel-03437282v1\", \"term\": \"symbolic\", \"tfidf\": 0.2306482152457083}, {\"document\": \"tel-03437282v1\", \"term\": \"sanction\", \"tfidf\": 0.1843805831184646}, {\"document\": \"tel-03437282v1\", \"term\": \"subjects\", \"tfidf\": 0.18247960544498026}, {\"document\": \"tel-03437572v1\", \"term\": \"cpz\", \"tfidf\": 0.5892849756262161}, {\"document\": \"tel-03437572v1\", \"term\": \"liposomes\", \"tfidf\": 0.41151111747818137}, {\"document\": \"tel-03437572v1\", \"term\": \"cd\", \"tfidf\": 0.33115453071452067}, {\"document\": \"tel-03437572v1\", \"term\": \"drug\", \"tfidf\": 0.18230146274197886}, {\"document\": \"tel-03437572v1\", \"term\": \"drv\", \"tfidf\": 0.17168177141570193}, {\"document\": \"tel-03437573v1\", \"term\": \"ch2\", \"tfidf\": 0.28508040098096743}, {\"document\": \"tel-03437573v1\", \"term\": \"fatty\", \"tfidf\": 0.25486708965165694}, {\"document\": \"tel-03437573v1\", \"term\": \"cleavage\", \"tfidf\": 0.20963563002742663}, {\"document\": \"tel-03437573v1\", \"term\": \"catalyst\", \"tfidf\": 0.2008407259136637}, {\"document\": \"tel-03437573v1\", \"term\": \"aldehydes\", \"tfidf\": 0.2004499408347298}, {\"document\": \"tel-03437616v1\", \"term\": \"sepsis\", \"tfidf\": 0.47182904134562115}, {\"document\": \"tel-03437616v1\", \"term\": \"lactate\", \"tfidf\": 0.35702154424254756}, {\"document\": \"tel-03437616v1\", \"term\": \"vegf\", \"tfidf\": 0.2401982386279276}, {\"document\": \"tel-03437616v1\", \"term\": \"patients\", \"tfidf\": 0.1851279852865567}, {\"document\": \"tel-03437616v1\", \"term\": \"inflammatoire\", \"tfidf\": 0.133940280618107}, {\"document\": \"tel-03438100v1\", \"term\": \"amazonie\", \"tfidf\": 0.4291324067902418}, {\"document\": \"tel-03438100v1\", \"term\": \"br\\u00e9sil\", \"tfidf\": 0.29848217216119305}, {\"document\": \"tel-03438100v1\", \"term\": \"coudreau\", \"tfidf\": 0.15927383922533997}, {\"document\": \"tel-03438100v1\", \"term\": \"ver\\u00edssimo\", \"tfidf\": 0.1546070437629479}, {\"document\": \"tel-03438100v1\", \"term\": \"nery\", \"tfidf\": 0.15348524159797886}, {\"document\": \"tel-03438101v1\", \"term\": \"patients\", \"tfidf\": 0.4117607940854446}, {\"document\": \"tel-03438101v1\", \"term\": \"alcohol\", \"tfidf\": 0.3826183650974775}, {\"document\": \"tel-03438101v1\", \"term\": \"tual\", \"tfidf\": 0.21585208888221505}, {\"document\": \"tel-03438101v1\", \"term\": \"alcool\", \"tfidf\": 0.21392830047436853}, {\"document\": \"tel-03438101v1\", \"term\": \"korsakoff\", \"tfidf\": 0.16771350528149187}, {\"document\": \"tel-03438102v1\", \"term\": \"vo2\", \"tfidf\": 0.6145424170117387}, {\"document\": \"tel-03438102v1\", \"term\": \"temp\\u00e9rature\", \"tfidf\": 0.2557129249546325}, {\"document\": \"tel-03438102v1\", \"term\": \"minces\", \"tfidf\": 0.18529008642085767}, {\"document\": \"tel-03438102v1\", \"term\": \"vanadium\", \"tfidf\": 0.1810997260380197}, {\"document\": \"tel-03438102v1\", \"term\": \"couches\", \"tfidf\": 0.1762195772684298}, {\"document\": \"tel-03438103v1\", \"term\": \"postnatal\", \"tfidf\": 0.753180134290167}, {\"document\": \"tel-03438103v1\", \"term\": \"pregnancy\", \"tfidf\": 0.3706471551546669}, {\"document\": \"tel-03438103v1\", \"term\": \"exposome\", \"tfidf\": 0.1991299332395715}, {\"document\": \"tel-03438103v1\", \"term\": \"rownames\", \"tfidf\": 0.11901197460444916}, {\"document\": \"tel-03438103v1\", \"term\": \"300m\", \"tfidf\": 0.09531729304409041}, {\"document\": \"tel-03438104v1\", \"term\": \"bones\", \"tfidf\": 0.2645461300035481}, {\"document\": \"tel-03438104v1\", \"term\": \"shape\", \"tfidf\": 0.2326578951720973}, {\"document\": \"tel-03438104v1\", \"term\": \"distal\", \"tfidf\": 0.19243019249141602}, {\"document\": \"tel-03438104v1\", \"term\": \"rhinos\", \"tfidf\": 0.16742049294492167}, {\"document\": \"tel-03438104v1\", \"term\": \"limb\", \"tfidf\": 0.1661075486200897}, {\"document\": \"tel-03438105v1\", \"term\": \"entartrage\", \"tfidf\": 0.3232395295938548}, {\"document\": \"tel-03438105v1\", \"term\": \"zinc\", \"tfidf\": 0.24145923797619379}, {\"document\": \"tel-03438105v1\", \"term\": \"carbonate\", \"tfidf\": 0.23029483862960579}, {\"document\": \"tel-03438105v1\", \"term\": \"caco3\", \"tfidf\": 0.2273301910332284}, {\"document\": \"tel-03438105v1\", \"term\": \"ions\", \"tfidf\": 0.22642934149182595}, {\"document\": \"tel-03438755v1\", \"term\": \"control\", \"tfidf\": 0.3475930906863195}, {\"document\": \"tel-03438755v1\", \"term\": \"quadrotor\", \"tfidf\": 0.29553857267220845}, {\"document\": \"tel-03438755v1\", \"term\": \"vehicle\", \"tfidf\": 0.26143872856945166}, {\"document\": \"tel-03438755v1\", \"term\": \"drone\", \"tfidf\": 0.17632744943830297}, {\"document\": \"tel-03438755v1\", \"term\": \"fault\", \"tfidf\": 0.17500395654661088}, {\"document\": \"tel-03438811v1\", \"term\": \"agricultores\", \"tfidf\": 0.6845537682530342}, {\"document\": \"tel-03438811v1\", \"term\": \"agricultura\", \"tfidf\": 0.21385502593627573}, {\"document\": \"tel-03438811v1\", \"term\": \"agricultor\", \"tfidf\": 0.21131505983853738}, {\"document\": \"tel-03438811v1\", \"term\": \"ecol\\u00f3gicos\", \"tfidf\": 0.18012518927588156}, {\"document\": \"tel-03438811v1\", \"term\": \"qv\", \"tfidf\": 0.16248451033772734}, {\"document\": \"tel-03438828v1\", \"term\": \"toy\", \"tfidf\": 0.2903332640627255}, {\"document\": \"tel-03438828v1\", \"term\": \"learning\", \"tfidf\": 0.28058229235373744}, {\"document\": \"tel-03438828v1\", \"term\": \"tool\", \"tfidf\": 0.2722848772413454}, {\"document\": \"tel-03438828v1\", \"term\": \"goal\", \"tfidf\": 0.24537538653050667}, {\"document\": \"tel-03438828v1\", \"term\": \"exploration\", \"tfidf\": 0.19955304927206519}, {\"document\": \"tel-03438829v1\", \"term\": \"tieta\", \"tfidf\": 0.25525110886435537}, {\"document\": \"tel-03438829v1\", \"term\": \"novela\", \"tfidf\": 0.18898213454266186}, {\"document\": \"tel-03438829v1\", \"term\": \"beata\", \"tfidf\": 0.18310564958107517}, {\"document\": \"tel-03438829v1\", \"term\": \"beatas\", \"tfidf\": 0.17836141934685865}, {\"document\": \"tel-03438829v1\", \"term\": \"roque\", \"tfidf\": 0.16990099721314234}, {\"document\": \"tel-03438863v1\", \"term\": \"causal\", \"tfidf\": 0.47133940140623154}, {\"document\": \"tel-03438863v1\", \"term\": \"xt\", \"tfidf\": 0.4390076390906619}, {\"document\": \"tel-03438863v1\", \"term\": \"time\", \"tfidf\": 0.23109845356592001}, {\"document\": \"tel-03438863v1\", \"term\": \"pq\", \"tfidf\": 0.2297089508101526}, {\"document\": \"tel-03438863v1\", \"term\": \"causation\", \"tfidf\": 0.21025284206664477}, {\"document\": \"tel-03438921v1\", \"term\": \"stirling\", \"tfidf\": 0.6174080363717376}, {\"document\": \"tel-03438921v1\", \"term\": \"cooling\", \"tfidf\": 0.2556585674026953}, {\"document\": \"tel-03438921v1\", \"term\": \"heat\", \"tfidf\": 0.2355057533953873}, {\"document\": \"tel-03438921v1\", \"term\": \"losses\", \"tfidf\": 0.2074452795193787}, {\"document\": \"tel-03438921v1\", \"term\": \"regenerator\", \"tfidf\": 0.20438931180241557}, {\"document\": \"tel-03438923v1\", \"term\": \"lisa\", \"tfidf\": 0.3761739542664583}, {\"document\": \"tel-03438923v1\", \"term\": \"bruit\", \"tfidf\": 0.27469365284909736}, {\"document\": \"tel-03438923v1\", \"term\": \"10\", \"tfidf\": 0.26515493609982593}, {\"document\": \"tel-03438923v1\", \"term\": \"sgwb\", \"tfidf\": 0.20635477625836143}, {\"document\": \"tel-03438923v1\", \"term\": \"cosmologique\", \"tfidf\": 0.18599055993862956}, {\"document\": \"tel-03438925v1\", \"term\": \"lungs\", \"tfidf\": 0.47706043504259743}, {\"document\": \"tel-03438925v1\", \"term\": \"tree\", \"tfidf\": 0.38125612060666725}, {\"document\": \"tel-03438925v1\", \"term\": \"hfcwo\", \"tfidf\": 0.2754530303713438}, {\"document\": \"tel-03438925v1\", \"term\": \"mucus\", \"tfidf\": 0.18746324686748048}, {\"document\": \"tel-03438925v1\", \"term\": \"airways\", \"tfidf\": 0.16011961118805218}, {\"document\": \"tel-03438938v1\", \"term\": \"suspensions\", \"tfidf\": 0.49544147563173585}, {\"document\": \"tel-03438938v1\", \"term\": \"particules\", \"tfidf\": 0.34722346216484246}, {\"document\": \"tel-03438938v1\", \"term\": \"viscosit\\u00e9\", \"tfidf\": 0.29122428919645893}, {\"document\": \"tel-03438938v1\", \"term\": \"pdms\", \"tfidf\": 0.24966335338184878}, {\"document\": \"tel-03438938v1\", \"term\": \"cisaillement\", \"tfidf\": 0.17719506413851385}, {\"document\": \"tel-03439261v1\", \"term\": \"pendulum\", \"tfidf\": 0.6421674490844805}, {\"document\": \"tel-03439261v1\", \"term\": \"zaouali\", \"tfidf\": 0.2680622909623223}, {\"document\": \"tel-03439261v1\", \"term\": \"rott\", \"tfidf\": 0.20352872768778565}, {\"document\": \"tel-03439261v1\", \"term\": \"energy\", \"tfidf\": 0.15475729458045515}, {\"document\": \"tel-03439261v1\", \"term\": \"rotating\", \"tfidf\": 0.12709678113654777}, {\"document\": \"tel-03439346v1\", \"term\": \"droit\", \"tfidf\": 0.36531619344218413}, {\"document\": \"tel-03439346v1\", \"term\": \"art\", \"tfidf\": 0.3405405899923027}, {\"document\": \"tel-03439346v1\", \"term\": \"artiste\", \"tfidf\": 0.3099013058255401}, {\"document\": \"tel-03439346v1\", \"term\": \"\\u0153uvre\", \"tfidf\": 0.2808927089843395}, {\"document\": \"tel-03439346v1\", \"term\": \"corps\", \"tfidf\": 0.26913980122764297}, {\"document\": \"tel-03439354v1\", \"term\": \"credit\", \"tfidf\": 0.5707620552791047}, {\"document\": \"tel-03439354v1\", \"term\": \"bank\", \"tfidf\": 0.28821232733635765}, {\"document\": \"tel-03439354v1\", \"term\": \"firm\", \"tfidf\": 0.2496024587149979}, {\"document\": \"tel-03439354v1\", \"term\": \"branch\", \"tfidf\": 0.22402362522162944}, {\"document\": \"tel-03439354v1\", \"term\": \"broadband\", \"tfidf\": 0.20206043942026164}, {\"document\": \"tel-03439358v1\", \"term\": \"iv\", \"tfidf\": 0.25791867953488795}, {\"document\": \"tel-03439358v1\", \"term\": \"iii\", \"tfidf\": 0.2345163469633623}, {\"document\": \"tel-03439358v1\", \"term\": \"bc\", \"tfidf\": 0.23342636093614602}, {\"document\": \"tel-03439358v1\", \"term\": \"phs\", \"tfidf\": 0.23115013824217617}, {\"document\": \"tel-03439358v1\", \"term\": \"obsf\", \"tfidf\": 0.22851012414836225}, {\"document\": \"tel-03439366v1\", \"term\": \"\\u03c3i\", \"tfidf\": 0.21725391222064433}, {\"document\": \"tel-03439366v1\", \"term\": \"zp\", \"tfidf\": 0.19932303276100297}, {\"document\": \"tel-03439366v1\", \"term\": \"encryption\", \"tfidf\": 0.18984874245862213}, {\"document\": \"tel-03439366v1\", \"term\": \"keys\", \"tfidf\": 0.17926054209099512}, {\"document\": \"tel-03439366v1\", \"term\": \"proof\", \"tfidf\": 0.1770647341293013}, {\"document\": \"tel-03439538v1\", \"term\": \"ch\\u00e2taignier\", \"tfidf\": 0.4319271625502944}, {\"document\": \"tel-03439538v1\", \"term\": \"ch\\u00e2taigniers\", \"tfidf\": 0.3615807200718675}, {\"document\": \"tel-03439538v1\", \"term\": \"vari\\u00e9t\\u00e9s\", \"tfidf\": 0.2750271834782318}, {\"document\": \"tel-03439538v1\", \"term\": \"pyr\\u00e9n\\u00e9es\", \"tfidf\": 0.20872865585859487}, {\"document\": \"tel-03439538v1\", \"term\": \"ch\\u00e2taignes\", \"tfidf\": 0.17833953112802137}, {\"document\": \"tel-03440058v1\", \"term\": \"microfinance\", \"tfidf\": 0.386570745450768}, {\"document\": \"tel-03440058v1\", \"term\": \"imf\", \"tfidf\": 0.3637189236183988}, {\"document\": \"tel-03440058v1\", \"term\": \"burundi\", \"tfidf\": 0.3582104188507447}, {\"document\": \"tel-03440058v1\", \"term\": \"microentrepreneuriat\", \"tfidf\": 0.25409615190299817}, {\"document\": \"tel-03440058v1\", \"term\": \"nsengiyumva\", \"tfidf\": 0.22020292665160082}, {\"document\": \"tel-03440181v1\", \"term\": \"rna\", \"tfidf\": 0.385586570212494}, {\"document\": \"tel-03440181v1\", \"term\": \"arn\", \"tfidf\": 0.36229217521640844}, {\"document\": \"tel-03440181v1\", \"term\": \"3d\", \"tfidf\": 0.19622337971029888}, {\"document\": \"tel-03440181v1\", \"term\": \"structure\", \"tfidf\": 0.1830561042982597}, {\"document\": \"tel-03440181v1\", \"term\": \"structures\", \"tfidf\": 0.16905563011308783}, {\"document\": \"tel-03440243v1\", \"term\": \"patient\", \"tfidf\": 0.297763775536178}, {\"document\": \"tel-03440243v1\", \"term\": \"sant\\u00e9\", \"tfidf\": 0.2820015325321646}, {\"document\": \"tel-03440243v1\", \"term\": \"gestion\", \"tfidf\": 0.24413769073265565}, {\"document\": \"tel-03440243v1\", \"term\": \"risques\", \"tfidf\": 0.22015398577275874}, {\"document\": \"tel-03440243v1\", \"term\": \"recherche\", \"tfidf\": 0.14510878205401753}, {\"document\": \"tel-03440321v1\", \"term\": \"aspirations\", \"tfidf\": 0.5526779123199502}, {\"document\": \"tel-03440321v1\", \"term\": \"education\", \"tfidf\": 0.2619680515666491}, {\"document\": \"tel-03440321v1\", \"term\": \"capability\", \"tfidf\": 0.21057143516271495}, {\"document\": \"tel-03440321v1\", \"term\": \"pupils\", \"tfidf\": 0.17814532916362705}, {\"document\": \"tel-03440321v1\", \"term\": \"school\", \"tfidf\": 0.17756695810709724}]}}, {\"mode\": \"vega-lite\"});\n",
       "</script>"
      ],
      "text/plain": [
       "alt.LayerChart(...)"
      ]
     },
     "execution_count": 112,
     "metadata": {},
     "output_type": "execute_result"
    }
   ],
   "source": [
    "# adding a little randomness to break ties in term ranking\n",
    "top_tfidf_plusRand = top_tfidf.copy()\n",
    "top_tfidf_plusRand['tfidf'] = top_tfidf_plusRand['tfidf'] + np.random.rand(top_tfidf.shape[0])*0.0001\n",
    "\n",
    "# base for all visualizations, with rank calculation\n",
    "base = alt.Chart(top_tfidf_plusRand).encode(\n",
    "    x = 'rank:O',\n",
    "    y = 'document:N'\n",
    ").transform_window(\n",
    "    rank = \"rank()\",\n",
    "    sort = [alt.SortField(\"tfidf\", order=\"descending\")],\n",
    "    groupby = [\"document\"],\n",
    ")\n",
    "# heatmap specification\n",
    "heatmap = base.mark_rect().encode(\n",
    "    color = 'tfidf:Q'\n",
    ")\n",
    "# text labels, white for darker heatmap colors\n",
    "text = base.mark_text(baseline='middle').encode(\n",
    "    text = 'term:N'\n",
    ")\n",
    "# display the three superimposed visualizations\n",
    "(heatmap  + text).properties(width = 600)"
   ]
  },
  {
   "cell_type": "markdown",
   "metadata": {},
   "source": [
    "# N-grams"
   ]
  },
  {
   "cell_type": "markdown",
   "metadata": {},
   "source": [
    "## Bigrams"
   ]
  },
  {
   "cell_type": "code",
   "execution_count": 278,
   "metadata": {},
   "outputs": [],
   "source": [
    "text_titles = [Path(text).stem for text in text_files[:10]]"
   ]
  },
  {
   "cell_type": "code",
   "execution_count": 279,
   "metadata": {},
   "outputs": [],
   "source": [
    "tfidf_vectorizer = TfidfVectorizer(input='filename',stop_words=final_stopwords_list,ngram_range=(2,2))"
   ]
  },
  {
   "cell_type": "code",
   "execution_count": 280,
   "metadata": {},
   "outputs": [
    {
     "name": "stderr",
     "output_type": "stream",
     "text": [
      "C:\\ProgramData\\Anaconda3\\lib\\site-packages\\sklearn\\feature_extraction\\text.py:401: UserWarning: Your stop_words may be inconsistent with your preprocessing. Tokenizing the stop words generated tokens ['ll', 'neuf', 'printr', 'qu', 'quelqu', 've'] not in stop_words.\n",
      "  % sorted(inconsistent)\n"
     ]
    }
   ],
   "source": [
    "tfidf_vector = tfidf_vectorizer.fit_transform(text_files[:10])"
   ]
  },
  {
   "cell_type": "code",
   "execution_count": 281,
   "metadata": {},
   "outputs": [
    {
     "data": {
      "text/plain": [
       "<10x373248 sparse matrix of type '<class 'numpy.float64'>'\n",
       "\twith 378519 stored elements in Compressed Sparse Row format>"
      ]
     },
     "execution_count": 281,
     "metadata": {},
     "output_type": "execute_result"
    }
   ],
   "source": [
    "tfidf_vector"
   ]
  },
  {
   "cell_type": "code",
   "execution_count": 282,
   "metadata": {},
   "outputs": [
    {
     "name": "stderr",
     "output_type": "stream",
     "text": [
      "C:\\ProgramData\\Anaconda3\\lib\\site-packages\\sklearn\\utils\\deprecation.py:87: FutureWarning: Function get_feature_names is deprecated; get_feature_names is deprecated in 1.0 and will be removed in 1.2. Please use get_feature_names_out instead.\n",
      "  warnings.warn(msg, category=FutureWarning)\n"
     ]
    }
   ],
   "source": [
    "tfidf_df = pd.DataFrame(tfidf_vector.toarray(), index=text_titles, columns=tfidf_vectorizer.get_feature_names())"
   ]
  },
  {
   "cell_type": "code",
   "execution_count": 283,
   "metadata": {},
   "outputs": [],
   "source": [
    "tfidf_df.loc['00_Document Frequency'] = (tfidf_df > 0).sum()"
   ]
  },
  {
   "cell_type": "code",
   "execution_count": 284,
   "metadata": {},
   "outputs": [],
   "source": [
    "tfidf_df = tfidf_df.drop('00_Document Frequency', errors='ignore')\n"
   ]
  },
  {
   "cell_type": "code",
   "execution_count": 285,
   "metadata": {
    "scrolled": true
   },
   "outputs": [
    {
     "data": {
      "text/html": [
       "<div>\n",
       "<style scoped>\n",
       "    .dataframe tbody tr th:only-of-type {\n",
       "        vertical-align: middle;\n",
       "    }\n",
       "\n",
       "    .dataframe tbody tr th {\n",
       "        vertical-align: top;\n",
       "    }\n",
       "\n",
       "    .dataframe thead th {\n",
       "        text-align: right;\n",
       "    }\n",
       "</style>\n",
       "<table border=\"1\" class=\"dataframe\">\n",
       "  <thead>\n",
       "    <tr style=\"text-align: right;\">\n",
       "      <th></th>\n",
       "      <th>level_0</th>\n",
       "      <th>level_1</th>\n",
       "      <th>0</th>\n",
       "    </tr>\n",
       "  </thead>\n",
       "  <tbody>\n",
       "    <tr>\n",
       "      <th>0</th>\n",
       "      <td>tel-01689242v1</td>\n",
       "      <td>00 00</td>\n",
       "      <td>0.001802</td>\n",
       "    </tr>\n",
       "    <tr>\n",
       "      <th>1</th>\n",
       "      <td>tel-01689242v1</td>\n",
       "      <td>00 01</td>\n",
       "      <td>0.000000</td>\n",
       "    </tr>\n",
       "    <tr>\n",
       "      <th>2</th>\n",
       "      <td>tel-01689242v1</td>\n",
       "      <td>00 025</td>\n",
       "      <td>0.000000</td>\n",
       "    </tr>\n",
       "    <tr>\n",
       "      <th>3</th>\n",
       "      <td>tel-01689242v1</td>\n",
       "      <td>00 05</td>\n",
       "      <td>0.000000</td>\n",
       "    </tr>\n",
       "    <tr>\n",
       "      <th>4</th>\n",
       "      <td>tel-01689242v1</td>\n",
       "      <td>00 11</td>\n",
       "      <td>0.001517</td>\n",
       "    </tr>\n",
       "  </tbody>\n",
       "</table>\n",
       "</div>"
      ],
      "text/plain": [
       "          level_0 level_1         0\n",
       "0  tel-01689242v1   00 00  0.001802\n",
       "1  tel-01689242v1   00 01  0.000000\n",
       "2  tel-01689242v1  00 025  0.000000\n",
       "3  tel-01689242v1   00 05  0.000000\n",
       "4  tel-01689242v1   00 11  0.001517"
      ]
     },
     "execution_count": 285,
     "metadata": {},
     "output_type": "execute_result"
    }
   ],
   "source": [
    "tfidf_df.stack().reset_index().head()\n"
   ]
  },
  {
   "cell_type": "code",
   "execution_count": 286,
   "metadata": {},
   "outputs": [],
   "source": [
    "tfidf_df = tfidf_df.stack().reset_index()\n"
   ]
  },
  {
   "cell_type": "code",
   "execution_count": 287,
   "metadata": {},
   "outputs": [],
   "source": [
    "tfidf_df = tfidf_df.rename(columns={0:'tfidf', 'level_0': 'document','level_1': 'term', 'level_2': 'term'})\n"
   ]
  },
  {
   "cell_type": "code",
   "execution_count": 288,
   "metadata": {
    "scrolled": false
   },
   "outputs": [
    {
     "data": {
      "text/plain": [
       "<pandas.core.groupby.generic.DataFrameGroupBy object at 0x000001FCC7D05F98>"
      ]
     },
     "execution_count": 288,
     "metadata": {},
     "output_type": "execute_result"
    }
   ],
   "source": [
    "tfidf_df.sort_values(by=['document','tfidf'], ascending=[True,False]).groupby(['document'])\n"
   ]
  },
  {
   "cell_type": "code",
   "execution_count": 289,
   "metadata": {
    "scrolled": false
   },
   "outputs": [],
   "source": [
    "top_tfidf= tfidf_df.sort_values(by=['document','tfidf'], ascending=[True,False]).groupby(['document'])"
   ]
  },
  {
   "cell_type": "code",
   "execution_count": 290,
   "metadata": {
    "scrolled": true
   },
   "outputs": [
    {
     "data": {
      "text/html": [
       "<div>\n",
       "<style scoped>\n",
       "    .dataframe tbody tr th:only-of-type {\n",
       "        vertical-align: middle;\n",
       "    }\n",
       "\n",
       "    .dataframe tbody tr th {\n",
       "        vertical-align: top;\n",
       "    }\n",
       "\n",
       "    .dataframe thead th {\n",
       "        text-align: right;\n",
       "    }\n",
       "</style>\n",
       "<table border=\"1\" class=\"dataframe\">\n",
       "  <thead>\n",
       "    <tr style=\"text-align: right;\">\n",
       "      <th></th>\n",
       "      <th>document</th>\n",
       "      <th>term</th>\n",
       "      <th>tfidf</th>\n",
       "    </tr>\n",
       "  </thead>\n",
       "  <tbody>\n",
       "    <tr>\n",
       "      <th>288046</th>\n",
       "      <td>tel-01689242v1</td>\n",
       "      <td>réseaux sociaux</td>\n",
       "      <td>0.368825</td>\n",
       "    </tr>\n",
       "    <tr>\n",
       "      <th>304930</th>\n",
       "      <td>tel-01689242v1</td>\n",
       "      <td>sociaux numériques</td>\n",
       "      <td>0.358015</td>\n",
       "    </tr>\n",
       "    <tr>\n",
       "      <th>178041</th>\n",
       "      <td>tel-01689242v1</td>\n",
       "      <td>intention adoption</td>\n",
       "      <td>0.330708</td>\n",
       "    </tr>\n",
       "    <tr>\n",
       "      <th>30303</th>\n",
       "      <td>tel-01689242v1</td>\n",
       "      <td>adoption rsn</td>\n",
       "      <td>0.329191</td>\n",
       "    </tr>\n",
       "    <tr>\n",
       "      <th>141720</th>\n",
       "      <td>tel-01689242v1</td>\n",
       "      <td>facilité utilisation</td>\n",
       "      <td>0.159286</td>\n",
       "    </tr>\n",
       "  </tbody>\n",
       "</table>\n",
       "</div>"
      ],
      "text/plain": [
       "              document                  term     tfidf\n",
       "288046  tel-01689242v1       réseaux sociaux  0.368825\n",
       "304930  tel-01689242v1    sociaux numériques  0.358015\n",
       "178041  tel-01689242v1    intention adoption  0.330708\n",
       "30303   tel-01689242v1          adoption rsn  0.329191\n",
       "141720  tel-01689242v1  facilité utilisation  0.159286"
      ]
     },
     "execution_count": 290,
     "metadata": {},
     "output_type": "execute_result"
    }
   ],
   "source": [
    "top_tfidf.head(5).head(5)"
   ]
  },
  {
   "cell_type": "markdown",
   "metadata": {},
   "source": [
    "## Trigrams"
   ]
  },
  {
   "cell_type": "code",
   "execution_count": 327,
   "metadata": {},
   "outputs": [],
   "source": [
    "text_titles = [Path(text).stem for text in text_files[:5]]"
   ]
  },
  {
   "cell_type": "code",
   "execution_count": 328,
   "metadata": {},
   "outputs": [],
   "source": [
    "tfidf_vectorizer = TfidfVectorizer(input='filename',stop_words=final_stopwords_list,ngram_range=(3,3))"
   ]
  },
  {
   "cell_type": "code",
   "execution_count": 329,
   "metadata": {},
   "outputs": [
    {
     "name": "stderr",
     "output_type": "stream",
     "text": [
      "C:\\ProgramData\\Anaconda3\\lib\\site-packages\\sklearn\\feature_extraction\\text.py:401: UserWarning: Your stop_words may be inconsistent with your preprocessing. Tokenizing the stop words generated tokens ['ll', 'neuf', 'printr', 'qu', 'quelqu', 've'] not in stop_words.\n",
      "  % sorted(inconsistent)\n"
     ]
    }
   ],
   "source": [
    "tfidf_vector = tfidf_vectorizer.fit_transform(text_files[:5])"
   ]
  },
  {
   "cell_type": "code",
   "execution_count": 330,
   "metadata": {},
   "outputs": [
    {
     "data": {
      "text/plain": [
       "<5x118519 sparse matrix of type '<class 'numpy.float64'>'\n",
       "\twith 118684 stored elements in Compressed Sparse Row format>"
      ]
     },
     "execution_count": 330,
     "metadata": {},
     "output_type": "execute_result"
    }
   ],
   "source": [
    "tfidf_vector"
   ]
  },
  {
   "cell_type": "code",
   "execution_count": 331,
   "metadata": {},
   "outputs": [
    {
     "name": "stderr",
     "output_type": "stream",
     "text": [
      "C:\\ProgramData\\Anaconda3\\lib\\site-packages\\sklearn\\utils\\deprecation.py:87: FutureWarning: Function get_feature_names is deprecated; get_feature_names is deprecated in 1.0 and will be removed in 1.2. Please use get_feature_names_out instead.\n",
      "  warnings.warn(msg, category=FutureWarning)\n"
     ]
    }
   ],
   "source": [
    "tfidf_df = pd.DataFrame(tfidf_vector.toarray(), index=text_titles, columns=tfidf_vectorizer.get_feature_names())"
   ]
  },
  {
   "cell_type": "code",
   "execution_count": 332,
   "metadata": {},
   "outputs": [],
   "source": [
    "tfidf_df.loc['00_Document Frequency'] = (tfidf_df > 0).sum()"
   ]
  },
  {
   "cell_type": "code",
   "execution_count": 333,
   "metadata": {},
   "outputs": [],
   "source": [
    "tfidf_df = tfidf_df.drop('00_Document Frequency', errors='ignore')\n"
   ]
  },
  {
   "cell_type": "code",
   "execution_count": 334,
   "metadata": {
    "scrolled": true
   },
   "outputs": [
    {
     "data": {
      "text/html": [
       "<div>\n",
       "<style scoped>\n",
       "    .dataframe tbody tr th:only-of-type {\n",
       "        vertical-align: middle;\n",
       "    }\n",
       "\n",
       "    .dataframe tbody tr th {\n",
       "        vertical-align: top;\n",
       "    }\n",
       "\n",
       "    .dataframe thead th {\n",
       "        text-align: right;\n",
       "    }\n",
       "</style>\n",
       "<table border=\"1\" class=\"dataframe\">\n",
       "  <thead>\n",
       "    <tr style=\"text-align: right;\">\n",
       "      <th></th>\n",
       "      <th>level_0</th>\n",
       "      <th>level_1</th>\n",
       "      <th>0</th>\n",
       "    </tr>\n",
       "  </thead>\n",
       "  <tbody>\n",
       "    <tr>\n",
       "      <th>0</th>\n",
       "      <td>tel-01689242v1</td>\n",
       "      <td>00 00 00</td>\n",
       "      <td>0.001908</td>\n",
       "    </tr>\n",
       "    <tr>\n",
       "      <th>1</th>\n",
       "      <td>tel-01689242v1</td>\n",
       "      <td>00 00 01</td>\n",
       "      <td>0.000000</td>\n",
       "    </tr>\n",
       "    <tr>\n",
       "      <th>2</th>\n",
       "      <td>tel-01689242v1</td>\n",
       "      <td>00 00 15</td>\n",
       "      <td>0.000000</td>\n",
       "    </tr>\n",
       "    <tr>\n",
       "      <th>3</th>\n",
       "      <td>tel-01689242v1</td>\n",
       "      <td>00 00 73</td>\n",
       "      <td>0.002365</td>\n",
       "    </tr>\n",
       "    <tr>\n",
       "      <th>4</th>\n",
       "      <td>tel-01689242v1</td>\n",
       "      <td>00 00 gmt</td>\n",
       "      <td>0.000000</td>\n",
       "    </tr>\n",
       "  </tbody>\n",
       "</table>\n",
       "</div>"
      ],
      "text/plain": [
       "          level_0    level_1         0\n",
       "0  tel-01689242v1   00 00 00  0.001908\n",
       "1  tel-01689242v1   00 00 01  0.000000\n",
       "2  tel-01689242v1   00 00 15  0.000000\n",
       "3  tel-01689242v1   00 00 73  0.002365\n",
       "4  tel-01689242v1  00 00 gmt  0.000000"
      ]
     },
     "execution_count": 334,
     "metadata": {},
     "output_type": "execute_result"
    }
   ],
   "source": [
    "tfidf_df.stack().reset_index().head()\n"
   ]
  },
  {
   "cell_type": "code",
   "execution_count": 335,
   "metadata": {},
   "outputs": [],
   "source": [
    "tfidf_df = tfidf_df.stack().reset_index()\n"
   ]
  },
  {
   "cell_type": "code",
   "execution_count": 336,
   "metadata": {},
   "outputs": [],
   "source": [
    "tfidf_df = tfidf_df.rename(columns={0:'tfidf', 'level_0': 'document','level_1': 'term', 'level_2': 'term'})\n"
   ]
  },
  {
   "cell_type": "code",
   "execution_count": 337,
   "metadata": {
    "scrolled": false
   },
   "outputs": [
    {
     "data": {
      "text/plain": [
       "<pandas.core.groupby.generic.DataFrameGroupBy object at 0x000001FC8FF76828>"
      ]
     },
     "execution_count": 337,
     "metadata": {},
     "output_type": "execute_result"
    }
   ],
   "source": [
    "tfidf_df.sort_values(by=['document','tfidf'], ascending=[True,False]).groupby(['document'])\n"
   ]
  },
  {
   "cell_type": "code",
   "execution_count": 338,
   "metadata": {
    "scrolled": false
   },
   "outputs": [],
   "source": [
    "top_tfidf= tfidf_df.sort_values(by=['document','tfidf'], ascending=[True,False]).groupby(['document'])"
   ]
  },
  {
   "cell_type": "code",
   "execution_count": 339,
   "metadata": {
    "scrolled": false
   },
   "outputs": [
    {
     "data": {
      "text/html": [
       "<div>\n",
       "<style scoped>\n",
       "    .dataframe tbody tr th:only-of-type {\n",
       "        vertical-align: middle;\n",
       "    }\n",
       "\n",
       "    .dataframe tbody tr th {\n",
       "        vertical-align: top;\n",
       "    }\n",
       "\n",
       "    .dataframe thead th {\n",
       "        text-align: right;\n",
       "    }\n",
       "</style>\n",
       "<table border=\"1\" class=\"dataframe\">\n",
       "  <thead>\n",
       "    <tr style=\"text-align: right;\">\n",
       "      <th></th>\n",
       "      <th>document</th>\n",
       "      <th>term</th>\n",
       "      <th>tfidf</th>\n",
       "    </tr>\n",
       "  </thead>\n",
       "  <tbody>\n",
       "    <tr>\n",
       "      <th>92561</th>\n",
       "      <td>tel-01689242v1</td>\n",
       "      <td>réseaux sociaux numériques</td>\n",
       "      <td>0.548699</td>\n",
       "    </tr>\n",
       "    <tr>\n",
       "      <th>60632</th>\n",
       "      <td>tel-01689242v1</td>\n",
       "      <td>intention adoption rsn</td>\n",
       "      <td>0.331112</td>\n",
       "    </tr>\n",
       "    <tr>\n",
       "      <th>47572</th>\n",
       "      <td>tel-01689242v1</td>\n",
       "      <td>facilité utilisation perçue</td>\n",
       "      <td>0.189207</td>\n",
       "    </tr>\n",
       "    <tr>\n",
       "      <th>29799</th>\n",
       "      <td>tel-01689242v1</td>\n",
       "      <td>compatibilité tâche technologie</td>\n",
       "      <td>0.160826</td>\n",
       "    </tr>\n",
       "    <tr>\n",
       "      <th>14850</th>\n",
       "      <td>tel-01689242v1</td>\n",
       "      <td>adoption réseaux sociaux</td>\n",
       "      <td>0.115889</td>\n",
       "    </tr>\n",
       "    <tr>\n",
       "      <th>224486</th>\n",
       "      <td>tel-03096870v2</td>\n",
       "      <td>tr hℓ tr</td>\n",
       "      <td>0.200508</td>\n",
       "    </tr>\n",
       "    <tr>\n",
       "      <th>174932</th>\n",
       "      <td>tel-03096870v2</td>\n",
       "      <td>hℓ tr hℓ</td>\n",
       "      <td>0.191790</td>\n",
       "    </tr>\n",
       "    <tr>\n",
       "      <th>194986</th>\n",
       "      <td>tel-03096870v2</td>\n",
       "      <td>orie yang mills</td>\n",
       "      <td>0.165637</td>\n",
       "    </tr>\n",
       "    <tr>\n",
       "      <th>187562</th>\n",
       "      <td>tel-03096870v2</td>\n",
       "      <td>mesure yang mills</td>\n",
       "      <td>0.148201</td>\n",
       "    </tr>\n",
       "    <tr>\n",
       "      <th>233570</th>\n",
       "      <td>tel-03096870v2</td>\n",
       "      <td>yang mills dimensions</td>\n",
       "      <td>0.139484</td>\n",
       "    </tr>\n",
       "  </tbody>\n",
       "</table>\n",
       "</div>"
      ],
      "text/plain": [
       "              document                             term     tfidf\n",
       "92561   tel-01689242v1       réseaux sociaux numériques  0.548699\n",
       "60632   tel-01689242v1           intention adoption rsn  0.331112\n",
       "47572   tel-01689242v1      facilité utilisation perçue  0.189207\n",
       "29799   tel-01689242v1  compatibilité tâche technologie  0.160826\n",
       "14850   tel-01689242v1         adoption réseaux sociaux  0.115889\n",
       "224486  tel-03096870v2                         tr hℓ tr  0.200508\n",
       "174932  tel-03096870v2                         hℓ tr hℓ  0.191790\n",
       "194986  tel-03096870v2                  orie yang mills  0.165637\n",
       "187562  tel-03096870v2                mesure yang mills  0.148201\n",
       "233570  tel-03096870v2            yang mills dimensions  0.139484"
      ]
     },
     "execution_count": 339,
     "metadata": {},
     "output_type": "execute_result"
    }
   ],
   "source": [
    "top_tfidf.head(5).head(10)"
   ]
  },
  {
   "cell_type": "markdown",
   "metadata": {},
   "source": [
    "## Quadrigrams"
   ]
  },
  {
   "cell_type": "code",
   "execution_count": 340,
   "metadata": {},
   "outputs": [],
   "source": [
    "text_titles = [Path(text).stem for text in text_files[:5]]"
   ]
  },
  {
   "cell_type": "code",
   "execution_count": 341,
   "metadata": {},
   "outputs": [],
   "source": [
    "tfidf_vectorizer = TfidfVectorizer(input='filename',stop_words=final_stopwords_list,ngram_range=(4,4))"
   ]
  },
  {
   "cell_type": "code",
   "execution_count": 342,
   "metadata": {},
   "outputs": [
    {
     "name": "stderr",
     "output_type": "stream",
     "text": [
      "C:\\ProgramData\\Anaconda3\\lib\\site-packages\\sklearn\\feature_extraction\\text.py:401: UserWarning: Your stop_words may be inconsistent with your preprocessing. Tokenizing the stop words generated tokens ['ll', 'neuf', 'printr', 'qu', 'quelqu', 've'] not in stop_words.\n",
      "  % sorted(inconsistent)\n"
     ]
    }
   ],
   "source": [
    "tfidf_vector = tfidf_vectorizer.fit_transform(text_files[:5])"
   ]
  },
  {
   "cell_type": "code",
   "execution_count": 343,
   "metadata": {},
   "outputs": [
    {
     "data": {
      "text/plain": [
       "<5x127217 sparse matrix of type '<class 'numpy.float64'>'\n",
       "\twith 127360 stored elements in Compressed Sparse Row format>"
      ]
     },
     "execution_count": 343,
     "metadata": {},
     "output_type": "execute_result"
    }
   ],
   "source": [
    "tfidf_vector"
   ]
  },
  {
   "cell_type": "code",
   "execution_count": 344,
   "metadata": {},
   "outputs": [
    {
     "name": "stderr",
     "output_type": "stream",
     "text": [
      "C:\\ProgramData\\Anaconda3\\lib\\site-packages\\sklearn\\utils\\deprecation.py:87: FutureWarning: Function get_feature_names is deprecated; get_feature_names is deprecated in 1.0 and will be removed in 1.2. Please use get_feature_names_out instead.\n",
      "  warnings.warn(msg, category=FutureWarning)\n"
     ]
    }
   ],
   "source": [
    "tfidf_df = pd.DataFrame(tfidf_vector.toarray(), index=text_titles, columns=tfidf_vectorizer.get_feature_names())"
   ]
  },
  {
   "cell_type": "code",
   "execution_count": 345,
   "metadata": {},
   "outputs": [],
   "source": [
    "tfidf_df.loc['00_Document Frequency'] = (tfidf_df > 0).sum()"
   ]
  },
  {
   "cell_type": "code",
   "execution_count": 346,
   "metadata": {},
   "outputs": [],
   "source": [
    "tfidf_df = tfidf_df.drop('00_Document Frequency', errors='ignore')\n"
   ]
  },
  {
   "cell_type": "code",
   "execution_count": 347,
   "metadata": {
    "scrolled": true
   },
   "outputs": [
    {
     "data": {
      "text/html": [
       "<div>\n",
       "<style scoped>\n",
       "    .dataframe tbody tr th:only-of-type {\n",
       "        vertical-align: middle;\n",
       "    }\n",
       "\n",
       "    .dataframe tbody tr th {\n",
       "        vertical-align: top;\n",
       "    }\n",
       "\n",
       "    .dataframe thead th {\n",
       "        text-align: right;\n",
       "    }\n",
       "</style>\n",
       "<table border=\"1\" class=\"dataframe\">\n",
       "  <thead>\n",
       "    <tr style=\"text-align: right;\">\n",
       "      <th></th>\n",
       "      <th>level_0</th>\n",
       "      <th>level_1</th>\n",
       "      <th>0</th>\n",
       "    </tr>\n",
       "  </thead>\n",
       "  <tbody>\n",
       "    <tr>\n",
       "      <th>0</th>\n",
       "      <td>tel-01689242v1</td>\n",
       "      <td>00 00 00 01</td>\n",
       "      <td>0.000000</td>\n",
       "    </tr>\n",
       "    <tr>\n",
       "      <th>1</th>\n",
       "      <td>tel-01689242v1</td>\n",
       "      <td>00 00 00 73</td>\n",
       "      <td>0.003667</td>\n",
       "    </tr>\n",
       "    <tr>\n",
       "      <th>2</th>\n",
       "      <td>tel-01689242v1</td>\n",
       "      <td>00 00 01 00</td>\n",
       "      <td>0.000000</td>\n",
       "    </tr>\n",
       "    <tr>\n",
       "      <th>3</th>\n",
       "      <td>tel-01689242v1</td>\n",
       "      <td>00 00 01 01</td>\n",
       "      <td>0.000000</td>\n",
       "    </tr>\n",
       "    <tr>\n",
       "      <th>4</th>\n",
       "      <td>tel-01689242v1</td>\n",
       "      <td>00 00 01 contact</td>\n",
       "      <td>0.000000</td>\n",
       "    </tr>\n",
       "  </tbody>\n",
       "</table>\n",
       "</div>"
      ],
      "text/plain": [
       "          level_0           level_1         0\n",
       "0  tel-01689242v1       00 00 00 01  0.000000\n",
       "1  tel-01689242v1       00 00 00 73  0.003667\n",
       "2  tel-01689242v1       00 00 01 00  0.000000\n",
       "3  tel-01689242v1       00 00 01 01  0.000000\n",
       "4  tel-01689242v1  00 00 01 contact  0.000000"
      ]
     },
     "execution_count": 347,
     "metadata": {},
     "output_type": "execute_result"
    }
   ],
   "source": [
    "tfidf_df.stack().reset_index().head()\n"
   ]
  },
  {
   "cell_type": "code",
   "execution_count": 348,
   "metadata": {},
   "outputs": [],
   "source": [
    "tfidf_df = tfidf_df.stack().reset_index()\n"
   ]
  },
  {
   "cell_type": "code",
   "execution_count": 349,
   "metadata": {},
   "outputs": [],
   "source": [
    "tfidf_df = tfidf_df.rename(columns={0:'tfidf', 'level_0': 'document','level_1': 'term', 'level_2': 'term'})\n"
   ]
  },
  {
   "cell_type": "code",
   "execution_count": 350,
   "metadata": {
    "scrolled": false
   },
   "outputs": [
    {
     "data": {
      "text/plain": [
       "<pandas.core.groupby.generic.DataFrameGroupBy object at 0x000001FCC81C7748>"
      ]
     },
     "execution_count": 350,
     "metadata": {},
     "output_type": "execute_result"
    }
   ],
   "source": [
    "tfidf_df.sort_values(by=['document','tfidf'], ascending=[True,False]).groupby(['document'])\n"
   ]
  },
  {
   "cell_type": "code",
   "execution_count": 351,
   "metadata": {
    "scrolled": false
   },
   "outputs": [],
   "source": [
    "top_tfidf= tfidf_df.sort_values(by=['document','tfidf'], ascending=[True,False]).groupby(['document'])"
   ]
  },
  {
   "cell_type": "code",
   "execution_count": 353,
   "metadata": {
    "scrolled": false
   },
   "outputs": [
    {
     "data": {
      "text/html": [
       "<div>\n",
       "<style scoped>\n",
       "    .dataframe tbody tr th:only-of-type {\n",
       "        vertical-align: middle;\n",
       "    }\n",
       "\n",
       "    .dataframe tbody tr th {\n",
       "        vertical-align: top;\n",
       "    }\n",
       "\n",
       "    .dataframe thead th {\n",
       "        text-align: right;\n",
       "    }\n",
       "</style>\n",
       "<table border=\"1\" class=\"dataframe\">\n",
       "  <thead>\n",
       "    <tr style=\"text-align: right;\">\n",
       "      <th></th>\n",
       "      <th>document</th>\n",
       "      <th>term</th>\n",
       "      <th>tfidf</th>\n",
       "    </tr>\n",
       "  </thead>\n",
       "  <tbody>\n",
       "    <tr>\n",
       "      <th>15493</th>\n",
       "      <td>tel-01689242v1</td>\n",
       "      <td>adoption réseaux sociaux numériques</td>\n",
       "      <td>0.176019</td>\n",
       "    </tr>\n",
       "    <tr>\n",
       "      <th>117909</th>\n",
       "      <td>tel-01689242v1</td>\n",
       "      <td>utilisation réseaux sociaux numériques</td>\n",
       "      <td>0.124680</td>\n",
       "    </tr>\n",
       "    <tr>\n",
       "      <th>28178</th>\n",
       "      <td>tel-01689242v1</td>\n",
       "      <td>chapitre présentation résultats enquête</td>\n",
       "      <td>0.110012</td>\n",
       "    </tr>\n",
       "    <tr>\n",
       "      <th>98994</th>\n",
       "      <td>tel-01689242v1</td>\n",
       "      <td>réseaux sociaux numériques bibliothécaires</td>\n",
       "      <td>0.088009</td>\n",
       "    </tr>\n",
       "    <tr>\n",
       "      <th>85615</th>\n",
       "      <td>tel-01689242v1</td>\n",
       "      <td>perçue intention adoption rsn</td>\n",
       "      <td>0.077008</td>\n",
       "    </tr>\n",
       "    <tr>\n",
       "      <th>240774</th>\n",
       "      <td>tel-03096870v2</td>\n",
       "      <td>tr hℓ tr hℓ</td>\n",
       "      <td>0.235362</td>\n",
       "    </tr>\n",
       "    <tr>\n",
       "      <th>209084</th>\n",
       "      <td>tel-03096870v2</td>\n",
       "      <td>orie yang mills dimensions</td>\n",
       "      <td>0.165823</td>\n",
       "    </tr>\n",
       "    <tr>\n",
       "      <th>155384</th>\n",
       "      <td>tel-03096870v2</td>\n",
       "      <td>chapitre orie yang mills</td>\n",
       "      <td>0.149776</td>\n",
       "    </tr>\n",
       "    <tr>\n",
       "      <th>222868</th>\n",
       "      <td>tel-03096870v2</td>\n",
       "      <td>repre sentations irre ductibles</td>\n",
       "      <td>0.123030</td>\n",
       "    </tr>\n",
       "    <tr>\n",
       "      <th>152930</th>\n",
       "      <td>tel-03096870v2</td>\n",
       "      <td>c2 λn c2 λn</td>\n",
       "      <td>0.106983</td>\n",
       "    </tr>\n",
       "    <tr>\n",
       "      <th>274038</th>\n",
       "      <td>tel-03412908v1</td>\n",
       "      <td>aquifères karstiques nord causse</td>\n",
       "      <td>0.242682</td>\n",
       "    </tr>\n",
       "    <tr>\n",
       "      <th>308536</th>\n",
       "      <td>tel-03412908v1</td>\n",
       "      <td>fonctionnement évolution systèmes aquifères</td>\n",
       "      <td>0.242682</td>\n",
       "    </tr>\n",
       "    <tr>\n",
       "      <th>321823</th>\n",
       "      <td>tel-03412908v1</td>\n",
       "      <td>karstiques nord causse martel</td>\n",
       "      <td>0.242682</td>\n",
       "    </tr>\n",
       "    <tr>\n",
       "      <th>332922</th>\n",
       "      <td>tel-03412908v1</td>\n",
       "      <td>nord causse martel corrèze</td>\n",
       "      <td>0.242682</td>\n",
       "    </tr>\n",
       "    <tr>\n",
       "      <th>361334</th>\n",
       "      <td>tel-03412908v1</td>\n",
       "      <td>structure fonctionnement évolution systèmes</td>\n",
       "      <td>0.242682</td>\n",
       "    </tr>\n",
       "  </tbody>\n",
       "</table>\n",
       "</div>"
      ],
      "text/plain": [
       "              document                                         term     tfidf\n",
       "15493   tel-01689242v1          adoption réseaux sociaux numériques  0.176019\n",
       "117909  tel-01689242v1       utilisation réseaux sociaux numériques  0.124680\n",
       "28178   tel-01689242v1      chapitre présentation résultats enquête  0.110012\n",
       "98994   tel-01689242v1   réseaux sociaux numériques bibliothécaires  0.088009\n",
       "85615   tel-01689242v1                perçue intention adoption rsn  0.077008\n",
       "240774  tel-03096870v2                                  tr hℓ tr hℓ  0.235362\n",
       "209084  tel-03096870v2                   orie yang mills dimensions  0.165823\n",
       "155384  tel-03096870v2                     chapitre orie yang mills  0.149776\n",
       "222868  tel-03096870v2              repre sentations irre ductibles  0.123030\n",
       "152930  tel-03096870v2                                  c2 λn c2 λn  0.106983\n",
       "274038  tel-03412908v1             aquifères karstiques nord causse  0.242682\n",
       "308536  tel-03412908v1  fonctionnement évolution systèmes aquifères  0.242682\n",
       "321823  tel-03412908v1                karstiques nord causse martel  0.242682\n",
       "332922  tel-03412908v1                   nord causse martel corrèze  0.242682\n",
       "361334  tel-03412908v1  structure fonctionnement évolution systèmes  0.242682"
      ]
     },
     "execution_count": 353,
     "metadata": {},
     "output_type": "execute_result"
    }
   ],
   "source": [
    "top_tfidf.head(5).head(15)"
   ]
  },
  {
   "cell_type": "markdown",
   "metadata": {},
   "source": [
    "# Distance matrix of cosine similarities between chosen 10 theses documents"
   ]
  },
  {
   "cell_type": "code",
   "execution_count": 305,
   "metadata": {},
   "outputs": [],
   "source": [
    "filesNames = ['tel-03440321v1',\n",
    " 'tel-03440243v1',\n",
    " 'tel-03440181v1',\n",
    " 'tel-03440058v1',\n",
    " 'tel-03439538v1',\n",
    " 'tel-03439366v1',\n",
    " 'tel-03439358v1',\n",
    " 'tel-03439354v1',\n",
    " 'tel-03439346v1',\n",
    " 'tel-03439261v1']"
   ]
  },
  {
   "cell_type": "code",
   "execution_count": 306,
   "metadata": {},
   "outputs": [],
   "source": [
    "directory_path = \"TelTXT//\"\n",
    "\n",
    "text_files = glob.glob(f\"{directory_path}/*.txt\")\n",
    "text_files = text_files[:10]"
   ]
  },
  {
   "cell_type": "code",
   "execution_count": 307,
   "metadata": {},
   "outputs": [],
   "source": [
    "text_titles = [Path(text).stem for text in text_files]"
   ]
  },
  {
   "cell_type": "code",
   "execution_count": 308,
   "metadata": {},
   "outputs": [],
   "source": [
    "tfidf_vectorizer = TfidfVectorizer(input='filename',stop_words=final_stopwords_list)"
   ]
  },
  {
   "cell_type": "code",
   "execution_count": 309,
   "metadata": {},
   "outputs": [
    {
     "name": "stderr",
     "output_type": "stream",
     "text": [
      "C:\\ProgramData\\Anaconda3\\lib\\site-packages\\sklearn\\feature_extraction\\text.py:401: UserWarning: Your stop_words may be inconsistent with your preprocessing. Tokenizing the stop words generated tokens ['ll', 'neuf', 'printr', 'qu', 'quelqu', 've'] not in stop_words.\n",
      "  % sorted(inconsistent)\n"
     ]
    }
   ],
   "source": [
    "tfidf_vector = tfidf_vectorizer.fit_transform(text_files)"
   ]
  },
  {
   "cell_type": "code",
   "execution_count": 310,
   "metadata": {},
   "outputs": [
    {
     "data": {
      "text/plain": [
       "<10x66650 sparse matrix of type '<class 'numpy.float64'>'\n",
       "\twith 91176 stored elements in Compressed Sparse Row format>"
      ]
     },
     "execution_count": 310,
     "metadata": {},
     "output_type": "execute_result"
    }
   ],
   "source": [
    "tfidf_vector"
   ]
  },
  {
   "cell_type": "code",
   "execution_count": 311,
   "metadata": {},
   "outputs": [
    {
     "name": "stderr",
     "output_type": "stream",
     "text": [
      "C:\\ProgramData\\Anaconda3\\lib\\site-packages\\sklearn\\utils\\deprecation.py:87: FutureWarning: Function get_feature_names is deprecated; get_feature_names is deprecated in 1.0 and will be removed in 1.2. Please use get_feature_names_out instead.\n",
      "  warnings.warn(msg, category=FutureWarning)\n"
     ]
    }
   ],
   "source": [
    "tfidf_df = pd.DataFrame(tfidf_vector.toarray(), index=text_titles, columns=tfidf_vectorizer.get_feature_names())\n"
   ]
  },
  {
   "cell_type": "code",
   "execution_count": 312,
   "metadata": {},
   "outputs": [],
   "source": [
    "tfidf_df.loc['00_Document Frequency'] = (tfidf_df > 0).sum()\n"
   ]
  },
  {
   "cell_type": "code",
   "execution_count": 313,
   "metadata": {},
   "outputs": [],
   "source": [
    "tfidf_df = tfidf_df.drop('00_Document Frequency', errors='ignore')\n"
   ]
  },
  {
   "cell_type": "code",
   "execution_count": 314,
   "metadata": {
    "scrolled": true
   },
   "outputs": [
    {
     "data": {
      "text/html": [
       "<div>\n",
       "<style scoped>\n",
       "    .dataframe tbody tr th:only-of-type {\n",
       "        vertical-align: middle;\n",
       "    }\n",
       "\n",
       "    .dataframe tbody tr th {\n",
       "        vertical-align: top;\n",
       "    }\n",
       "\n",
       "    .dataframe thead th {\n",
       "        text-align: right;\n",
       "    }\n",
       "</style>\n",
       "<table border=\"1\" class=\"dataframe\">\n",
       "  <thead>\n",
       "    <tr style=\"text-align: right;\">\n",
       "      <th></th>\n",
       "      <th>level_0</th>\n",
       "      <th>level_1</th>\n",
       "      <th>0</th>\n",
       "    </tr>\n",
       "  </thead>\n",
       "  <tbody>\n",
       "    <tr>\n",
       "      <th>0</th>\n",
       "      <td>tel-01689242v1</td>\n",
       "      <td>00</td>\n",
       "      <td>0.004351</td>\n",
       "    </tr>\n",
       "    <tr>\n",
       "      <th>1</th>\n",
       "      <td>tel-01689242v1</td>\n",
       "      <td>000</td>\n",
       "      <td>0.071359</td>\n",
       "    </tr>\n",
       "    <tr>\n",
       "      <th>2</th>\n",
       "      <td>tel-01689242v1</td>\n",
       "      <td>00001</td>\n",
       "      <td>0.000000</td>\n",
       "    </tr>\n",
       "    <tr>\n",
       "      <th>3</th>\n",
       "      <td>tel-01689242v1</td>\n",
       "      <td>00001l</td>\n",
       "      <td>0.000000</td>\n",
       "    </tr>\n",
       "    <tr>\n",
       "      <th>4</th>\n",
       "      <td>tel-01689242v1</td>\n",
       "      <td>00005</td>\n",
       "      <td>0.000000</td>\n",
       "    </tr>\n",
       "  </tbody>\n",
       "</table>\n",
       "</div>"
      ],
      "text/plain": [
       "          level_0 level_1         0\n",
       "0  tel-01689242v1      00  0.004351\n",
       "1  tel-01689242v1     000  0.071359\n",
       "2  tel-01689242v1   00001  0.000000\n",
       "3  tel-01689242v1  00001l  0.000000\n",
       "4  tel-01689242v1   00005  0.000000"
      ]
     },
     "execution_count": 314,
     "metadata": {},
     "output_type": "execute_result"
    }
   ],
   "source": [
    "tfidf_df.stack().reset_index().head()\n"
   ]
  },
  {
   "cell_type": "code",
   "execution_count": 315,
   "metadata": {},
   "outputs": [],
   "source": [
    "tfidf_df = tfidf_df.stack().reset_index()\n"
   ]
  },
  {
   "cell_type": "code",
   "execution_count": 316,
   "metadata": {},
   "outputs": [],
   "source": [
    "tfidf_df = tfidf_df.rename(columns={0:'tfidf', 'level_0': 'document','level_1': 'term', 'level_2': 'term'})\n"
   ]
  },
  {
   "cell_type": "code",
   "execution_count": 317,
   "metadata": {
    "scrolled": false
   },
   "outputs": [
    {
     "data": {
      "text/plain": [
       "<pandas.core.groupby.generic.DataFrameGroupBy object at 0x000001FCC81C0390>"
      ]
     },
     "execution_count": 317,
     "metadata": {},
     "output_type": "execute_result"
    }
   ],
   "source": [
    "tfidf_df.sort_values(by=['document','tfidf'], ascending=[True,False]).groupby(['document'])\n"
   ]
  },
  {
   "cell_type": "code",
   "execution_count": 318,
   "metadata": {
    "scrolled": false
   },
   "outputs": [],
   "source": [
    "top_tfidf= tfidf_df.sort_values(by=['document','tfidf'], ascending=[True,False]).groupby(['document'])"
   ]
  },
  {
   "cell_type": "code",
   "execution_count": 319,
   "metadata": {
    "scrolled": false
   },
   "outputs": [
    {
     "data": {
      "text/html": [
       "<div>\n",
       "<style scoped>\n",
       "    .dataframe tbody tr th:only-of-type {\n",
       "        vertical-align: middle;\n",
       "    }\n",
       "\n",
       "    .dataframe tbody tr th {\n",
       "        vertical-align: top;\n",
       "    }\n",
       "\n",
       "    .dataframe thead th {\n",
       "        text-align: right;\n",
       "    }\n",
       "</style>\n",
       "<table border=\"1\" class=\"dataframe\">\n",
       "  <thead>\n",
       "    <tr style=\"text-align: right;\">\n",
       "      <th></th>\n",
       "      <th>document</th>\n",
       "      <th>term</th>\n",
       "      <th>tfidf</th>\n",
       "    </tr>\n",
       "  </thead>\n",
       "  <tbody>\n",
       "    <tr>\n",
       "      <th>49795</th>\n",
       "      <td>tel-01689242v1</td>\n",
       "      <td>rsn</td>\n",
       "      <td>0.332799</td>\n",
       "    </tr>\n",
       "    <tr>\n",
       "      <th>3731</th>\n",
       "      <td>tel-01689242v1</td>\n",
       "      <td>adoption</td>\n",
       "      <td>0.304953</td>\n",
       "    </tr>\n",
       "    <tr>\n",
       "      <th>9134</th>\n",
       "      <td>tel-01689242v1</td>\n",
       "      <td>bibliothèques</td>\n",
       "      <td>0.250116</td>\n",
       "    </tr>\n",
       "    <tr>\n",
       "      <th>9133</th>\n",
       "      <td>tel-01689242v1</td>\n",
       "      <td>bibliothèque</td>\n",
       "      <td>0.236304</td>\n",
       "    </tr>\n",
       "    <tr>\n",
       "      <th>9136</th>\n",
       "      <td>tel-01689242v1</td>\n",
       "      <td>bibliothécaires</td>\n",
       "      <td>0.225328</td>\n",
       "    </tr>\n",
       "    <tr>\n",
       "      <th>76569</th>\n",
       "      <td>tel-03096870v2</td>\n",
       "      <td>c2</td>\n",
       "      <td>0.284877</td>\n",
       "    </tr>\n",
       "    <tr>\n",
       "      <th>133164</th>\n",
       "      <td>tel-03096870v2</td>\n",
       "      <td>λn</td>\n",
       "      <td>0.254260</td>\n",
       "    </tr>\n",
       "    <tr>\n",
       "      <th>126587</th>\n",
       "      <td>tel-03096870v2</td>\n",
       "      <td>tr</td>\n",
       "      <td>0.252357</td>\n",
       "    </tr>\n",
       "    <tr>\n",
       "      <th>95424</th>\n",
       "      <td>tel-03096870v2</td>\n",
       "      <td>hℓ</td>\n",
       "      <td>0.208999</td>\n",
       "    </tr>\n",
       "    <tr>\n",
       "      <th>130422</th>\n",
       "      <td>tel-03096870v2</td>\n",
       "      <td>yang</td>\n",
       "      <td>0.192379</td>\n",
       "    </tr>\n",
       "    <tr>\n",
       "      <th>133387</th>\n",
       "      <td>tel-03412908v1</td>\n",
       "      <td>03412908</td>\n",
       "      <td>0.414611</td>\n",
       "    </tr>\n",
       "    <tr>\n",
       "      <th>140073</th>\n",
       "      <td>tel-03412908v1</td>\n",
       "      <td>aquifères</td>\n",
       "      <td>0.276407</td>\n",
       "    </tr>\n",
       "    <tr>\n",
       "      <th>143737</th>\n",
       "      <td>tel-03412908v1</td>\n",
       "      <td>causse</td>\n",
       "      <td>0.276407</td>\n",
       "    </tr>\n",
       "    <tr>\n",
       "      <th>146997</th>\n",
       "      <td>tel-03412908v1</td>\n",
       "      <td>corrèze</td>\n",
       "      <td>0.276407</td>\n",
       "    </tr>\n",
       "    <tr>\n",
       "      <th>168441</th>\n",
       "      <td>tel-03412908v1</td>\n",
       "      <td>karstiques</td>\n",
       "      <td>0.276407</td>\n",
       "    </tr>\n",
       "  </tbody>\n",
       "</table>\n",
       "</div>"
      ],
      "text/plain": [
       "              document             term     tfidf\n",
       "49795   tel-01689242v1              rsn  0.332799\n",
       "3731    tel-01689242v1         adoption  0.304953\n",
       "9134    tel-01689242v1    bibliothèques  0.250116\n",
       "9133    tel-01689242v1     bibliothèque  0.236304\n",
       "9136    tel-01689242v1  bibliothécaires  0.225328\n",
       "76569   tel-03096870v2               c2  0.284877\n",
       "133164  tel-03096870v2               λn  0.254260\n",
       "126587  tel-03096870v2               tr  0.252357\n",
       "95424   tel-03096870v2               hℓ  0.208999\n",
       "130422  tel-03096870v2             yang  0.192379\n",
       "133387  tel-03412908v1         03412908  0.414611\n",
       "140073  tel-03412908v1        aquifères  0.276407\n",
       "143737  tel-03412908v1           causse  0.276407\n",
       "146997  tel-03412908v1          corrèze  0.276407\n",
       "168441  tel-03412908v1       karstiques  0.276407"
      ]
     },
     "execution_count": 319,
     "metadata": {},
     "output_type": "execute_result"
    }
   ],
   "source": [
    "top_tfidf.head().head(15)"
   ]
  },
  {
   "cell_type": "code",
   "execution_count": 320,
   "metadata": {},
   "outputs": [
    {
     "data": {
      "text/plain": [
       "array([1.        , 0.0354408 , 0.02171873, 0.03081323, 0.0520659 ,\n",
       "       0.07895018, 0.06078642, 0.10336703, 0.11482271, 0.00701532])"
      ]
     },
     "execution_count": 320,
     "metadata": {},
     "output_type": "execute_result"
    }
   ],
   "source": [
    "cosine_similarities = linear_kernel(tfidf_vector[0:1], tfidf_vector).flatten()\n",
    "cosine_similarities"
   ]
  },
  {
   "cell_type": "code",
   "execution_count": 321,
   "metadata": {},
   "outputs": [],
   "source": [
    "cosine_similarities = linear_kernel(tfidf_vector)\n"
   ]
  },
  {
   "cell_type": "code",
   "execution_count": 322,
   "metadata": {},
   "outputs": [
    {
     "data": {
      "text/plain": [
       "array([[1.        , 0.0354408 , 0.02171873, 0.03081323, 0.0520659 ,\n",
       "        0.07895018, 0.06078642, 0.10336703, 0.11482271, 0.00701532],\n",
       "       [0.0354408 , 1.        , 0.0104621 , 0.04146731, 0.03825931,\n",
       "        0.02695456, 0.10100862, 0.02313281, 0.03997218, 0.03789834],\n",
       "       [0.02171873, 0.0104621 , 1.        , 0.01094544, 0.00848391,\n",
       "        0.01015373, 0.01788719, 0.01056374, 0.01264582, 0.00419403],\n",
       "       [0.03081323, 0.04146731, 0.01094544, 1.        , 0.10625026,\n",
       "        0.05297779, 0.03311395, 0.01635189, 0.01584493, 0.00654924],\n",
       "       [0.0520659 , 0.03825931, 0.00848391, 0.10625026, 1.        ,\n",
       "        0.05615615, 0.05489794, 0.01689278, 0.02058365, 0.00827723],\n",
       "       [0.07895018, 0.02695456, 0.01015373, 0.05297779, 0.05615615,\n",
       "        1.        , 0.05745994, 0.04330723, 0.06196728, 0.01769252],\n",
       "       [0.06078642, 0.10100862, 0.01788719, 0.03311395, 0.05489794,\n",
       "        0.05745994, 1.        , 0.04325384, 0.06400919, 0.01938306],\n",
       "       [0.10336703, 0.02313281, 0.01056374, 0.01635189, 0.01689278,\n",
       "        0.04330723, 0.04325384, 1.        , 0.14745248, 0.00860912],\n",
       "       [0.11482271, 0.03997218, 0.01264582, 0.01584493, 0.02058365,\n",
       "        0.06196728, 0.06400919, 0.14745248, 1.        , 0.01365775],\n",
       "       [0.00701532, 0.03789834, 0.00419403, 0.00654924, 0.00827723,\n",
       "        0.01769252, 0.01938306, 0.00860912, 0.01365775, 1.        ]])"
      ]
     },
     "execution_count": 322,
     "metadata": {},
     "output_type": "execute_result"
    }
   ],
   "source": [
    "cosine_similarities"
   ]
  },
  {
   "cell_type": "code",
   "execution_count": 323,
   "metadata": {},
   "outputs": [
    {
     "data": {
      "text/plain": [
       "array([[2, 3, 0, 4, 7, 8, 5, 6, 1, 9],\n",
       "       [2, 9, 3, 4, 1, 5, 6, 0, 7, 8],\n",
       "       [9, 2, 3, 4, 1, 6, 5, 0, 8, 7],\n",
       "       [2, 9, 3, 7, 4, 5, 0, 8, 1, 6]], dtype=int64)"
      ]
     },
     "execution_count": 323,
     "metadata": {},
     "output_type": "execute_result"
    }
   ],
   "source": [
    "related_docs_indices = cosine_similarities.argsort()[:-5:-1]\n",
    "related_docs_indices\n"
   ]
  },
  {
   "cell_type": "code",
   "execution_count": 324,
   "metadata": {},
   "outputs": [],
   "source": [
    "pd.DataFrame(cosine_similarities).to_csv('cosine_similarities.csv')"
   ]
  },
  {
   "cell_type": "code",
   "execution_count": 325,
   "metadata": {},
   "outputs": [
    {
     "name": "stdout",
     "output_type": "stream",
     "text": [
      "Distance Matrix:\n",
      " [[0.         1.37058199 1.39377917 1.37860186 1.34905396 1.30533722\n",
      "  1.33243455 1.2697514  1.25326859 1.41404973]\n",
      " [1.37058199 0.         1.40342763 1.35982058 1.36331898 1.37810608\n",
      "  1.27266303 1.38933552 1.36719415 1.36451333]\n",
      " [1.39377917 1.40342763 0.         1.40327303 1.40733462 1.40443264\n",
      "  1.39557774 1.40883999 1.4082209  1.40865585]\n",
      " [1.37860186 1.35982058 1.40327303 0.         1.26433998 1.34250167\n",
      "  1.37116534 1.40222446 1.40349461 1.40911693]\n",
      " [1.34905396 1.36331898 1.40733462 1.26433998 0.         1.33711603\n",
      "  1.3411161  1.40012241 1.395649   1.40779041]\n",
      " [1.30533722 1.37810608 1.40443264 1.34250167 1.33711603 0.\n",
      "  1.33530538 1.35705865 1.3322248  1.39449686]\n",
      " [1.33243455 1.27266303 1.39557774 1.37116534 1.3411161  1.33530538\n",
      "  0.         1.35928744 1.33087061 1.39229202]\n",
      " [1.2697514  1.38933552 1.40883999 1.40222446 1.40012241 1.35705865\n",
      "  1.35928744 0.         1.20619735 1.41228584]\n",
      " [1.25326859 1.36719415 1.4082209  1.40349461 1.395649   1.3322248\n",
      "  1.33087061 1.20619735 0.         1.4074471 ]\n",
      " [1.41404973 1.36451333 1.40865585 1.40911693 1.40779041 1.39449686\n",
      "  1.39229202 1.41228584 1.4074471  0.        ]]\n"
     ]
    }
   ],
   "source": [
    "# compute the distance matrix\n",
    "dist_mat = distance_matrix(list(cosine_similarities), list(cosine_similarities))\n",
    " \n",
    "# display distance matrix\n",
    "print(\"Distance Matrix:\\n\", dist_mat)"
   ]
  },
  {
   "cell_type": "code",
   "execution_count": 326,
   "metadata": {},
   "outputs": [
    {
     "data": {
      "text/html": [
       "<div>\n",
       "<style scoped>\n",
       "    .dataframe tbody tr th:only-of-type {\n",
       "        vertical-align: middle;\n",
       "    }\n",
       "\n",
       "    .dataframe tbody tr th {\n",
       "        vertical-align: top;\n",
       "    }\n",
       "\n",
       "    .dataframe thead th {\n",
       "        text-align: right;\n",
       "    }\n",
       "</style>\n",
       "<table border=\"1\" class=\"dataframe\">\n",
       "  <thead>\n",
       "    <tr style=\"text-align: right;\">\n",
       "      <th></th>\n",
       "      <th>0</th>\n",
       "      <th>1</th>\n",
       "      <th>2</th>\n",
       "      <th>3</th>\n",
       "      <th>4</th>\n",
       "      <th>5</th>\n",
       "      <th>6</th>\n",
       "      <th>7</th>\n",
       "      <th>8</th>\n",
       "      <th>9</th>\n",
       "    </tr>\n",
       "  </thead>\n",
       "  <tbody>\n",
       "    <tr>\n",
       "      <th>0</th>\n",
       "      <td>0.000000</td>\n",
       "      <td>1.370582</td>\n",
       "      <td>1.393779</td>\n",
       "      <td>1.378602</td>\n",
       "      <td>1.349054</td>\n",
       "      <td>1.305337</td>\n",
       "      <td>1.332435</td>\n",
       "      <td>1.269751</td>\n",
       "      <td>1.253269</td>\n",
       "      <td>1.414050</td>\n",
       "    </tr>\n",
       "    <tr>\n",
       "      <th>1</th>\n",
       "      <td>1.370582</td>\n",
       "      <td>0.000000</td>\n",
       "      <td>1.403428</td>\n",
       "      <td>1.359821</td>\n",
       "      <td>1.363319</td>\n",
       "      <td>1.378106</td>\n",
       "      <td>1.272663</td>\n",
       "      <td>1.389336</td>\n",
       "      <td>1.367194</td>\n",
       "      <td>1.364513</td>\n",
       "    </tr>\n",
       "    <tr>\n",
       "      <th>2</th>\n",
       "      <td>1.393779</td>\n",
       "      <td>1.403428</td>\n",
       "      <td>0.000000</td>\n",
       "      <td>1.403273</td>\n",
       "      <td>1.407335</td>\n",
       "      <td>1.404433</td>\n",
       "      <td>1.395578</td>\n",
       "      <td>1.408840</td>\n",
       "      <td>1.408221</td>\n",
       "      <td>1.408656</td>\n",
       "    </tr>\n",
       "    <tr>\n",
       "      <th>3</th>\n",
       "      <td>1.378602</td>\n",
       "      <td>1.359821</td>\n",
       "      <td>1.403273</td>\n",
       "      <td>0.000000</td>\n",
       "      <td>1.264340</td>\n",
       "      <td>1.342502</td>\n",
       "      <td>1.371165</td>\n",
       "      <td>1.402224</td>\n",
       "      <td>1.403495</td>\n",
       "      <td>1.409117</td>\n",
       "    </tr>\n",
       "    <tr>\n",
       "      <th>4</th>\n",
       "      <td>1.349054</td>\n",
       "      <td>1.363319</td>\n",
       "      <td>1.407335</td>\n",
       "      <td>1.264340</td>\n",
       "      <td>0.000000</td>\n",
       "      <td>1.337116</td>\n",
       "      <td>1.341116</td>\n",
       "      <td>1.400122</td>\n",
       "      <td>1.395649</td>\n",
       "      <td>1.407790</td>\n",
       "    </tr>\n",
       "    <tr>\n",
       "      <th>5</th>\n",
       "      <td>1.305337</td>\n",
       "      <td>1.378106</td>\n",
       "      <td>1.404433</td>\n",
       "      <td>1.342502</td>\n",
       "      <td>1.337116</td>\n",
       "      <td>0.000000</td>\n",
       "      <td>1.335305</td>\n",
       "      <td>1.357059</td>\n",
       "      <td>1.332225</td>\n",
       "      <td>1.394497</td>\n",
       "    </tr>\n",
       "    <tr>\n",
       "      <th>6</th>\n",
       "      <td>1.332435</td>\n",
       "      <td>1.272663</td>\n",
       "      <td>1.395578</td>\n",
       "      <td>1.371165</td>\n",
       "      <td>1.341116</td>\n",
       "      <td>1.335305</td>\n",
       "      <td>0.000000</td>\n",
       "      <td>1.359287</td>\n",
       "      <td>1.330871</td>\n",
       "      <td>1.392292</td>\n",
       "    </tr>\n",
       "    <tr>\n",
       "      <th>7</th>\n",
       "      <td>1.269751</td>\n",
       "      <td>1.389336</td>\n",
       "      <td>1.408840</td>\n",
       "      <td>1.402224</td>\n",
       "      <td>1.400122</td>\n",
       "      <td>1.357059</td>\n",
       "      <td>1.359287</td>\n",
       "      <td>0.000000</td>\n",
       "      <td>1.206197</td>\n",
       "      <td>1.412286</td>\n",
       "    </tr>\n",
       "    <tr>\n",
       "      <th>8</th>\n",
       "      <td>1.253269</td>\n",
       "      <td>1.367194</td>\n",
       "      <td>1.408221</td>\n",
       "      <td>1.403495</td>\n",
       "      <td>1.395649</td>\n",
       "      <td>1.332225</td>\n",
       "      <td>1.330871</td>\n",
       "      <td>1.206197</td>\n",
       "      <td>0.000000</td>\n",
       "      <td>1.407447</td>\n",
       "    </tr>\n",
       "    <tr>\n",
       "      <th>9</th>\n",
       "      <td>1.414050</td>\n",
       "      <td>1.364513</td>\n",
       "      <td>1.408656</td>\n",
       "      <td>1.409117</td>\n",
       "      <td>1.407790</td>\n",
       "      <td>1.394497</td>\n",
       "      <td>1.392292</td>\n",
       "      <td>1.412286</td>\n",
       "      <td>1.407447</td>\n",
       "      <td>0.000000</td>\n",
       "    </tr>\n",
       "  </tbody>\n",
       "</table>\n",
       "</div>"
      ],
      "text/plain": [
       "          0         1         2         3         4         5         6  \\\n",
       "0  0.000000  1.370582  1.393779  1.378602  1.349054  1.305337  1.332435   \n",
       "1  1.370582  0.000000  1.403428  1.359821  1.363319  1.378106  1.272663   \n",
       "2  1.393779  1.403428  0.000000  1.403273  1.407335  1.404433  1.395578   \n",
       "3  1.378602  1.359821  1.403273  0.000000  1.264340  1.342502  1.371165   \n",
       "4  1.349054  1.363319  1.407335  1.264340  0.000000  1.337116  1.341116   \n",
       "5  1.305337  1.378106  1.404433  1.342502  1.337116  0.000000  1.335305   \n",
       "6  1.332435  1.272663  1.395578  1.371165  1.341116  1.335305  0.000000   \n",
       "7  1.269751  1.389336  1.408840  1.402224  1.400122  1.357059  1.359287   \n",
       "8  1.253269  1.367194  1.408221  1.403495  1.395649  1.332225  1.330871   \n",
       "9  1.414050  1.364513  1.408656  1.409117  1.407790  1.394497  1.392292   \n",
       "\n",
       "          7         8         9  \n",
       "0  1.269751  1.253269  1.414050  \n",
       "1  1.389336  1.367194  1.364513  \n",
       "2  1.408840  1.408221  1.408656  \n",
       "3  1.402224  1.403495  1.409117  \n",
       "4  1.400122  1.395649  1.407790  \n",
       "5  1.357059  1.332225  1.394497  \n",
       "6  1.359287  1.330871  1.392292  \n",
       "7  0.000000  1.206197  1.412286  \n",
       "8  1.206197  0.000000  1.407447  \n",
       "9  1.412286  1.407447  0.000000  "
      ]
     },
     "execution_count": 326,
     "metadata": {},
     "output_type": "execute_result"
    }
   ],
   "source": [
    "pd.DataFrame(dist_mat)"
   ]
  },
  {
   "cell_type": "markdown",
   "metadata": {},
   "source": [
    "![Cosine Similarities between the theses documents](cosine_similarities_plot.png)"
   ]
  }
 ],
 "metadata": {
  "kernelspec": {
   "display_name": "Python 3 (ipykernel)",
   "language": "python",
   "name": "python3"
  },
  "language_info": {
   "codemirror_mode": {
    "name": "ipython",
    "version": 3
   },
   "file_extension": ".py",
   "mimetype": "text/x-python",
   "name": "python",
   "nbconvert_exporter": "python",
   "pygments_lexer": "ipython3",
   "version": "3.9.12"
  }
 },
 "nbformat": 4,
 "nbformat_minor": 2
}
